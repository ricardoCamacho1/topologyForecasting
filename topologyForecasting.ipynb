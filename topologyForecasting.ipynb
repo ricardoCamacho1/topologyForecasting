{
 "cells": [
  {
   "cell_type": "code",
   "execution_count": 24,
   "metadata": {},
   "outputs": [
    {
     "data": {
      "text/plain": [
       "(array([0, 1, 2, 3, 4, 5, 6, 7, 8, 9]),\n",
       " array([-10,  -9,  -8,  -7,  -6,  -5,  -4,  -3,  -2,  -1]))"
      ]
     },
     "execution_count": 24,
     "metadata": {},
     "output_type": "execute_result"
    }
   ],
   "source": [
    "import numpy as np\n",
    "\n",
    "n_timestamps = 10\n",
    "X, y = np.arange(n_timestamps), np.arange(n_timestamps) - n_timestamps\n",
    "X, y"
   ]
  },
  {
   "cell_type": "code",
   "execution_count": 25,
   "metadata": {},
   "outputs": [
    {
     "data": {
      "text/plain": [
       "(array([[1, 2, 3],\n",
       "        [3, 4, 5],\n",
       "        [5, 6, 7],\n",
       "        [7, 8, 9]]),\n",
       " array([-7, -5, -3, -1]))"
      ]
     },
     "execution_count": 25,
     "metadata": {},
     "output_type": "execute_result"
    }
   ],
   "source": [
    "from gtda.time_series import SlidingWindow\n",
    "\n",
    "window_size = 3\n",
    "stride = 2\n",
    "\n",
    "SW = SlidingWindow(size=window_size, stride=stride)\n",
    "X_sw, yr = SW.fit_transform_resample(X, y)\n",
    "X_sw, yr"
   ]
  },
  {
   "cell_type": "code",
   "execution_count": 26,
   "metadata": {},
   "outputs": [
    {
     "data": {
      "text/plain": [
       "array([[ 1, 15],\n",
       "       [13,  8],\n",
       "       [ 8, 17],\n",
       "       [ 1, 13],\n",
       "       [ 4,  1],\n",
       "       [10, 19],\n",
       "       [14, 15],\n",
       "       [14, 15],\n",
       "       [10,  2],\n",
       "       [16,  9]])"
      ]
     },
     "execution_count": 26,
     "metadata": {},
     "output_type": "execute_result"
    }
   ],
   "source": [
    "rng = np.random.default_rng(42)\n",
    "\n",
    "n_features = 2\n",
    "\n",
    "X = rng.integers(0, high=20, size=(n_timestamps, n_features), dtype=int)\n",
    "X"
   ]
  },
  {
   "cell_type": "code",
   "execution_count": 27,
   "metadata": {},
   "outputs": [
    {
     "data": {
      "text/plain": [
       "(array([[[13,  8],\n",
       "         [ 8, 17],\n",
       "         [ 1, 13]],\n",
       " \n",
       "        [[ 1, 13],\n",
       "         [ 4,  1],\n",
       "         [10, 19]],\n",
       " \n",
       "        [[10, 19],\n",
       "         [14, 15],\n",
       "         [14, 15]],\n",
       " \n",
       "        [[14, 15],\n",
       "         [10,  2],\n",
       "         [16,  9]]]),\n",
       " array([-7, -5, -3, -1]))"
      ]
     },
     "execution_count": 27,
     "metadata": {},
     "output_type": "execute_result"
    }
   ],
   "source": [
    "SW = SlidingWindow(size=window_size, stride=stride)\n",
    "X_sw, yr = SW.fit_transform_resample(X, y)\n",
    "X_sw, yr"
   ]
  },
  {
   "cell_type": "code",
   "execution_count": 28,
   "metadata": {},
   "outputs": [
    {
     "data": {
      "text/plain": [
       "array([[0.18228669, 0.        ],\n",
       "       [0.03606068, 0.        ],\n",
       "       [0.28866041, 0.        ],\n",
       "       [0.01781238, 0.        ]])"
      ]
     },
     "execution_count": 28,
     "metadata": {},
     "output_type": "execute_result"
    }
   ],
   "source": [
    "from gtda.time_series import PearsonDissimilarity\n",
    "from gtda.homology import VietorisRipsPersistence\n",
    "from gtda.diagrams import Amplitude\n",
    "\n",
    "PD = PearsonDissimilarity()\n",
    "X_pd = PD.fit_transform(X_sw)\n",
    "VR = VietorisRipsPersistence(metric=\"precomputed\")\n",
    "X_vr = VR.fit_transform(X_pd)  # \"precomputed\" required on dissimilarity data\n",
    "Ampl = Amplitude()\n",
    "X_a = Ampl.fit_transform(X_vr)\n",
    "X_a"
   ]
  },
  {
   "cell_type": "code",
   "execution_count": 29,
   "metadata": {},
   "outputs": [
    {
     "data": {
      "text/html": [
       "<style>#sk-container-id-1 {color: black;background-color: white;}#sk-container-id-1 pre{padding: 0;}#sk-container-id-1 div.sk-toggleable {background-color: white;}#sk-container-id-1 label.sk-toggleable__label {cursor: pointer;display: block;width: 100%;margin-bottom: 0;padding: 0.3em;box-sizing: border-box;text-align: center;}#sk-container-id-1 label.sk-toggleable__label-arrow:before {content: \"▸\";float: left;margin-right: 0.25em;color: #696969;}#sk-container-id-1 label.sk-toggleable__label-arrow:hover:before {color: black;}#sk-container-id-1 div.sk-estimator:hover label.sk-toggleable__label-arrow:before {color: black;}#sk-container-id-1 div.sk-toggleable__content {max-height: 0;max-width: 0;overflow: hidden;text-align: left;background-color: #f0f8ff;}#sk-container-id-1 div.sk-toggleable__content pre {margin: 0.2em;color: black;border-radius: 0.25em;background-color: #f0f8ff;}#sk-container-id-1 input.sk-toggleable__control:checked~div.sk-toggleable__content {max-height: 200px;max-width: 100%;overflow: auto;}#sk-container-id-1 input.sk-toggleable__control:checked~label.sk-toggleable__label-arrow:before {content: \"▾\";}#sk-container-id-1 div.sk-estimator input.sk-toggleable__control:checked~label.sk-toggleable__label {background-color: #d4ebff;}#sk-container-id-1 div.sk-label input.sk-toggleable__control:checked~label.sk-toggleable__label {background-color: #d4ebff;}#sk-container-id-1 input.sk-hidden--visually {border: 0;clip: rect(1px 1px 1px 1px);clip: rect(1px, 1px, 1px, 1px);height: 1px;margin: -1px;overflow: hidden;padding: 0;position: absolute;width: 1px;}#sk-container-id-1 div.sk-estimator {font-family: monospace;background-color: #f0f8ff;border: 1px dotted black;border-radius: 0.25em;box-sizing: border-box;margin-bottom: 0.5em;}#sk-container-id-1 div.sk-estimator:hover {background-color: #d4ebff;}#sk-container-id-1 div.sk-parallel-item::after {content: \"\";width: 100%;border-bottom: 1px solid gray;flex-grow: 1;}#sk-container-id-1 div.sk-label:hover label.sk-toggleable__label {background-color: #d4ebff;}#sk-container-id-1 div.sk-serial::before {content: \"\";position: absolute;border-left: 1px solid gray;box-sizing: border-box;top: 0;bottom: 0;left: 50%;z-index: 0;}#sk-container-id-1 div.sk-serial {display: flex;flex-direction: column;align-items: center;background-color: white;padding-right: 0.2em;padding-left: 0.2em;position: relative;}#sk-container-id-1 div.sk-item {position: relative;z-index: 1;}#sk-container-id-1 div.sk-parallel {display: flex;align-items: stretch;justify-content: center;background-color: white;position: relative;}#sk-container-id-1 div.sk-item::before, #sk-container-id-1 div.sk-parallel-item::before {content: \"\";position: absolute;border-left: 1px solid gray;box-sizing: border-box;top: 0;bottom: 0;left: 50%;z-index: -1;}#sk-container-id-1 div.sk-parallel-item {display: flex;flex-direction: column;z-index: 1;position: relative;background-color: white;}#sk-container-id-1 div.sk-parallel-item:first-child::after {align-self: flex-end;width: 50%;}#sk-container-id-1 div.sk-parallel-item:last-child::after {align-self: flex-start;width: 50%;}#sk-container-id-1 div.sk-parallel-item:only-child::after {width: 0;}#sk-container-id-1 div.sk-dashed-wrapped {border: 1px dashed gray;margin: 0 0.4em 0.5em 0.4em;box-sizing: border-box;padding-bottom: 0.4em;background-color: white;}#sk-container-id-1 div.sk-label label {font-family: monospace;font-weight: bold;display: inline-block;line-height: 1.2em;}#sk-container-id-1 div.sk-label-container {text-align: center;}#sk-container-id-1 div.sk-container {/* jupyter's `normalize.less` sets `[hidden] { display: none; }` but bootstrap.min.css set `[hidden] { display: none !important; }` so we also need the `!important` here to be able to override the default hidden behavior on the sphinx rendered scikit-learn.org. See: https://github.com/scikit-learn/scikit-learn/issues/21755 */display: inline-block !important;position: relative;}#sk-container-id-1 div.sk-text-repr-fallback {display: none;}</style><div id=\"sk-container-id-1\" class=\"sk-top-container\"><div class=\"sk-text-repr-fallback\"><pre>Pipeline(steps=[(&#x27;slidingwindow&#x27;, SlidingWindow(size=3, stride=2)),\n",
       "                (&#x27;pearsondissimilarity&#x27;, PearsonDissimilarity()),\n",
       "                (&#x27;vietorisripspersistence&#x27;,\n",
       "                 VietorisRipsPersistence(metric=&#x27;precomputed&#x27;)),\n",
       "                (&#x27;amplitude&#x27;, Amplitude())])</pre><b>In a Jupyter environment, please rerun this cell to show the HTML representation or trust the notebook. <br />On GitHub, the HTML representation is unable to render, please try loading this page with nbviewer.org.</b></div><div class=\"sk-container\" hidden><div class=\"sk-item sk-dashed-wrapped\"><div class=\"sk-label-container\"><div class=\"sk-label sk-toggleable\"><input class=\"sk-toggleable__control sk-hidden--visually\" id=\"sk-estimator-id-1\" type=\"checkbox\" ><label for=\"sk-estimator-id-1\" class=\"sk-toggleable__label sk-toggleable__label-arrow\">Pipeline</label><div class=\"sk-toggleable__content\"><pre>Pipeline(steps=[(&#x27;slidingwindow&#x27;, SlidingWindow(size=3, stride=2)),\n",
       "                (&#x27;pearsondissimilarity&#x27;, PearsonDissimilarity()),\n",
       "                (&#x27;vietorisripspersistence&#x27;,\n",
       "                 VietorisRipsPersistence(metric=&#x27;precomputed&#x27;)),\n",
       "                (&#x27;amplitude&#x27;, Amplitude())])</pre></div></div></div><div class=\"sk-serial\"><div class=\"sk-item\"><div class=\"sk-estimator sk-toggleable\"><input class=\"sk-toggleable__control sk-hidden--visually\" id=\"sk-estimator-id-2\" type=\"checkbox\" ><label for=\"sk-estimator-id-2\" class=\"sk-toggleable__label sk-toggleable__label-arrow\">SlidingWindow</label><div class=\"sk-toggleable__content\"><pre>SlidingWindow(size=3, stride=2)</pre></div></div></div><div class=\"sk-item\"><div class=\"sk-estimator sk-toggleable\"><input class=\"sk-toggleable__control sk-hidden--visually\" id=\"sk-estimator-id-3\" type=\"checkbox\" ><label for=\"sk-estimator-id-3\" class=\"sk-toggleable__label sk-toggleable__label-arrow\">PearsonDissimilarity</label><div class=\"sk-toggleable__content\"><pre>PearsonDissimilarity()</pre></div></div></div><div class=\"sk-item\"><div class=\"sk-estimator sk-toggleable\"><input class=\"sk-toggleable__control sk-hidden--visually\" id=\"sk-estimator-id-4\" type=\"checkbox\" ><label for=\"sk-estimator-id-4\" class=\"sk-toggleable__label sk-toggleable__label-arrow\">VietorisRipsPersistence</label><div class=\"sk-toggleable__content\"><pre>VietorisRipsPersistence(metric=&#x27;precomputed&#x27;)</pre></div></div></div><div class=\"sk-item\"><div class=\"sk-estimator sk-toggleable\"><input class=\"sk-toggleable__control sk-hidden--visually\" id=\"sk-estimator-id-5\" type=\"checkbox\" ><label for=\"sk-estimator-id-5\" class=\"sk-toggleable__label sk-toggleable__label-arrow\">Amplitude</label><div class=\"sk-toggleable__content\"><pre>Amplitude()</pre></div></div></div></div></div></div></div>"
      ],
      "text/plain": [
       "Pipeline(steps=[('slidingwindow', SlidingWindow(size=3, stride=2)),\n",
       "                ('pearsondissimilarity', PearsonDissimilarity()),\n",
       "                ('vietorisripspersistence',\n",
       "                 VietorisRipsPersistence(metric='precomputed')),\n",
       "                ('amplitude', Amplitude())])"
      ]
     },
     "execution_count": 29,
     "metadata": {},
     "output_type": "execute_result"
    }
   ],
   "source": [
    "from sklearn import set_config\n",
    "set_config(display='diagram')  # For HTML representations of pipelines\n",
    "\n",
    "from gtda.pipeline import make_pipeline\n",
    "\n",
    "pipe = make_pipeline(SW, PD, VR, Ampl)\n",
    "pipe"
   ]
  },
  {
   "cell_type": "code",
   "execution_count": 30,
   "metadata": {},
   "outputs": [
    {
     "data": {
      "text/html": [
       "<style>#sk-container-id-2 {color: black;background-color: white;}#sk-container-id-2 pre{padding: 0;}#sk-container-id-2 div.sk-toggleable {background-color: white;}#sk-container-id-2 label.sk-toggleable__label {cursor: pointer;display: block;width: 100%;margin-bottom: 0;padding: 0.3em;box-sizing: border-box;text-align: center;}#sk-container-id-2 label.sk-toggleable__label-arrow:before {content: \"▸\";float: left;margin-right: 0.25em;color: #696969;}#sk-container-id-2 label.sk-toggleable__label-arrow:hover:before {color: black;}#sk-container-id-2 div.sk-estimator:hover label.sk-toggleable__label-arrow:before {color: black;}#sk-container-id-2 div.sk-toggleable__content {max-height: 0;max-width: 0;overflow: hidden;text-align: left;background-color: #f0f8ff;}#sk-container-id-2 div.sk-toggleable__content pre {margin: 0.2em;color: black;border-radius: 0.25em;background-color: #f0f8ff;}#sk-container-id-2 input.sk-toggleable__control:checked~div.sk-toggleable__content {max-height: 200px;max-width: 100%;overflow: auto;}#sk-container-id-2 input.sk-toggleable__control:checked~label.sk-toggleable__label-arrow:before {content: \"▾\";}#sk-container-id-2 div.sk-estimator input.sk-toggleable__control:checked~label.sk-toggleable__label {background-color: #d4ebff;}#sk-container-id-2 div.sk-label input.sk-toggleable__control:checked~label.sk-toggleable__label {background-color: #d4ebff;}#sk-container-id-2 input.sk-hidden--visually {border: 0;clip: rect(1px 1px 1px 1px);clip: rect(1px, 1px, 1px, 1px);height: 1px;margin: -1px;overflow: hidden;padding: 0;position: absolute;width: 1px;}#sk-container-id-2 div.sk-estimator {font-family: monospace;background-color: #f0f8ff;border: 1px dotted black;border-radius: 0.25em;box-sizing: border-box;margin-bottom: 0.5em;}#sk-container-id-2 div.sk-estimator:hover {background-color: #d4ebff;}#sk-container-id-2 div.sk-parallel-item::after {content: \"\";width: 100%;border-bottom: 1px solid gray;flex-grow: 1;}#sk-container-id-2 div.sk-label:hover label.sk-toggleable__label {background-color: #d4ebff;}#sk-container-id-2 div.sk-serial::before {content: \"\";position: absolute;border-left: 1px solid gray;box-sizing: border-box;top: 0;bottom: 0;left: 50%;z-index: 0;}#sk-container-id-2 div.sk-serial {display: flex;flex-direction: column;align-items: center;background-color: white;padding-right: 0.2em;padding-left: 0.2em;position: relative;}#sk-container-id-2 div.sk-item {position: relative;z-index: 1;}#sk-container-id-2 div.sk-parallel {display: flex;align-items: stretch;justify-content: center;background-color: white;position: relative;}#sk-container-id-2 div.sk-item::before, #sk-container-id-2 div.sk-parallel-item::before {content: \"\";position: absolute;border-left: 1px solid gray;box-sizing: border-box;top: 0;bottom: 0;left: 50%;z-index: -1;}#sk-container-id-2 div.sk-parallel-item {display: flex;flex-direction: column;z-index: 1;position: relative;background-color: white;}#sk-container-id-2 div.sk-parallel-item:first-child::after {align-self: flex-end;width: 50%;}#sk-container-id-2 div.sk-parallel-item:last-child::after {align-self: flex-start;width: 50%;}#sk-container-id-2 div.sk-parallel-item:only-child::after {width: 0;}#sk-container-id-2 div.sk-dashed-wrapped {border: 1px dashed gray;margin: 0 0.4em 0.5em 0.4em;box-sizing: border-box;padding-bottom: 0.4em;background-color: white;}#sk-container-id-2 div.sk-label label {font-family: monospace;font-weight: bold;display: inline-block;line-height: 1.2em;}#sk-container-id-2 div.sk-label-container {text-align: center;}#sk-container-id-2 div.sk-container {/* jupyter's `normalize.less` sets `[hidden] { display: none; }` but bootstrap.min.css set `[hidden] { display: none !important; }` so we also need the `!important` here to be able to override the default hidden behavior on the sphinx rendered scikit-learn.org. See: https://github.com/scikit-learn/scikit-learn/issues/21755 */display: inline-block !important;position: relative;}#sk-container-id-2 div.sk-text-repr-fallback {display: none;}</style><div id=\"sk-container-id-2\" class=\"sk-top-container\"><div class=\"sk-text-repr-fallback\"><pre>Pipeline(steps=[(&#x27;slidingwindow&#x27;, SlidingWindow(size=3, stride=2)),\n",
       "                (&#x27;pearsondissimilarity&#x27;, PearsonDissimilarity()),\n",
       "                (&#x27;vietorisripspersistence&#x27;,\n",
       "                 VietorisRipsPersistence(metric=&#x27;precomputed&#x27;)),\n",
       "                (&#x27;amplitude&#x27;, Amplitude()),\n",
       "                (&#x27;randomforestregressor&#x27;, RandomForestRegressor())])</pre><b>In a Jupyter environment, please rerun this cell to show the HTML representation or trust the notebook. <br />On GitHub, the HTML representation is unable to render, please try loading this page with nbviewer.org.</b></div><div class=\"sk-container\" hidden><div class=\"sk-item sk-dashed-wrapped\"><div class=\"sk-label-container\"><div class=\"sk-label sk-toggleable\"><input class=\"sk-toggleable__control sk-hidden--visually\" id=\"sk-estimator-id-6\" type=\"checkbox\" ><label for=\"sk-estimator-id-6\" class=\"sk-toggleable__label sk-toggleable__label-arrow\">Pipeline</label><div class=\"sk-toggleable__content\"><pre>Pipeline(steps=[(&#x27;slidingwindow&#x27;, SlidingWindow(size=3, stride=2)),\n",
       "                (&#x27;pearsondissimilarity&#x27;, PearsonDissimilarity()),\n",
       "                (&#x27;vietorisripspersistence&#x27;,\n",
       "                 VietorisRipsPersistence(metric=&#x27;precomputed&#x27;)),\n",
       "                (&#x27;amplitude&#x27;, Amplitude()),\n",
       "                (&#x27;randomforestregressor&#x27;, RandomForestRegressor())])</pre></div></div></div><div class=\"sk-serial\"><div class=\"sk-item\"><div class=\"sk-estimator sk-toggleable\"><input class=\"sk-toggleable__control sk-hidden--visually\" id=\"sk-estimator-id-7\" type=\"checkbox\" ><label for=\"sk-estimator-id-7\" class=\"sk-toggleable__label sk-toggleable__label-arrow\">SlidingWindow</label><div class=\"sk-toggleable__content\"><pre>SlidingWindow(size=3, stride=2)</pre></div></div></div><div class=\"sk-item\"><div class=\"sk-estimator sk-toggleable\"><input class=\"sk-toggleable__control sk-hidden--visually\" id=\"sk-estimator-id-8\" type=\"checkbox\" ><label for=\"sk-estimator-id-8\" class=\"sk-toggleable__label sk-toggleable__label-arrow\">PearsonDissimilarity</label><div class=\"sk-toggleable__content\"><pre>PearsonDissimilarity()</pre></div></div></div><div class=\"sk-item\"><div class=\"sk-estimator sk-toggleable\"><input class=\"sk-toggleable__control sk-hidden--visually\" id=\"sk-estimator-id-9\" type=\"checkbox\" ><label for=\"sk-estimator-id-9\" class=\"sk-toggleable__label sk-toggleable__label-arrow\">VietorisRipsPersistence</label><div class=\"sk-toggleable__content\"><pre>VietorisRipsPersistence(metric=&#x27;precomputed&#x27;)</pre></div></div></div><div class=\"sk-item\"><div class=\"sk-estimator sk-toggleable\"><input class=\"sk-toggleable__control sk-hidden--visually\" id=\"sk-estimator-id-10\" type=\"checkbox\" ><label for=\"sk-estimator-id-10\" class=\"sk-toggleable__label sk-toggleable__label-arrow\">Amplitude</label><div class=\"sk-toggleable__content\"><pre>Amplitude()</pre></div></div></div><div class=\"sk-item\"><div class=\"sk-estimator sk-toggleable\"><input class=\"sk-toggleable__control sk-hidden--visually\" id=\"sk-estimator-id-11\" type=\"checkbox\" ><label for=\"sk-estimator-id-11\" class=\"sk-toggleable__label sk-toggleable__label-arrow\">RandomForestRegressor</label><div class=\"sk-toggleable__content\"><pre>RandomForestRegressor()</pre></div></div></div></div></div></div></div>"
      ],
      "text/plain": [
       "Pipeline(steps=[('slidingwindow', SlidingWindow(size=3, stride=2)),\n",
       "                ('pearsondissimilarity', PearsonDissimilarity()),\n",
       "                ('vietorisripspersistence',\n",
       "                 VietorisRipsPersistence(metric='precomputed')),\n",
       "                ('amplitude', Amplitude()),\n",
       "                ('randomforestregressor', RandomForestRegressor())])"
      ]
     },
     "execution_count": 30,
     "metadata": {},
     "output_type": "execute_result"
    }
   ],
   "source": [
    "from sklearn.ensemble import RandomForestRegressor\n",
    "\n",
    "RFR = RandomForestRegressor()\n",
    "\n",
    "pipe = make_pipeline(SW, PD, VR, Ampl, RFR)\n",
    "pipe"
   ]
  },
  {
   "cell_type": "code",
   "execution_count": 31,
   "metadata": {},
   "outputs": [
    {
     "name": "stderr",
     "output_type": "stream",
     "text": [
      "/Users/ricardo/miniconda3/envs/gtda/lib/python3.9/site-packages/sklearn/utils/metaestimators.py:121: FutureWarning:\n",
      "\n",
      "if_delegate_has_method was deprecated in version 1.1 and will be removed in version 1.3. Use available_if instead.\n",
      "\n"
     ]
    },
    {
     "data": {
      "text/plain": [
       "(array([-5.84, -4.  , -4.08, -2.24]), 0.74752)"
      ]
     },
     "execution_count": 31,
     "metadata": {},
     "output_type": "execute_result"
    }
   ],
   "source": [
    "pipe.fit(X, y)\n",
    "y_pred = pipe.predict(X)\n",
    "score = pipe.score(X, y)\n",
    "y_pred, score"
   ]
  },
  {
   "cell_type": "code",
   "execution_count": 32,
   "metadata": {},
   "outputs": [
    {
     "data": {
      "application/vnd.plotly.v1+json": {
       "config": {
        "plotlyServerURL": "https://plot.ly"
       },
       "data": [
        {
         "mode": "markers",
         "name": "data",
         "type": "scatter",
         "x": [
          1,
          13,
          8,
          1,
          4,
          10,
          14,
          14,
          10,
          16
         ],
         "y": [
          -10,
          -9,
          -8,
          -7,
          -6,
          -5,
          -4,
          -3,
          -2,
          -1
         ]
        },
        {
         "mode": "markers",
         "name": "prediction",
         "type": "scatter",
         "x": [
          1,
          13,
          8,
          1,
          4,
          10,
          14,
          14,
          10,
          16
         ],
         "y": [
          -5.84,
          -4,
          -4.08,
          -2.24
         ]
        }
       ],
       "layout": {
        "template": {
         "data": {
          "bar": [
           {
            "error_x": {
             "color": "#2a3f5f"
            },
            "error_y": {
             "color": "#2a3f5f"
            },
            "marker": {
             "line": {
              "color": "#E5ECF6",
              "width": 0.5
             },
             "pattern": {
              "fillmode": "overlay",
              "size": 10,
              "solidity": 0.2
             }
            },
            "type": "bar"
           }
          ],
          "barpolar": [
           {
            "marker": {
             "line": {
              "color": "#E5ECF6",
              "width": 0.5
             },
             "pattern": {
              "fillmode": "overlay",
              "size": 10,
              "solidity": 0.2
             }
            },
            "type": "barpolar"
           }
          ],
          "carpet": [
           {
            "aaxis": {
             "endlinecolor": "#2a3f5f",
             "gridcolor": "white",
             "linecolor": "white",
             "minorgridcolor": "white",
             "startlinecolor": "#2a3f5f"
            },
            "baxis": {
             "endlinecolor": "#2a3f5f",
             "gridcolor": "white",
             "linecolor": "white",
             "minorgridcolor": "white",
             "startlinecolor": "#2a3f5f"
            },
            "type": "carpet"
           }
          ],
          "choropleth": [
           {
            "colorbar": {
             "outlinewidth": 0,
             "ticks": ""
            },
            "type": "choropleth"
           }
          ],
          "contour": [
           {
            "colorbar": {
             "outlinewidth": 0,
             "ticks": ""
            },
            "colorscale": [
             [
              0,
              "#0d0887"
             ],
             [
              0.1111111111111111,
              "#46039f"
             ],
             [
              0.2222222222222222,
              "#7201a8"
             ],
             [
              0.3333333333333333,
              "#9c179e"
             ],
             [
              0.4444444444444444,
              "#bd3786"
             ],
             [
              0.5555555555555556,
              "#d8576b"
             ],
             [
              0.6666666666666666,
              "#ed7953"
             ],
             [
              0.7777777777777778,
              "#fb9f3a"
             ],
             [
              0.8888888888888888,
              "#fdca26"
             ],
             [
              1,
              "#f0f921"
             ]
            ],
            "type": "contour"
           }
          ],
          "contourcarpet": [
           {
            "colorbar": {
             "outlinewidth": 0,
             "ticks": ""
            },
            "type": "contourcarpet"
           }
          ],
          "heatmap": [
           {
            "colorbar": {
             "outlinewidth": 0,
             "ticks": ""
            },
            "colorscale": [
             [
              0,
              "#0d0887"
             ],
             [
              0.1111111111111111,
              "#46039f"
             ],
             [
              0.2222222222222222,
              "#7201a8"
             ],
             [
              0.3333333333333333,
              "#9c179e"
             ],
             [
              0.4444444444444444,
              "#bd3786"
             ],
             [
              0.5555555555555556,
              "#d8576b"
             ],
             [
              0.6666666666666666,
              "#ed7953"
             ],
             [
              0.7777777777777778,
              "#fb9f3a"
             ],
             [
              0.8888888888888888,
              "#fdca26"
             ],
             [
              1,
              "#f0f921"
             ]
            ],
            "type": "heatmap"
           }
          ],
          "heatmapgl": [
           {
            "colorbar": {
             "outlinewidth": 0,
             "ticks": ""
            },
            "colorscale": [
             [
              0,
              "#0d0887"
             ],
             [
              0.1111111111111111,
              "#46039f"
             ],
             [
              0.2222222222222222,
              "#7201a8"
             ],
             [
              0.3333333333333333,
              "#9c179e"
             ],
             [
              0.4444444444444444,
              "#bd3786"
             ],
             [
              0.5555555555555556,
              "#d8576b"
             ],
             [
              0.6666666666666666,
              "#ed7953"
             ],
             [
              0.7777777777777778,
              "#fb9f3a"
             ],
             [
              0.8888888888888888,
              "#fdca26"
             ],
             [
              1,
              "#f0f921"
             ]
            ],
            "type": "heatmapgl"
           }
          ],
          "histogram": [
           {
            "marker": {
             "pattern": {
              "fillmode": "overlay",
              "size": 10,
              "solidity": 0.2
             }
            },
            "type": "histogram"
           }
          ],
          "histogram2d": [
           {
            "colorbar": {
             "outlinewidth": 0,
             "ticks": ""
            },
            "colorscale": [
             [
              0,
              "#0d0887"
             ],
             [
              0.1111111111111111,
              "#46039f"
             ],
             [
              0.2222222222222222,
              "#7201a8"
             ],
             [
              0.3333333333333333,
              "#9c179e"
             ],
             [
              0.4444444444444444,
              "#bd3786"
             ],
             [
              0.5555555555555556,
              "#d8576b"
             ],
             [
              0.6666666666666666,
              "#ed7953"
             ],
             [
              0.7777777777777778,
              "#fb9f3a"
             ],
             [
              0.8888888888888888,
              "#fdca26"
             ],
             [
              1,
              "#f0f921"
             ]
            ],
            "type": "histogram2d"
           }
          ],
          "histogram2dcontour": [
           {
            "colorbar": {
             "outlinewidth": 0,
             "ticks": ""
            },
            "colorscale": [
             [
              0,
              "#0d0887"
             ],
             [
              0.1111111111111111,
              "#46039f"
             ],
             [
              0.2222222222222222,
              "#7201a8"
             ],
             [
              0.3333333333333333,
              "#9c179e"
             ],
             [
              0.4444444444444444,
              "#bd3786"
             ],
             [
              0.5555555555555556,
              "#d8576b"
             ],
             [
              0.6666666666666666,
              "#ed7953"
             ],
             [
              0.7777777777777778,
              "#fb9f3a"
             ],
             [
              0.8888888888888888,
              "#fdca26"
             ],
             [
              1,
              "#f0f921"
             ]
            ],
            "type": "histogram2dcontour"
           }
          ],
          "mesh3d": [
           {
            "colorbar": {
             "outlinewidth": 0,
             "ticks": ""
            },
            "type": "mesh3d"
           }
          ],
          "parcoords": [
           {
            "line": {
             "colorbar": {
              "outlinewidth": 0,
              "ticks": ""
             }
            },
            "type": "parcoords"
           }
          ],
          "pie": [
           {
            "automargin": true,
            "type": "pie"
           }
          ],
          "scatter": [
           {
            "fillpattern": {
             "fillmode": "overlay",
             "size": 10,
             "solidity": 0.2
            },
            "type": "scatter"
           }
          ],
          "scatter3d": [
           {
            "line": {
             "colorbar": {
              "outlinewidth": 0,
              "ticks": ""
             }
            },
            "marker": {
             "colorbar": {
              "outlinewidth": 0,
              "ticks": ""
             }
            },
            "type": "scatter3d"
           }
          ],
          "scattercarpet": [
           {
            "marker": {
             "colorbar": {
              "outlinewidth": 0,
              "ticks": ""
             }
            },
            "type": "scattercarpet"
           }
          ],
          "scattergeo": [
           {
            "marker": {
             "colorbar": {
              "outlinewidth": 0,
              "ticks": ""
             }
            },
            "type": "scattergeo"
           }
          ],
          "scattergl": [
           {
            "marker": {
             "colorbar": {
              "outlinewidth": 0,
              "ticks": ""
             }
            },
            "type": "scattergl"
           }
          ],
          "scattermapbox": [
           {
            "marker": {
             "colorbar": {
              "outlinewidth": 0,
              "ticks": ""
             }
            },
            "type": "scattermapbox"
           }
          ],
          "scatterpolar": [
           {
            "marker": {
             "colorbar": {
              "outlinewidth": 0,
              "ticks": ""
             }
            },
            "type": "scatterpolar"
           }
          ],
          "scatterpolargl": [
           {
            "marker": {
             "colorbar": {
              "outlinewidth": 0,
              "ticks": ""
             }
            },
            "type": "scatterpolargl"
           }
          ],
          "scatterternary": [
           {
            "marker": {
             "colorbar": {
              "outlinewidth": 0,
              "ticks": ""
             }
            },
            "type": "scatterternary"
           }
          ],
          "surface": [
           {
            "colorbar": {
             "outlinewidth": 0,
             "ticks": ""
            },
            "colorscale": [
             [
              0,
              "#0d0887"
             ],
             [
              0.1111111111111111,
              "#46039f"
             ],
             [
              0.2222222222222222,
              "#7201a8"
             ],
             [
              0.3333333333333333,
              "#9c179e"
             ],
             [
              0.4444444444444444,
              "#bd3786"
             ],
             [
              0.5555555555555556,
              "#d8576b"
             ],
             [
              0.6666666666666666,
              "#ed7953"
             ],
             [
              0.7777777777777778,
              "#fb9f3a"
             ],
             [
              0.8888888888888888,
              "#fdca26"
             ],
             [
              1,
              "#f0f921"
             ]
            ],
            "type": "surface"
           }
          ],
          "table": [
           {
            "cells": {
             "fill": {
              "color": "#EBF0F8"
             },
             "line": {
              "color": "white"
             }
            },
            "header": {
             "fill": {
              "color": "#C8D4E3"
             },
             "line": {
              "color": "white"
             }
            },
            "type": "table"
           }
          ]
         },
         "layout": {
          "annotationdefaults": {
           "arrowcolor": "#2a3f5f",
           "arrowhead": 0,
           "arrowwidth": 1
          },
          "autotypenumbers": "strict",
          "coloraxis": {
           "colorbar": {
            "outlinewidth": 0,
            "ticks": ""
           }
          },
          "colorscale": {
           "diverging": [
            [
             0,
             "#8e0152"
            ],
            [
             0.1,
             "#c51b7d"
            ],
            [
             0.2,
             "#de77ae"
            ],
            [
             0.3,
             "#f1b6da"
            ],
            [
             0.4,
             "#fde0ef"
            ],
            [
             0.5,
             "#f7f7f7"
            ],
            [
             0.6,
             "#e6f5d0"
            ],
            [
             0.7,
             "#b8e186"
            ],
            [
             0.8,
             "#7fbc41"
            ],
            [
             0.9,
             "#4d9221"
            ],
            [
             1,
             "#276419"
            ]
           ],
           "sequential": [
            [
             0,
             "#0d0887"
            ],
            [
             0.1111111111111111,
             "#46039f"
            ],
            [
             0.2222222222222222,
             "#7201a8"
            ],
            [
             0.3333333333333333,
             "#9c179e"
            ],
            [
             0.4444444444444444,
             "#bd3786"
            ],
            [
             0.5555555555555556,
             "#d8576b"
            ],
            [
             0.6666666666666666,
             "#ed7953"
            ],
            [
             0.7777777777777778,
             "#fb9f3a"
            ],
            [
             0.8888888888888888,
             "#fdca26"
            ],
            [
             1,
             "#f0f921"
            ]
           ],
           "sequentialminus": [
            [
             0,
             "#0d0887"
            ],
            [
             0.1111111111111111,
             "#46039f"
            ],
            [
             0.2222222222222222,
             "#7201a8"
            ],
            [
             0.3333333333333333,
             "#9c179e"
            ],
            [
             0.4444444444444444,
             "#bd3786"
            ],
            [
             0.5555555555555556,
             "#d8576b"
            ],
            [
             0.6666666666666666,
             "#ed7953"
            ],
            [
             0.7777777777777778,
             "#fb9f3a"
            ],
            [
             0.8888888888888888,
             "#fdca26"
            ],
            [
             1,
             "#f0f921"
            ]
           ]
          },
          "colorway": [
           "#636efa",
           "#EF553B",
           "#00cc96",
           "#ab63fa",
           "#FFA15A",
           "#19d3f3",
           "#FF6692",
           "#B6E880",
           "#FF97FF",
           "#FECB52"
          ],
          "font": {
           "color": "#2a3f5f"
          },
          "geo": {
           "bgcolor": "white",
           "lakecolor": "white",
           "landcolor": "#E5ECF6",
           "showlakes": true,
           "showland": true,
           "subunitcolor": "white"
          },
          "hoverlabel": {
           "align": "left"
          },
          "hovermode": "closest",
          "mapbox": {
           "style": "light"
          },
          "paper_bgcolor": "white",
          "plot_bgcolor": "#E5ECF6",
          "polar": {
           "angularaxis": {
            "gridcolor": "white",
            "linecolor": "white",
            "ticks": ""
           },
           "bgcolor": "#E5ECF6",
           "radialaxis": {
            "gridcolor": "white",
            "linecolor": "white",
            "ticks": ""
           }
          },
          "scene": {
           "xaxis": {
            "backgroundcolor": "#E5ECF6",
            "gridcolor": "white",
            "gridwidth": 2,
            "linecolor": "white",
            "showbackground": true,
            "ticks": "",
            "zerolinecolor": "white"
           },
           "yaxis": {
            "backgroundcolor": "#E5ECF6",
            "gridcolor": "white",
            "gridwidth": 2,
            "linecolor": "white",
            "showbackground": true,
            "ticks": "",
            "zerolinecolor": "white"
           },
           "zaxis": {
            "backgroundcolor": "#E5ECF6",
            "gridcolor": "white",
            "gridwidth": 2,
            "linecolor": "white",
            "showbackground": true,
            "ticks": "",
            "zerolinecolor": "white"
           }
          },
          "shapedefaults": {
           "line": {
            "color": "#2a3f5f"
           }
          },
          "ternary": {
           "aaxis": {
            "gridcolor": "white",
            "linecolor": "white",
            "ticks": ""
           },
           "baxis": {
            "gridcolor": "white",
            "linecolor": "white",
            "ticks": ""
           },
           "bgcolor": "#E5ECF6",
           "caxis": {
            "gridcolor": "white",
            "linecolor": "white",
            "ticks": ""
           }
          },
          "title": {
           "x": 0.05
          },
          "xaxis": {
           "automargin": true,
           "gridcolor": "white",
           "linecolor": "white",
           "ticks": "",
           "title": {
            "standoff": 15
           },
           "zerolinecolor": "white",
           "zerolinewidth": 2
          },
          "yaxis": {
           "automargin": true,
           "gridcolor": "white",
           "linecolor": "white",
           "ticks": "",
           "title": {
            "standoff": 15
           },
           "zerolinecolor": "white",
           "zerolinewidth": 2
          }
         }
        }
       }
      }
     },
     "metadata": {},
     "output_type": "display_data"
    }
   ],
   "source": [
    "import plotly.graph_objects as go\n",
    "\n",
    "fig = go.Figure()\n",
    "fig.add_trace(go.Scatter(x=X[:, 0], y=y, mode=\"markers\", name=\"data\"))\n",
    "fig.add_trace(\n",
    "    go.Scatter(x=X[:, 0], y=y_pred, mode=\"markers\", name=\"prediction\")\n",
    ")\n",
    "fig.show()\n",
    "\n"
   ]
  },
  {
   "cell_type": "code",
   "execution_count": 33,
   "metadata": {},
   "outputs": [],
   "source": [
    "import pandas as pd"
   ]
  },
  {
   "cell_type": "code",
   "execution_count": 34,
   "metadata": {},
   "outputs": [],
   "source": [
    "# Read the data from the NOAA website\n",
    "df = pd.read_fwf('https://www.cpc.ncep.noaa.gov/data/indices/oni.ascii.txt', colspecs=\"infer\")"
   ]
  },
  {
   "cell_type": "code",
   "execution_count": 35,
   "metadata": {},
   "outputs": [],
   "source": [
    "# Read the data from the NOAA website\n",
    "df = pd.read_fwf('https://www.cpc.ncep.noaa.gov/data/indices/oni.ascii.txt', colspecs=\"infer\")\n",
    "# Group by 'Year' and add a sequential month number starting from 1\n",
    "df['MONTH'] = df.groupby('YR').cumcount() + 1\n",
    "# add a leading zero to the month number if it is less than 2 digits\n",
    "df['MONTH'] = df['MONTH'].apply(lambda x: '{0:0>2}'.format(x))"
   ]
  },
  {
   "cell_type": "code",
   "execution_count": 36,
   "metadata": {},
   "outputs": [
    {
     "data": {
      "text/html": [
       "<div>\n",
       "<style scoped>\n",
       "    .dataframe tbody tr th:only-of-type {\n",
       "        vertical-align: middle;\n",
       "    }\n",
       "\n",
       "    .dataframe tbody tr th {\n",
       "        vertical-align: top;\n",
       "    }\n",
       "\n",
       "    .dataframe thead th {\n",
       "        text-align: right;\n",
       "    }\n",
       "</style>\n",
       "<table border=\"1\" class=\"dataframe\">\n",
       "  <thead>\n",
       "    <tr style=\"text-align: right;\">\n",
       "      <th></th>\n",
       "      <th>Date</th>\n",
       "      <th>Temperature</th>\n",
       "      <th>Anomaly</th>\n",
       "    </tr>\n",
       "  </thead>\n",
       "  <tbody>\n",
       "    <tr>\n",
       "      <th>0</th>\n",
       "      <td>1950-01-01</td>\n",
       "      <td>24.72</td>\n",
       "      <td>-1.53</td>\n",
       "    </tr>\n",
       "    <tr>\n",
       "      <th>1</th>\n",
       "      <td>1950-02-01</td>\n",
       "      <td>25.17</td>\n",
       "      <td>-1.34</td>\n",
       "    </tr>\n",
       "    <tr>\n",
       "      <th>2</th>\n",
       "      <td>1950-03-01</td>\n",
       "      <td>25.75</td>\n",
       "      <td>-1.16</td>\n",
       "    </tr>\n",
       "    <tr>\n",
       "      <th>3</th>\n",
       "      <td>1950-04-01</td>\n",
       "      <td>26.12</td>\n",
       "      <td>-1.18</td>\n",
       "    </tr>\n",
       "    <tr>\n",
       "      <th>4</th>\n",
       "      <td>1950-05-01</td>\n",
       "      <td>26.32</td>\n",
       "      <td>-1.07</td>\n",
       "    </tr>\n",
       "    <tr>\n",
       "      <th>...</th>\n",
       "      <td>...</td>\n",
       "      <td>...</td>\n",
       "      <td>...</td>\n",
       "    </tr>\n",
       "    <tr>\n",
       "      <th>874</th>\n",
       "      <td>2022-11-01</td>\n",
       "      <td>25.76</td>\n",
       "      <td>-0.92</td>\n",
       "    </tr>\n",
       "    <tr>\n",
       "      <th>875</th>\n",
       "      <td>2022-12-01</td>\n",
       "      <td>25.80</td>\n",
       "      <td>-0.82</td>\n",
       "    </tr>\n",
       "    <tr>\n",
       "      <th>876</th>\n",
       "      <td>2023-01-01</td>\n",
       "      <td>25.97</td>\n",
       "      <td>-0.67</td>\n",
       "    </tr>\n",
       "    <tr>\n",
       "      <th>877</th>\n",
       "      <td>2023-02-01</td>\n",
       "      <td>26.44</td>\n",
       "      <td>-0.43</td>\n",
       "    </tr>\n",
       "    <tr>\n",
       "      <th>878</th>\n",
       "      <td>2023-03-01</td>\n",
       "      <td>27.14</td>\n",
       "      <td>-0.16</td>\n",
       "    </tr>\n",
       "  </tbody>\n",
       "</table>\n",
       "<p>879 rows × 3 columns</p>\n",
       "</div>"
      ],
      "text/plain": [
       "          Date  Temperature  Anomaly\n",
       "0   1950-01-01        24.72    -1.53\n",
       "1   1950-02-01        25.17    -1.34\n",
       "2   1950-03-01        25.75    -1.16\n",
       "3   1950-04-01        26.12    -1.18\n",
       "4   1950-05-01        26.32    -1.07\n",
       "..         ...          ...      ...\n",
       "874 2022-11-01        25.76    -0.92\n",
       "875 2022-12-01        25.80    -0.82\n",
       "876 2023-01-01        25.97    -0.67\n",
       "877 2023-02-01        26.44    -0.43\n",
       "878 2023-03-01        27.14    -0.16\n",
       "\n",
       "[879 rows x 3 columns]"
      ]
     },
     "execution_count": 36,
     "metadata": {},
     "output_type": "execute_result"
    }
   ],
   "source": [
    "# Read the data from the NOAA website\n",
    "df = pd.read_fwf('https://www.cpc.ncep.noaa.gov/data/indices/oni.ascii.txt', colspecs=\"infer\")\n",
    "# Group by 'Year' and add a sequential month number starting from 1\n",
    "df['MONTH'] = df.groupby('YR').cumcount() + 1\n",
    "# add a leading zero to the month number if it is less than 2 digits\n",
    "df['MONTH'] = df['MONTH'].apply(lambda x: '{0:0>2}'.format(x))\n",
    "# create a new column 'DATE' by concatenating the 'YR' and 'MONTH' columns\n",
    "df['DATE'] = df['YR'].astype(str) + '-' + df['MONTH'].astype(str)\n",
    "# drop the 'YR' and 'MONTH' columns and convert the 'DATE' column to datetime format\n",
    "df['DATE'] = pd.to_datetime(df['DATE'], format='%Y-%m')\n",
    "# Create a new dataframe with necessary columns\n",
    "data = df[['DATE', 'TOTAL', 'ANOM']].copy()\n",
    "data.columns = ['Date', 'Temperature', 'Anomaly']\n",
    "data"
   ]
  },
  {
   "cell_type": "code",
   "execution_count": 37,
   "metadata": {},
   "outputs": [
    {
     "data": {
      "text/html": [
       "<div>\n",
       "<style scoped>\n",
       "    .dataframe tbody tr th:only-of-type {\n",
       "        vertical-align: middle;\n",
       "    }\n",
       "\n",
       "    .dataframe tbody tr th {\n",
       "        vertical-align: top;\n",
       "    }\n",
       "\n",
       "    .dataframe thead th {\n",
       "        text-align: right;\n",
       "    }\n",
       "</style>\n",
       "<table border=\"1\" class=\"dataframe\">\n",
       "  <thead>\n",
       "    <tr style=\"text-align: right;\">\n",
       "      <th></th>\n",
       "      <th>Date</th>\n",
       "      <th>Temperature</th>\n",
       "      <th>Anomaly</th>\n",
       "      <th>Temperature Y</th>\n",
       "      <th>Anomaly Y</th>\n",
       "    </tr>\n",
       "  </thead>\n",
       "  <tbody>\n",
       "    <tr>\n",
       "      <th>0</th>\n",
       "      <td>1950-01-01</td>\n",
       "      <td>24.72</td>\n",
       "      <td>-1.53</td>\n",
       "      <td>25.17</td>\n",
       "      <td>-1.34</td>\n",
       "    </tr>\n",
       "    <tr>\n",
       "      <th>1</th>\n",
       "      <td>1950-02-01</td>\n",
       "      <td>25.17</td>\n",
       "      <td>-1.34</td>\n",
       "      <td>25.75</td>\n",
       "      <td>-1.16</td>\n",
       "    </tr>\n",
       "    <tr>\n",
       "      <th>2</th>\n",
       "      <td>1950-03-01</td>\n",
       "      <td>25.75</td>\n",
       "      <td>-1.16</td>\n",
       "      <td>26.12</td>\n",
       "      <td>-1.18</td>\n",
       "    </tr>\n",
       "    <tr>\n",
       "      <th>3</th>\n",
       "      <td>1950-04-01</td>\n",
       "      <td>26.12</td>\n",
       "      <td>-1.18</td>\n",
       "      <td>26.32</td>\n",
       "      <td>-1.07</td>\n",
       "    </tr>\n",
       "    <tr>\n",
       "      <th>4</th>\n",
       "      <td>1950-05-01</td>\n",
       "      <td>26.32</td>\n",
       "      <td>-1.07</td>\n",
       "      <td>26.31</td>\n",
       "      <td>-0.85</td>\n",
       "    </tr>\n",
       "    <tr>\n",
       "      <th>...</th>\n",
       "      <td>...</td>\n",
       "      <td>...</td>\n",
       "      <td>...</td>\n",
       "      <td>...</td>\n",
       "      <td>...</td>\n",
       "    </tr>\n",
       "    <tr>\n",
       "      <th>873</th>\n",
       "      <td>2022-10-01</td>\n",
       "      <td>25.72</td>\n",
       "      <td>-0.99</td>\n",
       "      <td>25.76</td>\n",
       "      <td>-0.92</td>\n",
       "    </tr>\n",
       "    <tr>\n",
       "      <th>874</th>\n",
       "      <td>2022-11-01</td>\n",
       "      <td>25.76</td>\n",
       "      <td>-0.92</td>\n",
       "      <td>25.80</td>\n",
       "      <td>-0.82</td>\n",
       "    </tr>\n",
       "    <tr>\n",
       "      <th>875</th>\n",
       "      <td>2022-12-01</td>\n",
       "      <td>25.80</td>\n",
       "      <td>-0.82</td>\n",
       "      <td>25.97</td>\n",
       "      <td>-0.67</td>\n",
       "    </tr>\n",
       "    <tr>\n",
       "      <th>876</th>\n",
       "      <td>2023-01-01</td>\n",
       "      <td>25.97</td>\n",
       "      <td>-0.67</td>\n",
       "      <td>26.44</td>\n",
       "      <td>-0.43</td>\n",
       "    </tr>\n",
       "    <tr>\n",
       "      <th>877</th>\n",
       "      <td>2023-02-01</td>\n",
       "      <td>26.44</td>\n",
       "      <td>-0.43</td>\n",
       "      <td>27.14</td>\n",
       "      <td>-0.16</td>\n",
       "    </tr>\n",
       "  </tbody>\n",
       "</table>\n",
       "<p>878 rows × 5 columns</p>\n",
       "</div>"
      ],
      "text/plain": [
       "          Date  Temperature  Anomaly  Temperature Y  Anomaly Y\n",
       "0   1950-01-01        24.72    -1.53          25.17      -1.34\n",
       "1   1950-02-01        25.17    -1.34          25.75      -1.16\n",
       "2   1950-03-01        25.75    -1.16          26.12      -1.18\n",
       "3   1950-04-01        26.12    -1.18          26.32      -1.07\n",
       "4   1950-05-01        26.32    -1.07          26.31      -0.85\n",
       "..         ...          ...      ...            ...        ...\n",
       "873 2022-10-01        25.72    -0.99          25.76      -0.92\n",
       "874 2022-11-01        25.76    -0.92          25.80      -0.82\n",
       "875 2022-12-01        25.80    -0.82          25.97      -0.67\n",
       "876 2023-01-01        25.97    -0.67          26.44      -0.43\n",
       "877 2023-02-01        26.44    -0.43          27.14      -0.16\n",
       "\n",
       "[878 rows x 5 columns]"
      ]
     },
     "execution_count": 37,
     "metadata": {},
     "output_type": "execute_result"
    }
   ],
   "source": [
    "data['Temperature Y'] = data['Temperature'].shift(-1)\n",
    "data['Anomaly Y'] = data['Anomaly'].shift(-1)\n",
    "data = data.drop(data.tail(1).index) # Drop last row\n",
    "data.reset_index(drop = True, inplace = True)\n",
    "data"
   ]
  },
  {
   "cell_type": "code",
   "execution_count": null,
   "metadata": {},
   "outputs": [],
   "source": []
  },
  {
   "attachments": {},
   "cell_type": "markdown",
   "metadata": {},
   "source": [
    "## TOTAL TOPOLOGICAL FORECASTING"
   ]
  },
  {
   "cell_type": "code",
   "execution_count": 38,
   "metadata": {},
   "outputs": [
    {
     "data": {
      "text/plain": [
       "(array([24.72, 25.17, 25.75, 26.12, 26.32, 26.31, 26.21, 25.96, 25.76,\n",
       "        25.63, 25.48, 25.34, 25.42, 25.96, 26.74, 27.48, 27.75, 27.75,\n",
       "        27.44, 27.28, 27.14, 27.22, 27.12, 26.95, 26.78, 26.87, 27.25,\n",
       "        27.6 , 27.59, 27.17, 26.67, 26.39, 26.3 , 26.17, 26.13, 26.29,\n",
       "        26.65, 27.1 , 27.53, 27.96, 28.14, 27.94, 27.49, 27.12, 26.93,\n",
       "        26.91, 26.92, 26.95, 27.  , 26.97, 26.86, 26.89, 26.85, 26.67,\n",
       "        26.1 , 25.54, 25.25, 25.3 , 25.35, 25.48, 25.57, 25.89, 26.22,\n",
       "        26.5 , 26.6 , 26.45, 26.06, 25.64, 25.06, 24.65, 24.41, 24.72,\n",
       "        25.23, 25.86, 26.37, 26.82, 26.93, 26.72, 26.23, 25.87, 25.71,\n",
       "        25.67, 25.67, 25.77, 26.09, 26.68, 27.41, 28.08, 28.37, 28.34,\n",
       "        28.06, 27.75, 27.5 , 27.48, 27.64, 27.94, 28.15, 28.27, 28.26,\n",
       "        28.28, 28.19, 27.87, 27.38, 26.85, 26.56, 26.53, 26.6 , 26.81,\n",
       "        26.95, 27.24, 27.51, 27.68, 27.65, 27.16, 26.63, 26.15, 26.08,\n",
       "        26.07, 26.15, 26.16, 26.24, 26.51, 26.92, 27.39, 27.47, 27.26,\n",
       "        26.93, 26.66, 26.44, 26.3 , 26.23, 26.23, 26.34, 26.58, 26.96,\n",
       "        27.35, 27.59, 27.42, 26.9 , 26.27, 25.89, 25.85, 25.91, 26.  ,\n",
       "        26.05, 26.32, 26.71, 27.  , 27.09, 26.96, 26.72, 26.34, 26.07,\n",
       "        25.88, 25.79, 25.73, 25.89, 26.39, 27.07, 27.53, 27.68, 27.67,\n",
       "        27.62, 27.54, 27.4 , 27.4 , 27.47, 27.47, 27.36, 27.16, 27.03,\n",
       "        26.93, 26.78, 26.57, 26.16, 25.74, 25.42, 25.31, 25.28, 25.38,\n",
       "        25.69, 26.27, 26.85, 27.44, 27.82, 27.99, 27.98, 27.95, 28.04,\n",
       "        28.09, 28.07, 27.91, 27.72, 27.81, 27.98, 27.97, 27.78, 27.5 ,\n",
       "        27.14, 26.69, 26.32, 26.24, 26.16, 26.04, 26.01, 26.17, 26.46,\n",
       "        26.87, 27.19, 27.26, 26.95, 26.41, 26.08, 25.96, 26.  , 25.9 ,\n",
       "        25.78, 25.91, 26.38, 26.88, 27.39, 27.54, 27.48, 27.1 , 26.82,\n",
       "        26.89, 27.07, 27.32, 27.54, 27.73, 27.94, 28.09, 28.04, 27.69,\n",
       "        27.26, 27.08, 27.17, 27.2 , 27.14, 26.98, 26.93, 26.98, 27.29,\n",
       "        27.51, 27.47, 26.96, 26.28, 25.81, 25.61, 25.6 , 25.48, 25.22,\n",
       "        25.1 , 25.32, 25.92, 26.51, 26.73, 26.56, 26.15, 25.86, 25.64,\n",
       "        25.58, 25.46, 25.52, 25.77, 26.35, 27.1 , 27.77, 28.13, 28.21,\n",
       "        28.09, 28.  , 28.04, 28.26, 28.51, 28.54, 28.32, 27.95, 27.59,\n",
       "        27.26, 26.92, 26.42, 25.84, 25.35, 25.01, 24.71, 24.47, 24.38,\n",
       "        24.64, 25.14, 25.82, 26.33, 26.55, 26.52, 26.42, 26.26, 26.06,\n",
       "        25.82, 25.67, 25.78, 25.94, 26.13, 26.39, 26.63, 26.64, 26.31,\n",
       "        25.82, 25.43, 25.09, 25.  , 24.87, 24.75, 24.9 , 25.5 , 26.28,\n",
       "        26.85, 27.15, 27.22, 27.15, 27.04, 27.15, 27.29, 27.32, 27.27,\n",
       "        27.18, 27.31, 27.35, 27.55, 27.64, 27.61, 27.32, 27.11, 27.1 ,\n",
       "        27.21, 27.27, 27.21, 27.15, 27.09, 27.08, 27.14, 27.11, 26.98,\n",
       "        26.61, 26.27, 26.11, 26.19, 26.37, 26.43, 26.5 , 26.75, 27.22,\n",
       "        27.6 , 27.66, 27.32, 27.  , 26.86, 26.86, 26.94, 26.98, 27.06,\n",
       "        27.06, 27.13, 27.35, 27.7 , 27.9 , 27.73, 27.22, 26.72, 26.46,\n",
       "        26.5 , 26.57, 26.48, 26.32, 26.32, 26.69, 27.11, 27.31, 27.09,\n",
       "        26.75, 26.5 , 26.42, 26.41, 26.37, 26.46, 26.56, 26.9 , 27.35,\n",
       "        27.95, 28.23, 28.1 , 27.83, 27.81, 28.16, 28.5 , 28.7 , 28.76,\n",
       "        28.79, 28.75, 28.71, 28.76, 28.63, 28.1 , 27.36, 26.66, 26.12,\n",
       "        25.73, 25.52, 25.62, 26.01, 26.41, 26.83, 27.04, 27.06, 26.94,\n",
       "        26.74, 26.59, 26.34, 25.98, 25.61, 25.39, 25.56, 25.98, 26.4 ,\n",
       "        26.69, 26.79, 26.76, 26.55, 26.29, 26.18, 26.19, 26.25, 26.14,\n",
       "        26.05, 26.28, 26.81, 27.26, 27.44, 27.34, 27.26, 27.2 , 27.31,\n",
       "        27.49, 27.64, 27.7 , 27.76, 27.95, 28.19, 28.41, 28.53, 28.59,\n",
       "        28.54, 28.45, 28.24, 28.03, 27.76, 27.59, 27.34, 27.29, 27.27,\n",
       "        27.15, 26.69, 26.08, 25.74, 25.65, 25.4 , 25.07, 24.71, 24.63,\n",
       "        24.84, 25.32, 26.04, 26.64, 26.99, 26.97, 26.73, 26.48, 26.35,\n",
       "        26.33, 26.34, 26.43, 26.67, 26.96, 27.41, 27.75, 27.86, 27.68,\n",
       "        27.37, 27.13, 26.98, 26.89, 26.9 , 26.94, 27.02, 27.15, 27.48,\n",
       "        27.85, 28.16, 28.17, 27.94, 27.57, 27.41, 27.54, 27.91, 28.18,\n",
       "        28.39, 28.52, 28.73, 28.88, 28.76, 28.26, 27.57, 27.03, 26.66,\n",
       "        26.5 , 26.43, 26.52, 26.77, 27.18, 27.75, 28.27, 28.4 , 28.1 ,\n",
       "        27.53, 27.19, 26.94, 26.85, 26.75, 26.71, 26.74, 26.95, 27.43,\n",
       "        27.9 , 28.12, 27.94, 27.65, 27.37, 27.35, 27.49, 27.71, 27.74,\n",
       "        27.64, 27.61, 27.79, 27.9 , 27.84, 27.5 , 26.97, 26.4 , 25.99,\n",
       "        25.78, 25.7 , 25.66, 25.76, 26.1 , 26.65, 27.2 , 27.4 , 27.23,\n",
       "        26.93, 26.59, 26.39, 26.28, 26.17, 26.09, 26.12, 26.49, 27.14,\n",
       "        27.87, 28.46, 28.75, 28.8 , 28.81, 28.88, 29.01, 29.02, 28.97,\n",
       "        28.87, 28.78, 28.68, 28.59, 28.16, 27.39, 26.42, 25.79, 25.44,\n",
       "        25.32, 25.14, 25.01, 25.08, 25.55, 26.17, 26.62, 26.68, 26.49,\n",
       "        26.1 , 25.8 , 25.58, 25.41, 25.16, 24.93, 24.96, 25.44, 26.17,\n",
       "        26.78, 27.  , 26.88, 26.65, 26.4 , 26.2 , 26.05, 25.88, 25.81,\n",
       "        25.88, 26.26, 26.76, 27.25, 27.49, 27.47, 27.2 , 26.86, 26.63,\n",
       "        26.48, 26.37, 26.31, 26.44, 26.81, 27.29, 27.8 , 28.18, 28.24,\n",
       "        28.06, 27.85, 27.83, 27.97, 28.03, 27.76, 27.51, 27.41, 27.58,\n",
       "        27.56, 27.48, 27.42, 27.35, 27.2 , 27.08, 27.05, 27.07, 26.97,\n",
       "        26.95, 27.08, 27.43, 27.76, 27.91, 27.87, 27.74, 27.63, 27.52,\n",
       "        27.44, 27.38, 27.3 , 27.22, 27.36, 27.65, 28.02, 28.03, 27.69,\n",
       "        27.21, 26.85, 26.71, 26.48, 26.15, 25.81, 25.8 , 26.1 , 26.73,\n",
       "        27.31, 27.69, 27.62, 27.4 , 27.26, 27.3 , 27.48, 27.62, 27.56,\n",
       "        27.3 , 27.09, 27.18, 27.37, 27.45, 27.18, 26.74, 26.15, 25.69,\n",
       "        25.37, 25.17, 25.02, 25.  , 25.35, 26.01, 26.67, 26.99, 27.04,\n",
       "        26.92, 26.73, 26.52, 26.36, 26.12, 25.88, 25.79, 26.08, 26.68,\n",
       "        27.36, 27.84, 27.94, 27.75, 27.53, 27.47, 27.72, 28.03, 28.18,\n",
       "        28.14, 28.09, 28.14, 28.04, 27.66, 27.  , 26.25, 25.61, 25.21,\n",
       "        25.07, 25.03, 25.02, 25.22, 25.68, 26.37, 26.95, 27.28, 27.21,\n",
       "        26.81, 26.33, 25.93, 25.7 , 25.58, 25.58, 25.77, 26.15, 26.71,\n",
       "        27.21, 27.57, 27.64, 27.54, 27.32, 27.13, 26.98, 26.73, 26.41,\n",
       "        26.21, 26.44, 26.96, 27.38, 27.47, 27.24, 26.89, 26.64, 26.51,\n",
       "        26.54, 26.5 , 26.35, 26.22, 26.41, 27.03, 27.73, 28.04, 27.82,\n",
       "        27.34, 27.02, 27.  , 27.21, 27.31, 27.28, 27.19, 27.34, 27.82,\n",
       "        28.38, 28.76, 28.83, 28.81, 28.82, 28.93, 29.14, 29.25, 29.26,\n",
       "        29.12, 29.01, 28.88, 28.62, 28.22, 27.59, 26.93, 26.42, 26.14,\n",
       "        26.02, 26.01, 26.06, 26.3 , 26.71, 27.35, 27.89, 28.13, 27.97,\n",
       "        27.43, 26.84, 26.38, 26.06, 25.84, 25.64, 25.72, 26.02, 26.6 ,\n",
       "        27.18, 27.61, 27.64, 27.38, 27.18, 27.25, 27.47, 27.57, 27.43,\n",
       "        27.39, 27.59, 28.01, 28.34, 28.37, 28.1 , 27.57, 27.1 , 26.95,\n",
       "        27.06, 27.18, 27.17, 27.14, 27.35, 27.7 , 27.87, 27.75, 27.35,\n",
       "        26.88, 26.38, 25.87, 25.54, 25.4 , 25.43, 25.59, 25.94, 26.46,\n",
       "        27.03, 27.35, 27.28, 26.89, 26.46, 26.09, 25.9 , 25.69, 25.63,\n",
       "        25.67, 25.94, 26.31, 26.62, 26.84, 26.8 , 26.48, 26.04, 25.75,\n",
       "        25.72, 25.76, 25.8 , 25.97, 26.44]),\n",
       " array([25.17, 25.75, 26.12, 26.32, 26.31, 26.21, 25.96, 25.76, 25.63,\n",
       "        25.48, 25.34, 25.42, 25.96, 26.74, 27.48, 27.75, 27.75, 27.44,\n",
       "        27.28, 27.14, 27.22, 27.12, 26.95, 26.78, 26.87, 27.25, 27.6 ,\n",
       "        27.59, 27.17, 26.67, 26.39, 26.3 , 26.17, 26.13, 26.29, 26.65,\n",
       "        27.1 , 27.53, 27.96, 28.14, 27.94, 27.49, 27.12, 26.93, 26.91,\n",
       "        26.92, 26.95, 27.  , 26.97, 26.86, 26.89, 26.85, 26.67, 26.1 ,\n",
       "        25.54, 25.25, 25.3 , 25.35, 25.48, 25.57, 25.89, 26.22, 26.5 ,\n",
       "        26.6 , 26.45, 26.06, 25.64, 25.06, 24.65, 24.41, 24.72, 25.23,\n",
       "        25.86, 26.37, 26.82, 26.93, 26.72, 26.23, 25.87, 25.71, 25.67,\n",
       "        25.67, 25.77, 26.09, 26.68, 27.41, 28.08, 28.37, 28.34, 28.06,\n",
       "        27.75, 27.5 , 27.48, 27.64, 27.94, 28.15, 28.27, 28.26, 28.28,\n",
       "        28.19, 27.87, 27.38, 26.85, 26.56, 26.53, 26.6 , 26.81, 26.95,\n",
       "        27.24, 27.51, 27.68, 27.65, 27.16, 26.63, 26.15, 26.08, 26.07,\n",
       "        26.15, 26.16, 26.24, 26.51, 26.92, 27.39, 27.47, 27.26, 26.93,\n",
       "        26.66, 26.44, 26.3 , 26.23, 26.23, 26.34, 26.58, 26.96, 27.35,\n",
       "        27.59, 27.42, 26.9 , 26.27, 25.89, 25.85, 25.91, 26.  , 26.05,\n",
       "        26.32, 26.71, 27.  , 27.09, 26.96, 26.72, 26.34, 26.07, 25.88,\n",
       "        25.79, 25.73, 25.89, 26.39, 27.07, 27.53, 27.68, 27.67, 27.62,\n",
       "        27.54, 27.4 , 27.4 , 27.47, 27.47, 27.36, 27.16, 27.03, 26.93,\n",
       "        26.78, 26.57, 26.16, 25.74, 25.42, 25.31, 25.28, 25.38, 25.69,\n",
       "        26.27, 26.85, 27.44, 27.82, 27.99, 27.98, 27.95, 28.04, 28.09,\n",
       "        28.07, 27.91, 27.72, 27.81, 27.98, 27.97, 27.78, 27.5 , 27.14,\n",
       "        26.69, 26.32, 26.24, 26.16, 26.04, 26.01, 26.17, 26.46, 26.87,\n",
       "        27.19, 27.26, 26.95, 26.41, 26.08, 25.96, 26.  , 25.9 , 25.78,\n",
       "        25.91, 26.38, 26.88, 27.39, 27.54, 27.48, 27.1 , 26.82, 26.89,\n",
       "        27.07, 27.32, 27.54, 27.73, 27.94, 28.09, 28.04, 27.69, 27.26,\n",
       "        27.08, 27.17, 27.2 , 27.14, 26.98, 26.93, 26.98, 27.29, 27.51,\n",
       "        27.47, 26.96, 26.28, 25.81, 25.61, 25.6 , 25.48, 25.22, 25.1 ,\n",
       "        25.32, 25.92, 26.51, 26.73, 26.56, 26.15, 25.86, 25.64, 25.58,\n",
       "        25.46, 25.52, 25.77, 26.35, 27.1 , 27.77, 28.13, 28.21, 28.09,\n",
       "        28.  , 28.04, 28.26, 28.51, 28.54, 28.32, 27.95, 27.59, 27.26,\n",
       "        26.92, 26.42, 25.84, 25.35, 25.01, 24.71, 24.47, 24.38, 24.64,\n",
       "        25.14, 25.82, 26.33, 26.55, 26.52, 26.42, 26.26, 26.06, 25.82,\n",
       "        25.67, 25.78, 25.94, 26.13, 26.39, 26.63, 26.64, 26.31, 25.82,\n",
       "        25.43, 25.09, 25.  , 24.87, 24.75, 24.9 , 25.5 , 26.28, 26.85,\n",
       "        27.15, 27.22, 27.15, 27.04, 27.15, 27.29, 27.32, 27.27, 27.18,\n",
       "        27.31, 27.35, 27.55, 27.64, 27.61, 27.32, 27.11, 27.1 , 27.21,\n",
       "        27.27, 27.21, 27.15, 27.09, 27.08, 27.14, 27.11, 26.98, 26.61,\n",
       "        26.27, 26.11, 26.19, 26.37, 26.43, 26.5 , 26.75, 27.22, 27.6 ,\n",
       "        27.66, 27.32, 27.  , 26.86, 26.86, 26.94, 26.98, 27.06, 27.06,\n",
       "        27.13, 27.35, 27.7 , 27.9 , 27.73, 27.22, 26.72, 26.46, 26.5 ,\n",
       "        26.57, 26.48, 26.32, 26.32, 26.69, 27.11, 27.31, 27.09, 26.75,\n",
       "        26.5 , 26.42, 26.41, 26.37, 26.46, 26.56, 26.9 , 27.35, 27.95,\n",
       "        28.23, 28.1 , 27.83, 27.81, 28.16, 28.5 , 28.7 , 28.76, 28.79,\n",
       "        28.75, 28.71, 28.76, 28.63, 28.1 , 27.36, 26.66, 26.12, 25.73,\n",
       "        25.52, 25.62, 26.01, 26.41, 26.83, 27.04, 27.06, 26.94, 26.74,\n",
       "        26.59, 26.34, 25.98, 25.61, 25.39, 25.56, 25.98, 26.4 , 26.69,\n",
       "        26.79, 26.76, 26.55, 26.29, 26.18, 26.19, 26.25, 26.14, 26.05,\n",
       "        26.28, 26.81, 27.26, 27.44, 27.34, 27.26, 27.2 , 27.31, 27.49,\n",
       "        27.64, 27.7 , 27.76, 27.95, 28.19, 28.41, 28.53, 28.59, 28.54,\n",
       "        28.45, 28.24, 28.03, 27.76, 27.59, 27.34, 27.29, 27.27, 27.15,\n",
       "        26.69, 26.08, 25.74, 25.65, 25.4 , 25.07, 24.71, 24.63, 24.84,\n",
       "        25.32, 26.04, 26.64, 26.99, 26.97, 26.73, 26.48, 26.35, 26.33,\n",
       "        26.34, 26.43, 26.67, 26.96, 27.41, 27.75, 27.86, 27.68, 27.37,\n",
       "        27.13, 26.98, 26.89, 26.9 , 26.94, 27.02, 27.15, 27.48, 27.85,\n",
       "        28.16, 28.17, 27.94, 27.57, 27.41, 27.54, 27.91, 28.18, 28.39,\n",
       "        28.52, 28.73, 28.88, 28.76, 28.26, 27.57, 27.03, 26.66, 26.5 ,\n",
       "        26.43, 26.52, 26.77, 27.18, 27.75, 28.27, 28.4 , 28.1 , 27.53,\n",
       "        27.19, 26.94, 26.85, 26.75, 26.71, 26.74, 26.95, 27.43, 27.9 ,\n",
       "        28.12, 27.94, 27.65, 27.37, 27.35, 27.49, 27.71, 27.74, 27.64,\n",
       "        27.61, 27.79, 27.9 , 27.84, 27.5 , 26.97, 26.4 , 25.99, 25.78,\n",
       "        25.7 , 25.66, 25.76, 26.1 , 26.65, 27.2 , 27.4 , 27.23, 26.93,\n",
       "        26.59, 26.39, 26.28, 26.17, 26.09, 26.12, 26.49, 27.14, 27.87,\n",
       "        28.46, 28.75, 28.8 , 28.81, 28.88, 29.01, 29.02, 28.97, 28.87,\n",
       "        28.78, 28.68, 28.59, 28.16, 27.39, 26.42, 25.79, 25.44, 25.32,\n",
       "        25.14, 25.01, 25.08, 25.55, 26.17, 26.62, 26.68, 26.49, 26.1 ,\n",
       "        25.8 , 25.58, 25.41, 25.16, 24.93, 24.96, 25.44, 26.17, 26.78,\n",
       "        27.  , 26.88, 26.65, 26.4 , 26.2 , 26.05, 25.88, 25.81, 25.88,\n",
       "        26.26, 26.76, 27.25, 27.49, 27.47, 27.2 , 26.86, 26.63, 26.48,\n",
       "        26.37, 26.31, 26.44, 26.81, 27.29, 27.8 , 28.18, 28.24, 28.06,\n",
       "        27.85, 27.83, 27.97, 28.03, 27.76, 27.51, 27.41, 27.58, 27.56,\n",
       "        27.48, 27.42, 27.35, 27.2 , 27.08, 27.05, 27.07, 26.97, 26.95,\n",
       "        27.08, 27.43, 27.76, 27.91, 27.87, 27.74, 27.63, 27.52, 27.44,\n",
       "        27.38, 27.3 , 27.22, 27.36, 27.65, 28.02, 28.03, 27.69, 27.21,\n",
       "        26.85, 26.71, 26.48, 26.15, 25.81, 25.8 , 26.1 , 26.73, 27.31,\n",
       "        27.69, 27.62, 27.4 , 27.26, 27.3 , 27.48, 27.62, 27.56, 27.3 ,\n",
       "        27.09, 27.18, 27.37, 27.45, 27.18, 26.74, 26.15, 25.69, 25.37,\n",
       "        25.17, 25.02, 25.  , 25.35, 26.01, 26.67, 26.99, 27.04, 26.92,\n",
       "        26.73, 26.52, 26.36, 26.12, 25.88, 25.79, 26.08, 26.68, 27.36,\n",
       "        27.84, 27.94, 27.75, 27.53, 27.47, 27.72, 28.03, 28.18, 28.14,\n",
       "        28.09, 28.14, 28.04, 27.66, 27.  , 26.25, 25.61, 25.21, 25.07,\n",
       "        25.03, 25.02, 25.22, 25.68, 26.37, 26.95, 27.28, 27.21, 26.81,\n",
       "        26.33, 25.93, 25.7 , 25.58, 25.58, 25.77, 26.15, 26.71, 27.21,\n",
       "        27.57, 27.64, 27.54, 27.32, 27.13, 26.98, 26.73, 26.41, 26.21,\n",
       "        26.44, 26.96, 27.38, 27.47, 27.24, 26.89, 26.64, 26.51, 26.54,\n",
       "        26.5 , 26.35, 26.22, 26.41, 27.03, 27.73, 28.04, 27.82, 27.34,\n",
       "        27.02, 27.  , 27.21, 27.31, 27.28, 27.19, 27.34, 27.82, 28.38,\n",
       "        28.76, 28.83, 28.81, 28.82, 28.93, 29.14, 29.25, 29.26, 29.12,\n",
       "        29.01, 28.88, 28.62, 28.22, 27.59, 26.93, 26.42, 26.14, 26.02,\n",
       "        26.01, 26.06, 26.3 , 26.71, 27.35, 27.89, 28.13, 27.97, 27.43,\n",
       "        26.84, 26.38, 26.06, 25.84, 25.64, 25.72, 26.02, 26.6 , 27.18,\n",
       "        27.61, 27.64, 27.38, 27.18, 27.25, 27.47, 27.57, 27.43, 27.39,\n",
       "        27.59, 28.01, 28.34, 28.37, 28.1 , 27.57, 27.1 , 26.95, 27.06,\n",
       "        27.18, 27.17, 27.14, 27.35, 27.7 , 27.87, 27.75, 27.35, 26.88,\n",
       "        26.38, 25.87, 25.54, 25.4 , 25.43, 25.59, 25.94, 26.46, 27.03,\n",
       "        27.35, 27.28, 26.89, 26.46, 26.09, 25.9 , 25.69, 25.63, 25.67,\n",
       "        25.94, 26.31, 26.62, 26.84, 26.8 , 26.48, 26.04, 25.75, 25.72,\n",
       "        25.76, 25.8 , 25.97, 26.44, 27.14]))"
      ]
     },
     "execution_count": 38,
     "metadata": {},
     "output_type": "execute_result"
    }
   ],
   "source": [
    "X1 = data['Temperature'].to_numpy()\n",
    "y1 = data['Temperature Y'].to_numpy()\n",
    "X1, y1"
   ]
  },
  {
   "cell_type": "code",
   "execution_count": 39,
   "metadata": {},
   "outputs": [
    {
     "data": {
      "text/plain": [
       "(array([[24.72, 25.75],\n",
       "        [25.17, 26.12],\n",
       "        [25.75, 26.32],\n",
       "        ...,\n",
       "        [25.72, 25.8 ],\n",
       "        [25.76, 25.97],\n",
       "        [25.8 , 26.44]]),\n",
       " array([26.12, 26.32, 26.31, 26.21, 25.96, 25.76, 25.63, 25.48, 25.34,\n",
       "        25.42, 25.96, 26.74, 27.48, 27.75, 27.75, 27.44, 27.28, 27.14,\n",
       "        27.22, 27.12, 26.95, 26.78, 26.87, 27.25, 27.6 , 27.59, 27.17,\n",
       "        26.67, 26.39, 26.3 , 26.17, 26.13, 26.29, 26.65, 27.1 , 27.53,\n",
       "        27.96, 28.14, 27.94, 27.49, 27.12, 26.93, 26.91, 26.92, 26.95,\n",
       "        27.  , 26.97, 26.86, 26.89, 26.85, 26.67, 26.1 , 25.54, 25.25,\n",
       "        25.3 , 25.35, 25.48, 25.57, 25.89, 26.22, 26.5 , 26.6 , 26.45,\n",
       "        26.06, 25.64, 25.06, 24.65, 24.41, 24.72, 25.23, 25.86, 26.37,\n",
       "        26.82, 26.93, 26.72, 26.23, 25.87, 25.71, 25.67, 25.67, 25.77,\n",
       "        26.09, 26.68, 27.41, 28.08, 28.37, 28.34, 28.06, 27.75, 27.5 ,\n",
       "        27.48, 27.64, 27.94, 28.15, 28.27, 28.26, 28.28, 28.19, 27.87,\n",
       "        27.38, 26.85, 26.56, 26.53, 26.6 , 26.81, 26.95, 27.24, 27.51,\n",
       "        27.68, 27.65, 27.16, 26.63, 26.15, 26.08, 26.07, 26.15, 26.16,\n",
       "        26.24, 26.51, 26.92, 27.39, 27.47, 27.26, 26.93, 26.66, 26.44,\n",
       "        26.3 , 26.23, 26.23, 26.34, 26.58, 26.96, 27.35, 27.59, 27.42,\n",
       "        26.9 , 26.27, 25.89, 25.85, 25.91, 26.  , 26.05, 26.32, 26.71,\n",
       "        27.  , 27.09, 26.96, 26.72, 26.34, 26.07, 25.88, 25.79, 25.73,\n",
       "        25.89, 26.39, 27.07, 27.53, 27.68, 27.67, 27.62, 27.54, 27.4 ,\n",
       "        27.4 , 27.47, 27.47, 27.36, 27.16, 27.03, 26.93, 26.78, 26.57,\n",
       "        26.16, 25.74, 25.42, 25.31, 25.28, 25.38, 25.69, 26.27, 26.85,\n",
       "        27.44, 27.82, 27.99, 27.98, 27.95, 28.04, 28.09, 28.07, 27.91,\n",
       "        27.72, 27.81, 27.98, 27.97, 27.78, 27.5 , 27.14, 26.69, 26.32,\n",
       "        26.24, 26.16, 26.04, 26.01, 26.17, 26.46, 26.87, 27.19, 27.26,\n",
       "        26.95, 26.41, 26.08, 25.96, 26.  , 25.9 , 25.78, 25.91, 26.38,\n",
       "        26.88, 27.39, 27.54, 27.48, 27.1 , 26.82, 26.89, 27.07, 27.32,\n",
       "        27.54, 27.73, 27.94, 28.09, 28.04, 27.69, 27.26, 27.08, 27.17,\n",
       "        27.2 , 27.14, 26.98, 26.93, 26.98, 27.29, 27.51, 27.47, 26.96,\n",
       "        26.28, 25.81, 25.61, 25.6 , 25.48, 25.22, 25.1 , 25.32, 25.92,\n",
       "        26.51, 26.73, 26.56, 26.15, 25.86, 25.64, 25.58, 25.46, 25.52,\n",
       "        25.77, 26.35, 27.1 , 27.77, 28.13, 28.21, 28.09, 28.  , 28.04,\n",
       "        28.26, 28.51, 28.54, 28.32, 27.95, 27.59, 27.26, 26.92, 26.42,\n",
       "        25.84, 25.35, 25.01, 24.71, 24.47, 24.38, 24.64, 25.14, 25.82,\n",
       "        26.33, 26.55, 26.52, 26.42, 26.26, 26.06, 25.82, 25.67, 25.78,\n",
       "        25.94, 26.13, 26.39, 26.63, 26.64, 26.31, 25.82, 25.43, 25.09,\n",
       "        25.  , 24.87, 24.75, 24.9 , 25.5 , 26.28, 26.85, 27.15, 27.22,\n",
       "        27.15, 27.04, 27.15, 27.29, 27.32, 27.27, 27.18, 27.31, 27.35,\n",
       "        27.55, 27.64, 27.61, 27.32, 27.11, 27.1 , 27.21, 27.27, 27.21,\n",
       "        27.15, 27.09, 27.08, 27.14, 27.11, 26.98, 26.61, 26.27, 26.11,\n",
       "        26.19, 26.37, 26.43, 26.5 , 26.75, 27.22, 27.6 , 27.66, 27.32,\n",
       "        27.  , 26.86, 26.86, 26.94, 26.98, 27.06, 27.06, 27.13, 27.35,\n",
       "        27.7 , 27.9 , 27.73, 27.22, 26.72, 26.46, 26.5 , 26.57, 26.48,\n",
       "        26.32, 26.32, 26.69, 27.11, 27.31, 27.09, 26.75, 26.5 , 26.42,\n",
       "        26.41, 26.37, 26.46, 26.56, 26.9 , 27.35, 27.95, 28.23, 28.1 ,\n",
       "        27.83, 27.81, 28.16, 28.5 , 28.7 , 28.76, 28.79, 28.75, 28.71,\n",
       "        28.76, 28.63, 28.1 , 27.36, 26.66, 26.12, 25.73, 25.52, 25.62,\n",
       "        26.01, 26.41, 26.83, 27.04, 27.06, 26.94, 26.74, 26.59, 26.34,\n",
       "        25.98, 25.61, 25.39, 25.56, 25.98, 26.4 , 26.69, 26.79, 26.76,\n",
       "        26.55, 26.29, 26.18, 26.19, 26.25, 26.14, 26.05, 26.28, 26.81,\n",
       "        27.26, 27.44, 27.34, 27.26, 27.2 , 27.31, 27.49, 27.64, 27.7 ,\n",
       "        27.76, 27.95, 28.19, 28.41, 28.53, 28.59, 28.54, 28.45, 28.24,\n",
       "        28.03, 27.76, 27.59, 27.34, 27.29, 27.27, 27.15, 26.69, 26.08,\n",
       "        25.74, 25.65, 25.4 , 25.07, 24.71, 24.63, 24.84, 25.32, 26.04,\n",
       "        26.64, 26.99, 26.97, 26.73, 26.48, 26.35, 26.33, 26.34, 26.43,\n",
       "        26.67, 26.96, 27.41, 27.75, 27.86, 27.68, 27.37, 27.13, 26.98,\n",
       "        26.89, 26.9 , 26.94, 27.02, 27.15, 27.48, 27.85, 28.16, 28.17,\n",
       "        27.94, 27.57, 27.41, 27.54, 27.91, 28.18, 28.39, 28.52, 28.73,\n",
       "        28.88, 28.76, 28.26, 27.57, 27.03, 26.66, 26.5 , 26.43, 26.52,\n",
       "        26.77, 27.18, 27.75, 28.27, 28.4 , 28.1 , 27.53, 27.19, 26.94,\n",
       "        26.85, 26.75, 26.71, 26.74, 26.95, 27.43, 27.9 , 28.12, 27.94,\n",
       "        27.65, 27.37, 27.35, 27.49, 27.71, 27.74, 27.64, 27.61, 27.79,\n",
       "        27.9 , 27.84, 27.5 , 26.97, 26.4 , 25.99, 25.78, 25.7 , 25.66,\n",
       "        25.76, 26.1 , 26.65, 27.2 , 27.4 , 27.23, 26.93, 26.59, 26.39,\n",
       "        26.28, 26.17, 26.09, 26.12, 26.49, 27.14, 27.87, 28.46, 28.75,\n",
       "        28.8 , 28.81, 28.88, 29.01, 29.02, 28.97, 28.87, 28.78, 28.68,\n",
       "        28.59, 28.16, 27.39, 26.42, 25.79, 25.44, 25.32, 25.14, 25.01,\n",
       "        25.08, 25.55, 26.17, 26.62, 26.68, 26.49, 26.1 , 25.8 , 25.58,\n",
       "        25.41, 25.16, 24.93, 24.96, 25.44, 26.17, 26.78, 27.  , 26.88,\n",
       "        26.65, 26.4 , 26.2 , 26.05, 25.88, 25.81, 25.88, 26.26, 26.76,\n",
       "        27.25, 27.49, 27.47, 27.2 , 26.86, 26.63, 26.48, 26.37, 26.31,\n",
       "        26.44, 26.81, 27.29, 27.8 , 28.18, 28.24, 28.06, 27.85, 27.83,\n",
       "        27.97, 28.03, 27.76, 27.51, 27.41, 27.58, 27.56, 27.48, 27.42,\n",
       "        27.35, 27.2 , 27.08, 27.05, 27.07, 26.97, 26.95, 27.08, 27.43,\n",
       "        27.76, 27.91, 27.87, 27.74, 27.63, 27.52, 27.44, 27.38, 27.3 ,\n",
       "        27.22, 27.36, 27.65, 28.02, 28.03, 27.69, 27.21, 26.85, 26.71,\n",
       "        26.48, 26.15, 25.81, 25.8 , 26.1 , 26.73, 27.31, 27.69, 27.62,\n",
       "        27.4 , 27.26, 27.3 , 27.48, 27.62, 27.56, 27.3 , 27.09, 27.18,\n",
       "        27.37, 27.45, 27.18, 26.74, 26.15, 25.69, 25.37, 25.17, 25.02,\n",
       "        25.  , 25.35, 26.01, 26.67, 26.99, 27.04, 26.92, 26.73, 26.52,\n",
       "        26.36, 26.12, 25.88, 25.79, 26.08, 26.68, 27.36, 27.84, 27.94,\n",
       "        27.75, 27.53, 27.47, 27.72, 28.03, 28.18, 28.14, 28.09, 28.14,\n",
       "        28.04, 27.66, 27.  , 26.25, 25.61, 25.21, 25.07, 25.03, 25.02,\n",
       "        25.22, 25.68, 26.37, 26.95, 27.28, 27.21, 26.81, 26.33, 25.93,\n",
       "        25.7 , 25.58, 25.58, 25.77, 26.15, 26.71, 27.21, 27.57, 27.64,\n",
       "        27.54, 27.32, 27.13, 26.98, 26.73, 26.41, 26.21, 26.44, 26.96,\n",
       "        27.38, 27.47, 27.24, 26.89, 26.64, 26.51, 26.54, 26.5 , 26.35,\n",
       "        26.22, 26.41, 27.03, 27.73, 28.04, 27.82, 27.34, 27.02, 27.  ,\n",
       "        27.21, 27.31, 27.28, 27.19, 27.34, 27.82, 28.38, 28.76, 28.83,\n",
       "        28.81, 28.82, 28.93, 29.14, 29.25, 29.26, 29.12, 29.01, 28.88,\n",
       "        28.62, 28.22, 27.59, 26.93, 26.42, 26.14, 26.02, 26.01, 26.06,\n",
       "        26.3 , 26.71, 27.35, 27.89, 28.13, 27.97, 27.43, 26.84, 26.38,\n",
       "        26.06, 25.84, 25.64, 25.72, 26.02, 26.6 , 27.18, 27.61, 27.64,\n",
       "        27.38, 27.18, 27.25, 27.47, 27.57, 27.43, 27.39, 27.59, 28.01,\n",
       "        28.34, 28.37, 28.1 , 27.57, 27.1 , 26.95, 27.06, 27.18, 27.17,\n",
       "        27.14, 27.35, 27.7 , 27.87, 27.75, 27.35, 26.88, 26.38, 25.87,\n",
       "        25.54, 25.4 , 25.43, 25.59, 25.94, 26.46, 27.03, 27.35, 27.28,\n",
       "        26.89, 26.46, 26.09, 25.9 , 25.69, 25.63, 25.67, 25.94, 26.31,\n",
       "        26.62, 26.84, 26.8 , 26.48, 26.04, 25.75, 25.72, 25.76, 25.8 ,\n",
       "        25.97, 26.44, 27.14]))"
      ]
     },
     "execution_count": 39,
     "metadata": {},
     "output_type": "execute_result"
    }
   ],
   "source": [
    "from gtda.time_series import SlidingWindow\n",
    "from gtda.time_series import SingleTakensEmbedding\n",
    "\n",
    "\n",
    "STE = SingleTakensEmbedding(parameters_type=\"search\", time_delay=2, dimension=3)\n",
    "X_ste, yr = STE.fit_transform_resample(X1, y1)\n",
    "X_ste, yr"
   ]
  },
  {
   "cell_type": "code",
   "execution_count": 40,
   "metadata": {},
   "outputs": [
    {
     "data": {
      "text/plain": [
       "(array([[[25.17, 26.12],\n",
       "         [25.75, 26.32],\n",
       "         [26.12, 26.31],\n",
       "         [26.32, 26.21],\n",
       "         [26.31, 25.96]],\n",
       " \n",
       "        [[26.12, 26.31],\n",
       "         [26.32, 26.21],\n",
       "         [26.31, 25.96],\n",
       "         [26.21, 25.76],\n",
       "         [25.96, 25.63]],\n",
       " \n",
       "        [[26.31, 25.96],\n",
       "         [26.21, 25.76],\n",
       "         [25.96, 25.63],\n",
       "         [25.76, 25.48],\n",
       "         [25.63, 25.34]],\n",
       " \n",
       "        ...,\n",
       " \n",
       "        [[26.62, 26.8 ],\n",
       "         [26.84, 26.48],\n",
       "         [26.8 , 26.04],\n",
       "         [26.48, 25.75],\n",
       "         [26.04, 25.72]],\n",
       " \n",
       "        [[26.8 , 26.04],\n",
       "         [26.48, 25.75],\n",
       "         [26.04, 25.72],\n",
       "         [25.75, 25.76],\n",
       "         [25.72, 25.8 ]],\n",
       " \n",
       "        [[26.04, 25.72],\n",
       "         [25.75, 25.76],\n",
       "         [25.72, 25.8 ],\n",
       "         [25.76, 25.97],\n",
       "         [25.8 , 26.44]]]),\n",
       " array([25.76, 25.48, 25.42, 26.74, 27.75, 27.44, 27.14, 27.12, 26.78,\n",
       "        27.25, 27.59, 26.67, 26.3 , 26.13, 26.65, 27.53, 28.14, 27.49,\n",
       "        26.93, 26.92, 27.  , 26.86, 26.85, 26.1 , 25.25, 25.35, 25.57,\n",
       "        26.22, 26.6 , 26.06, 25.06, 24.41, 25.23, 26.37, 26.93, 26.23,\n",
       "        25.71, 25.67, 26.09, 27.41, 28.37, 28.06, 27.5 , 27.64, 28.15,\n",
       "        28.26, 28.19, 27.38, 26.56, 26.6 , 26.95, 27.51, 27.65, 26.63,\n",
       "        26.08, 26.15, 26.24, 26.92, 27.47, 26.93, 26.44, 26.23, 26.34,\n",
       "        26.96, 27.59, 26.9 , 25.89, 25.91, 26.05, 26.71, 27.09, 26.72,\n",
       "        26.07, 25.79, 25.89, 27.07, 27.68, 27.62, 27.4 , 27.47, 27.36,\n",
       "        27.03, 26.78, 26.16, 25.42, 25.28, 25.69, 26.85, 27.82, 27.98,\n",
       "        28.04, 28.07, 27.72, 27.98, 27.78, 27.14, 26.32, 26.16, 26.01,\n",
       "        26.46, 27.19, 26.95, 26.08, 26.  , 25.78, 26.38, 27.39, 27.48,\n",
       "        26.82, 27.07, 27.54, 27.94, 28.04, 27.26, 27.17, 27.14, 26.93,\n",
       "        27.29, 27.47, 26.28, 25.61, 25.48, 25.1 , 25.92, 26.73, 26.15,\n",
       "        25.64, 25.46, 25.77, 27.1 , 28.13, 28.09, 28.04, 28.51, 28.32,\n",
       "        27.59, 26.92, 25.84, 25.01, 24.47, 24.64, 25.82, 26.55, 26.42,\n",
       "        26.06, 25.67, 25.94, 26.39, 26.64, 25.82, 25.09, 24.87, 24.9 ,\n",
       "        26.28, 27.15, 27.15, 27.15, 27.32, 27.18, 27.35, 27.64, 27.32,\n",
       "        27.1 , 27.27, 27.15, 27.08, 27.11, 26.61, 26.11, 26.37, 26.5 ,\n",
       "        27.22, 27.66, 27.  , 26.86, 26.98, 27.06, 27.35, 27.9 , 27.22,\n",
       "        26.46, 26.57, 26.32, 26.69, 27.31, 26.75, 26.42, 26.37, 26.56,\n",
       "        27.35, 28.23, 27.83, 28.16, 28.7 , 28.79, 28.71, 28.63, 27.36,\n",
       "        26.12, 25.52, 26.01, 26.83, 27.06, 26.74, 26.34, 25.61, 25.56,\n",
       "        26.4 , 26.79, 26.55, 26.18, 26.25, 26.05, 26.81, 27.44, 27.26,\n",
       "        27.31, 27.64, 27.76, 28.19, 28.53, 28.54, 28.24, 27.76, 27.34,\n",
       "        27.27, 26.69, 25.74, 25.4 , 24.71, 24.84, 26.04, 26.99, 26.73,\n",
       "        26.35, 26.34, 26.67, 27.41, 27.86, 27.37, 26.98, 26.9 , 27.02,\n",
       "        27.48, 28.16, 27.94, 27.41, 27.91, 28.39, 28.73, 28.76, 27.57,\n",
       "        26.66, 26.43, 26.77, 27.75, 28.4 , 27.53, 26.94, 26.75, 26.74,\n",
       "        27.43, 28.12, 27.65, 27.35, 27.71, 27.64, 27.79, 27.84, 26.97,\n",
       "        25.99, 25.7 , 25.76, 26.65, 27.4 , 26.93, 26.39, 26.17, 26.12,\n",
       "        27.14, 28.46, 28.8 , 28.88, 29.02, 28.87, 28.68, 28.16, 26.42,\n",
       "        25.44, 25.14, 25.08, 26.17, 26.68, 26.1 , 25.58, 25.16, 24.96,\n",
       "        26.17, 27.  , 26.65, 26.2 , 25.88, 25.88, 26.76, 27.49, 27.2 ,\n",
       "        26.63, 26.37, 26.44, 27.29, 28.18, 28.06, 27.83, 28.03, 27.51,\n",
       "        27.58, 27.48, 27.35, 27.08, 27.07, 26.95, 27.43, 27.91, 27.74,\n",
       "        27.52, 27.38, 27.22, 27.65, 28.03, 27.21, 26.71, 26.15, 25.8 ,\n",
       "        26.73, 27.69, 27.4 , 27.3 , 27.62, 27.3 , 27.18, 27.45, 26.74,\n",
       "        25.69, 25.17, 25.  , 26.01, 26.99, 26.92, 26.52, 26.12, 25.79,\n",
       "        26.68, 27.84, 27.75, 27.47, 28.03, 28.14, 28.14, 27.66, 26.25,\n",
       "        25.21, 25.03, 25.22, 26.37, 27.28, 26.81, 25.93, 25.58, 25.77,\n",
       "        26.71, 27.57, 27.54, 27.13, 26.73, 26.21, 26.96, 27.47, 26.89,\n",
       "        26.51, 26.5 , 26.22, 27.03, 28.04, 27.34, 27.  , 27.31, 27.19,\n",
       "        27.82, 28.76, 28.81, 28.93, 29.25, 29.12, 28.88, 28.22, 26.93,\n",
       "        26.14, 26.01, 26.3 , 27.35, 28.13, 27.43, 26.38, 25.84, 25.72,\n",
       "        26.6 , 27.61, 27.38, 27.25, 27.57, 27.39, 28.01, 28.37, 27.57,\n",
       "        26.95, 27.18, 27.14, 27.7 , 27.75, 26.88, 25.87, 25.4 , 25.59,\n",
       "        26.46, 27.35, 26.89, 26.09, 25.69, 25.67, 26.31, 26.84, 26.48,\n",
       "        25.75, 25.76, 25.97, 27.14]))"
      ]
     },
     "execution_count": 40,
     "metadata": {},
     "output_type": "execute_result"
    }
   ],
   "source": [
    "window_size = 5\n",
    "stride = 2\n",
    "\n",
    "SW = SlidingWindow(size=window_size, stride=stride)\n",
    "X_sw, yr = SW.fit_transform_resample(X_ste, yr)\n",
    "X_sw, yr"
   ]
  },
  {
   "cell_type": "code",
   "execution_count": 41,
   "metadata": {},
   "outputs": [
    {
     "data": {
      "text/html": [
       "<style>#sk-container-id-3 {color: black;background-color: white;}#sk-container-id-3 pre{padding: 0;}#sk-container-id-3 div.sk-toggleable {background-color: white;}#sk-container-id-3 label.sk-toggleable__label {cursor: pointer;display: block;width: 100%;margin-bottom: 0;padding: 0.3em;box-sizing: border-box;text-align: center;}#sk-container-id-3 label.sk-toggleable__label-arrow:before {content: \"▸\";float: left;margin-right: 0.25em;color: #696969;}#sk-container-id-3 label.sk-toggleable__label-arrow:hover:before {color: black;}#sk-container-id-3 div.sk-estimator:hover label.sk-toggleable__label-arrow:before {color: black;}#sk-container-id-3 div.sk-toggleable__content {max-height: 0;max-width: 0;overflow: hidden;text-align: left;background-color: #f0f8ff;}#sk-container-id-3 div.sk-toggleable__content pre {margin: 0.2em;color: black;border-radius: 0.25em;background-color: #f0f8ff;}#sk-container-id-3 input.sk-toggleable__control:checked~div.sk-toggleable__content {max-height: 200px;max-width: 100%;overflow: auto;}#sk-container-id-3 input.sk-toggleable__control:checked~label.sk-toggleable__label-arrow:before {content: \"▾\";}#sk-container-id-3 div.sk-estimator input.sk-toggleable__control:checked~label.sk-toggleable__label {background-color: #d4ebff;}#sk-container-id-3 div.sk-label input.sk-toggleable__control:checked~label.sk-toggleable__label {background-color: #d4ebff;}#sk-container-id-3 input.sk-hidden--visually {border: 0;clip: rect(1px 1px 1px 1px);clip: rect(1px, 1px, 1px, 1px);height: 1px;margin: -1px;overflow: hidden;padding: 0;position: absolute;width: 1px;}#sk-container-id-3 div.sk-estimator {font-family: monospace;background-color: #f0f8ff;border: 1px dotted black;border-radius: 0.25em;box-sizing: border-box;margin-bottom: 0.5em;}#sk-container-id-3 div.sk-estimator:hover {background-color: #d4ebff;}#sk-container-id-3 div.sk-parallel-item::after {content: \"\";width: 100%;border-bottom: 1px solid gray;flex-grow: 1;}#sk-container-id-3 div.sk-label:hover label.sk-toggleable__label {background-color: #d4ebff;}#sk-container-id-3 div.sk-serial::before {content: \"\";position: absolute;border-left: 1px solid gray;box-sizing: border-box;top: 0;bottom: 0;left: 50%;z-index: 0;}#sk-container-id-3 div.sk-serial {display: flex;flex-direction: column;align-items: center;background-color: white;padding-right: 0.2em;padding-left: 0.2em;position: relative;}#sk-container-id-3 div.sk-item {position: relative;z-index: 1;}#sk-container-id-3 div.sk-parallel {display: flex;align-items: stretch;justify-content: center;background-color: white;position: relative;}#sk-container-id-3 div.sk-item::before, #sk-container-id-3 div.sk-parallel-item::before {content: \"\";position: absolute;border-left: 1px solid gray;box-sizing: border-box;top: 0;bottom: 0;left: 50%;z-index: -1;}#sk-container-id-3 div.sk-parallel-item {display: flex;flex-direction: column;z-index: 1;position: relative;background-color: white;}#sk-container-id-3 div.sk-parallel-item:first-child::after {align-self: flex-end;width: 50%;}#sk-container-id-3 div.sk-parallel-item:last-child::after {align-self: flex-start;width: 50%;}#sk-container-id-3 div.sk-parallel-item:only-child::after {width: 0;}#sk-container-id-3 div.sk-dashed-wrapped {border: 1px dashed gray;margin: 0 0.4em 0.5em 0.4em;box-sizing: border-box;padding-bottom: 0.4em;background-color: white;}#sk-container-id-3 div.sk-label label {font-family: monospace;font-weight: bold;display: inline-block;line-height: 1.2em;}#sk-container-id-3 div.sk-label-container {text-align: center;}#sk-container-id-3 div.sk-container {/* jupyter's `normalize.less` sets `[hidden] { display: none; }` but bootstrap.min.css set `[hidden] { display: none !important; }` so we also need the `!important` here to be able to override the default hidden behavior on the sphinx rendered scikit-learn.org. See: https://github.com/scikit-learn/scikit-learn/issues/21755 */display: inline-block !important;position: relative;}#sk-container-id-3 div.sk-text-repr-fallback {display: none;}</style><div id=\"sk-container-id-3\" class=\"sk-top-container\"><div class=\"sk-text-repr-fallback\"><pre>Pipeline(steps=[(&#x27;singletakensembedding&#x27;,\n",
       "                 SingleTakensEmbedding(dimension=3, time_delay=2)),\n",
       "                (&#x27;slidingwindow&#x27;, SlidingWindow(size=5, stride=2)),\n",
       "                (&#x27;vietorisripspersistence&#x27;, VietorisRipsPersistence()),\n",
       "                (&#x27;amplitude&#x27;, Amplitude()),\n",
       "                (&#x27;randomforestregressor&#x27;, RandomForestRegressor())])</pre><b>In a Jupyter environment, please rerun this cell to show the HTML representation or trust the notebook. <br />On GitHub, the HTML representation is unable to render, please try loading this page with nbviewer.org.</b></div><div class=\"sk-container\" hidden><div class=\"sk-item sk-dashed-wrapped\"><div class=\"sk-label-container\"><div class=\"sk-label sk-toggleable\"><input class=\"sk-toggleable__control sk-hidden--visually\" id=\"sk-estimator-id-12\" type=\"checkbox\" ><label for=\"sk-estimator-id-12\" class=\"sk-toggleable__label sk-toggleable__label-arrow\">Pipeline</label><div class=\"sk-toggleable__content\"><pre>Pipeline(steps=[(&#x27;singletakensembedding&#x27;,\n",
       "                 SingleTakensEmbedding(dimension=3, time_delay=2)),\n",
       "                (&#x27;slidingwindow&#x27;, SlidingWindow(size=5, stride=2)),\n",
       "                (&#x27;vietorisripspersistence&#x27;, VietorisRipsPersistence()),\n",
       "                (&#x27;amplitude&#x27;, Amplitude()),\n",
       "                (&#x27;randomforestregressor&#x27;, RandomForestRegressor())])</pre></div></div></div><div class=\"sk-serial\"><div class=\"sk-item\"><div class=\"sk-estimator sk-toggleable\"><input class=\"sk-toggleable__control sk-hidden--visually\" id=\"sk-estimator-id-13\" type=\"checkbox\" ><label for=\"sk-estimator-id-13\" class=\"sk-toggleable__label sk-toggleable__label-arrow\">SingleTakensEmbedding</label><div class=\"sk-toggleable__content\"><pre>SingleTakensEmbedding(dimension=3, time_delay=2)</pre></div></div></div><div class=\"sk-item\"><div class=\"sk-estimator sk-toggleable\"><input class=\"sk-toggleable__control sk-hidden--visually\" id=\"sk-estimator-id-14\" type=\"checkbox\" ><label for=\"sk-estimator-id-14\" class=\"sk-toggleable__label sk-toggleable__label-arrow\">SlidingWindow</label><div class=\"sk-toggleable__content\"><pre>SlidingWindow(size=5, stride=2)</pre></div></div></div><div class=\"sk-item\"><div class=\"sk-estimator sk-toggleable\"><input class=\"sk-toggleable__control sk-hidden--visually\" id=\"sk-estimator-id-15\" type=\"checkbox\" ><label for=\"sk-estimator-id-15\" class=\"sk-toggleable__label sk-toggleable__label-arrow\">VietorisRipsPersistence</label><div class=\"sk-toggleable__content\"><pre>VietorisRipsPersistence()</pre></div></div></div><div class=\"sk-item\"><div class=\"sk-estimator sk-toggleable\"><input class=\"sk-toggleable__control sk-hidden--visually\" id=\"sk-estimator-id-16\" type=\"checkbox\" ><label for=\"sk-estimator-id-16\" class=\"sk-toggleable__label sk-toggleable__label-arrow\">Amplitude</label><div class=\"sk-toggleable__content\"><pre>Amplitude()</pre></div></div></div><div class=\"sk-item\"><div class=\"sk-estimator sk-toggleable\"><input class=\"sk-toggleable__control sk-hidden--visually\" id=\"sk-estimator-id-17\" type=\"checkbox\" ><label for=\"sk-estimator-id-17\" class=\"sk-toggleable__label sk-toggleable__label-arrow\">RandomForestRegressor</label><div class=\"sk-toggleable__content\"><pre>RandomForestRegressor()</pre></div></div></div></div></div></div></div>"
      ],
      "text/plain": [
       "Pipeline(steps=[('singletakensembedding',\n",
       "                 SingleTakensEmbedding(dimension=3, time_delay=2)),\n",
       "                ('slidingwindow', SlidingWindow(size=5, stride=2)),\n",
       "                ('vietorisripspersistence', VietorisRipsPersistence()),\n",
       "                ('amplitude', Amplitude()),\n",
       "                ('randomforestregressor', RandomForestRegressor())])"
      ]
     },
     "execution_count": 41,
     "metadata": {},
     "output_type": "execute_result"
    }
   ],
   "source": [
    "import xgboost as xgb\n",
    "\n",
    "\n",
    "VR = VietorisRipsPersistence()  # No \"precomputed\" for point clouds\n",
    "Ampl = Amplitude()\n",
    "\n",
    "reg = RandomForestRegressor()\n",
    "\n",
    "pipe = make_pipeline(STE, SW, VR, Ampl, reg)\n",
    "pipe"
   ]
  },
  {
   "cell_type": "code",
   "execution_count": 42,
   "metadata": {},
   "outputs": [
    {
     "name": "stderr",
     "output_type": "stream",
     "text": [
      "/Users/ricardo/miniconda3/envs/gtda/lib/python3.9/site-packages/sklearn/utils/metaestimators.py:121: FutureWarning:\n",
      "\n",
      "if_delegate_has_method was deprecated in version 1.1 and will be removed in version 1.3. Use available_if instead.\n",
      "\n"
     ]
    },
    {
     "data": {
      "text/plain": [
       "0.8193631499971601"
      ]
     },
     "execution_count": 42,
     "metadata": {},
     "output_type": "execute_result"
    }
   ],
   "source": [
    "pipe.fit(X1, y1)\n",
    "y_pred = pipe.predict(X1)\n",
    "score = pipe.score(X1, y1)\n",
    "score"
   ]
  },
  {
   "cell_type": "code",
   "execution_count": null,
   "metadata": {},
   "outputs": [],
   "source": []
  },
  {
   "cell_type": "code",
   "execution_count": 53,
   "metadata": {},
   "outputs": [
    {
     "data": {
      "application/vnd.plotly.v1+json": {
       "config": {
        "plotlyServerURL": "https://plot.ly"
       },
       "data": [
        {
         "mode": "lines",
         "name": "TOTAL",
         "type": "scatter",
         "x": [
          436,
          437,
          438,
          439,
          440,
          441,
          442,
          443,
          444,
          445,
          446,
          447,
          448,
          449,
          450,
          451,
          452,
          453,
          454,
          455,
          456,
          457,
          458,
          459,
          460,
          461,
          462,
          463,
          464,
          465,
          466,
          467,
          468,
          469,
          470,
          471,
          472,
          473,
          474,
          475,
          476,
          477,
          478,
          479,
          480,
          481,
          482,
          483,
          484,
          485,
          486,
          487,
          488,
          489,
          490,
          491,
          492,
          493,
          494,
          495,
          496,
          497,
          498,
          499,
          500,
          501,
          502,
          503,
          504,
          505,
          506,
          507,
          508,
          509,
          510,
          511,
          512,
          513,
          514,
          515,
          516,
          517,
          518,
          519,
          520,
          521,
          522,
          523,
          524,
          525,
          526,
          527,
          528,
          529,
          530,
          531,
          532,
          533,
          534,
          535,
          536,
          537,
          538,
          539,
          540,
          541,
          542,
          543,
          544,
          545,
          546,
          547,
          548,
          549,
          550,
          551,
          552,
          553,
          554,
          555,
          556,
          557,
          558,
          559,
          560,
          561,
          562,
          563,
          564,
          565,
          566,
          567,
          568,
          569,
          570,
          571,
          572,
          573,
          574,
          575,
          576,
          577,
          578,
          579,
          580,
          581,
          582,
          583,
          584,
          585,
          586,
          587,
          588,
          589,
          590,
          591,
          592,
          593,
          594,
          595,
          596,
          597,
          598,
          599,
          600,
          601,
          602,
          603,
          604,
          605,
          606,
          607,
          608,
          609,
          610,
          611,
          612,
          613,
          614,
          615,
          616,
          617,
          618,
          619,
          620,
          621,
          622,
          623,
          624,
          625,
          626,
          627,
          628,
          629,
          630,
          631,
          632,
          633,
          634,
          635,
          636,
          637,
          638,
          639,
          640,
          641,
          642,
          643,
          644,
          645,
          646,
          647,
          648,
          649,
          650,
          651,
          652,
          653,
          654,
          655,
          656,
          657,
          658,
          659,
          660,
          661,
          662,
          663,
          664,
          665,
          666,
          667,
          668,
          669,
          670,
          671,
          672,
          673,
          674,
          675,
          676,
          677,
          678,
          679,
          680,
          681,
          682,
          683,
          684,
          685,
          686,
          687,
          688,
          689,
          690,
          691,
          692,
          693,
          694,
          695,
          696,
          697,
          698,
          699,
          700,
          701,
          702,
          703,
          704,
          705,
          706,
          707,
          708,
          709,
          710,
          711,
          712,
          713,
          714,
          715,
          716,
          717,
          718,
          719,
          720,
          721,
          722,
          723,
          724,
          725,
          726,
          727,
          728,
          729,
          730,
          731,
          732,
          733,
          734,
          735,
          736,
          737,
          738,
          739,
          740,
          741,
          742,
          743,
          744,
          745,
          746,
          747,
          748,
          749,
          750,
          751,
          752,
          753,
          754,
          755,
          756,
          757,
          758,
          759,
          760,
          761,
          762,
          763,
          764,
          765,
          766,
          767,
          768,
          769,
          770,
          771,
          772,
          773,
          774,
          775,
          776,
          777,
          778,
          779,
          780,
          781,
          782,
          783,
          784,
          785,
          786,
          787,
          788,
          789,
          790,
          791,
          792,
          793,
          794,
          795,
          796,
          797,
          798,
          799,
          800,
          801,
          802,
          803,
          804,
          805,
          806,
          807,
          808,
          809,
          810,
          811,
          812,
          813,
          814,
          815,
          816,
          817,
          818,
          819,
          820,
          821,
          822,
          823,
          824,
          825,
          826,
          827,
          828,
          829,
          830,
          831,
          832,
          833,
          834,
          835,
          836,
          837,
          838,
          839,
          840,
          841,
          842,
          843,
          844,
          845,
          846,
          847,
          848,
          849,
          850,
          851,
          852,
          853,
          854,
          855,
          856,
          857,
          858,
          859,
          860,
          861,
          862,
          863,
          864,
          865,
          866,
          867,
          868,
          869,
          870,
          871,
          872,
          873,
          874,
          875,
          876,
          877
         ],
         "y": [
          25.17,
          25.75,
          26.12,
          26.32,
          26.31,
          26.21,
          25.96,
          25.76,
          25.63,
          25.48,
          25.34,
          25.42,
          25.96,
          26.74,
          27.48,
          27.75,
          27.75,
          27.44,
          27.28,
          27.14,
          27.22,
          27.12,
          26.95,
          26.78,
          26.87,
          27.25,
          27.6,
          27.59,
          27.17,
          26.67,
          26.39,
          26.3,
          26.17,
          26.13,
          26.29,
          26.65,
          27.1,
          27.53,
          27.96,
          28.14,
          27.94,
          27.49,
          27.12,
          26.93,
          26.91,
          26.92,
          26.95,
          27,
          26.97,
          26.86,
          26.89,
          26.85,
          26.67,
          26.1,
          25.54,
          25.25,
          25.3,
          25.35,
          25.48,
          25.57,
          25.89,
          26.22,
          26.5,
          26.6,
          26.45,
          26.06,
          25.64,
          25.06,
          24.65,
          24.41,
          24.72,
          25.23,
          25.86,
          26.37,
          26.82,
          26.93,
          26.72,
          26.23,
          25.87,
          25.71,
          25.67,
          25.67,
          25.77,
          26.09,
          26.68,
          27.41,
          28.08,
          28.37,
          28.34,
          28.06,
          27.75,
          27.5,
          27.48,
          27.64,
          27.94,
          28.15,
          28.27,
          28.26,
          28.28,
          28.19,
          27.87,
          27.38,
          26.85,
          26.56,
          26.53,
          26.6,
          26.81,
          26.95,
          27.24,
          27.51,
          27.68,
          27.65,
          27.16,
          26.63,
          26.15,
          26.08,
          26.07,
          26.15,
          26.16,
          26.24,
          26.51,
          26.92,
          27.39,
          27.47,
          27.26,
          26.93,
          26.66,
          26.44,
          26.3,
          26.23,
          26.23,
          26.34,
          26.58,
          26.96,
          27.35,
          27.59,
          27.42,
          26.9,
          26.27,
          25.89,
          25.85,
          25.91,
          26,
          26.05,
          26.32,
          26.71,
          27,
          27.09,
          26.96,
          26.72,
          26.34,
          26.07,
          25.88,
          25.79,
          25.73,
          25.89,
          26.39,
          27.07,
          27.53,
          27.68,
          27.67,
          27.62,
          27.54,
          27.4,
          27.4,
          27.47,
          27.47,
          27.36,
          27.16,
          27.03,
          26.93,
          26.78,
          26.57,
          26.16,
          25.74,
          25.42,
          25.31,
          25.28,
          25.38,
          25.69,
          26.27,
          26.85,
          27.44,
          27.82,
          27.99,
          27.98,
          27.95,
          28.04,
          28.09,
          28.07,
          27.91,
          27.72,
          27.81,
          27.98,
          27.97,
          27.78,
          27.5,
          27.14,
          26.69,
          26.32,
          26.24,
          26.16,
          26.04,
          26.01,
          26.17,
          26.46,
          26.87,
          27.19,
          27.26,
          26.95,
          26.41,
          26.08,
          25.96,
          26,
          25.9,
          25.78,
          25.91,
          26.38,
          26.88,
          27.39,
          27.54,
          27.48,
          27.1,
          26.82,
          26.89,
          27.07,
          27.32,
          27.54,
          27.73,
          27.94,
          28.09,
          28.04,
          27.69,
          27.26,
          27.08,
          27.17,
          27.2,
          27.14,
          26.98,
          26.93,
          26.98,
          27.29,
          27.51,
          27.47,
          26.96,
          26.28,
          25.81,
          25.61,
          25.6,
          25.48,
          25.22,
          25.1,
          25.32,
          25.92,
          26.51,
          26.73,
          26.56,
          26.15,
          25.86,
          25.64,
          25.58,
          25.46,
          25.52,
          25.77,
          26.35,
          27.1,
          27.77,
          28.13,
          28.21,
          28.09,
          28,
          28.04,
          28.26,
          28.51,
          28.54,
          28.32,
          27.95,
          27.59,
          27.26,
          26.92,
          26.42,
          25.84,
          25.35,
          25.01,
          24.71,
          24.47,
          24.38,
          24.64,
          25.14,
          25.82,
          26.33,
          26.55,
          26.52,
          26.42,
          26.26,
          26.06,
          25.82,
          25.67,
          25.78,
          25.94,
          26.13,
          26.39,
          26.63,
          26.64,
          26.31,
          25.82,
          25.43,
          25.09,
          25,
          24.87,
          24.75,
          24.9,
          25.5,
          26.28,
          26.85,
          27.15,
          27.22,
          27.15,
          27.04,
          27.15,
          27.29,
          27.32,
          27.27,
          27.18,
          27.31,
          27.35,
          27.55,
          27.64,
          27.61,
          27.32,
          27.11,
          27.1,
          27.21,
          27.27,
          27.21,
          27.15,
          27.09,
          27.08,
          27.14,
          27.11,
          26.98,
          26.61,
          26.27,
          26.11,
          26.19,
          26.37,
          26.43,
          26.5,
          26.75,
          27.22,
          27.6,
          27.66,
          27.32,
          27,
          26.86,
          26.86,
          26.94,
          26.98,
          27.06,
          27.06,
          27.13,
          27.35,
          27.7,
          27.9,
          27.73,
          27.22,
          26.72,
          26.46,
          26.5,
          26.57,
          26.48,
          26.32,
          26.32,
          26.69,
          27.11,
          27.31,
          27.09,
          26.75,
          26.5,
          26.42,
          26.41,
          26.37,
          26.46,
          26.56,
          26.9,
          27.35,
          27.95,
          28.23,
          28.1,
          27.83,
          27.81,
          28.16,
          28.5,
          28.7,
          28.76,
          28.79,
          28.75,
          28.71,
          28.76,
          28.63,
          28.1,
          27.36,
          26.66,
          26.12,
          25.73,
          25.52,
          25.62,
          26.01,
          26.41,
          26.83,
          27.04,
          27.06,
          26.94,
          26.74,
          26.59,
          26.34,
          25.98,
          25.61,
          25.39,
          25.56,
          25.98,
          26.4,
          26.69,
          26.79,
          26.76,
          26.55,
          26.29,
          26.18,
          26.19,
          26.25,
          26.14,
          26.05,
          26.28,
          26.81,
          27.26,
          27.44,
          27.34,
          27.26,
          27.2,
          27.31,
          27.49,
          27.64,
          27.7,
          27.76,
          27.95,
          28.19,
          28.41,
          28.53,
          28.59,
          28.54,
          28.45,
          28.24,
          28.03,
          27.76,
          27.59,
          27.34,
          27.29,
          27.27,
          27.15,
          26.69,
          26.08,
          25.74,
          25.65,
          25.4,
          25.07,
          24.71,
          24.63,
          24.84,
          25.32,
          26.04,
          26.64,
          26.99,
          26.97,
          26.73,
          26.48,
          26.35,
          26.33,
          26.34,
          26.43,
          26.67,
          26.96,
          27.41,
          27.75,
          27.86,
          27.68,
          27.37,
          27.13,
          26.98,
          26.89,
          26.9,
          26.94,
          27.02,
          27.15,
          27.48,
          27.85,
          28.16,
          28.17,
          27.94,
          27.57,
          27.41,
          27.54,
          27.91,
          28.18,
          28.39,
          28.52,
          28.73,
          28.88,
          28.76,
          28.26,
          27.57,
          27.03,
          26.66,
          26.5,
          26.43,
          26.52,
          26.77,
          27.18,
          27.75,
          28.27,
          28.4,
          28.1,
          27.53,
          27.19,
          26.94,
          26.85,
          26.75,
          26.71,
          26.74,
          26.95,
          27.43,
          27.9,
          28.12,
          27.94,
          27.65,
          27.37,
          27.35,
          27.49,
          27.71,
          27.74,
          27.64,
          27.61,
          27.79,
          27.9,
          27.84,
          27.5,
          26.97,
          26.4,
          25.99,
          25.78,
          25.7,
          25.66,
          25.76,
          26.1,
          26.65,
          27.2,
          27.4,
          27.23,
          26.93,
          26.59,
          26.39,
          26.28,
          26.17,
          26.09,
          26.12,
          26.49,
          27.14,
          27.87,
          28.46,
          28.75,
          28.8,
          28.81,
          28.88,
          29.01,
          29.02,
          28.97,
          28.87,
          28.78,
          28.68,
          28.59,
          28.16,
          27.39,
          26.42,
          25.79,
          25.44,
          25.32,
          25.14,
          25.01,
          25.08,
          25.55,
          26.17,
          26.62,
          26.68,
          26.49,
          26.1,
          25.8,
          25.58,
          25.41,
          25.16,
          24.93,
          24.96,
          25.44,
          26.17,
          26.78,
          27,
          26.88,
          26.65,
          26.4,
          26.2,
          26.05,
          25.88,
          25.81,
          25.88,
          26.26,
          26.76,
          27.25,
          27.49,
          27.47,
          27.2,
          26.86,
          26.63,
          26.48,
          26.37,
          26.31,
          26.44,
          26.81,
          27.29,
          27.8,
          28.18,
          28.24,
          28.06,
          27.85,
          27.83,
          27.97,
          28.03,
          27.76,
          27.51,
          27.41,
          27.58,
          27.56,
          27.48,
          27.42,
          27.35,
          27.2,
          27.08,
          27.05,
          27.07,
          26.97,
          26.95,
          27.08,
          27.43,
          27.76,
          27.91,
          27.87,
          27.74,
          27.63,
          27.52,
          27.44,
          27.38,
          27.3,
          27.22,
          27.36,
          27.65,
          28.02,
          28.03,
          27.69,
          27.21,
          26.85,
          26.71,
          26.48,
          26.15,
          25.81,
          25.8,
          26.1,
          26.73,
          27.31,
          27.69,
          27.62,
          27.4,
          27.26,
          27.3,
          27.48,
          27.62,
          27.56,
          27.3,
          27.09,
          27.18,
          27.37,
          27.45,
          27.18,
          26.74,
          26.15,
          25.69,
          25.37,
          25.17,
          25.02,
          25,
          25.35,
          26.01,
          26.67,
          26.99,
          27.04,
          26.92,
          26.73,
          26.52,
          26.36,
          26.12,
          25.88,
          25.79,
          26.08,
          26.68,
          27.36,
          27.84,
          27.94,
          27.75,
          27.53,
          27.47,
          27.72,
          28.03,
          28.18,
          28.14,
          28.09,
          28.14,
          28.04,
          27.66,
          27,
          26.25,
          25.61,
          25.21,
          25.07,
          25.03,
          25.02,
          25.22,
          25.68,
          26.37,
          26.95,
          27.28,
          27.21,
          26.81,
          26.33,
          25.93,
          25.7,
          25.58,
          25.58,
          25.77,
          26.15,
          26.71,
          27.21,
          27.57,
          27.64,
          27.54,
          27.32,
          27.13,
          26.98,
          26.73,
          26.41,
          26.21,
          26.44,
          26.96,
          27.38,
          27.47,
          27.24,
          26.89,
          26.64,
          26.51,
          26.54,
          26.5,
          26.35,
          26.22,
          26.41,
          27.03,
          27.73,
          28.04,
          27.82,
          27.34,
          27.02,
          27,
          27.21,
          27.31,
          27.28,
          27.19,
          27.34,
          27.82,
          28.38,
          28.76,
          28.83,
          28.81,
          28.82,
          28.93,
          29.14,
          29.25,
          29.26,
          29.12,
          29.01,
          28.88,
          28.62,
          28.22,
          27.59,
          26.93,
          26.42,
          26.14,
          26.02,
          26.01,
          26.06,
          26.3,
          26.71,
          27.35,
          27.89,
          28.13,
          27.97,
          27.43,
          26.84,
          26.38,
          26.06,
          25.84,
          25.64,
          25.72,
          26.02,
          26.6,
          27.18,
          27.61,
          27.64,
          27.38,
          27.18,
          27.25,
          27.47,
          27.57,
          27.43,
          27.39,
          27.59,
          28.01,
          28.34,
          28.37,
          28.1,
          27.57,
          27.1,
          26.95,
          27.06,
          27.18,
          27.17,
          27.14,
          27.35,
          27.7,
          27.87,
          27.75,
          27.35,
          26.88,
          26.38,
          25.87,
          25.54,
          25.4,
          25.43,
          25.59,
          25.94,
          26.46,
          27.03,
          27.35,
          27.28,
          26.89,
          26.46,
          26.09,
          25.9,
          25.69,
          25.63,
          25.67,
          25.94,
          26.31,
          26.62,
          26.84,
          26.8,
          26.48,
          26.04,
          25.75,
          25.72,
          25.76,
          25.8,
          25.97,
          26.44,
          27.14
         ]
        },
        {
         "mode": "lines",
         "name": "pred",
         "type": "scatter",
         "x": [
          436,
          437,
          438,
          439,
          440,
          441,
          442,
          443,
          444,
          445,
          446,
          447,
          448,
          449,
          450,
          451,
          452,
          453,
          454,
          455,
          456,
          457,
          458,
          459,
          460,
          461,
          462,
          463,
          464,
          465,
          466,
          467,
          468,
          469,
          470,
          471,
          472,
          473,
          474,
          475,
          476,
          477,
          478,
          479,
          480,
          481,
          482,
          483,
          484,
          485,
          486,
          487,
          488,
          489,
          490,
          491,
          492,
          493,
          494,
          495,
          496,
          497,
          498,
          499,
          500,
          501,
          502,
          503,
          504,
          505,
          506,
          507,
          508,
          509,
          510,
          511,
          512,
          513,
          514,
          515,
          516,
          517,
          518,
          519,
          520,
          521,
          522,
          523,
          524,
          525,
          526,
          527,
          528,
          529,
          530,
          531,
          532,
          533,
          534,
          535,
          536,
          537,
          538,
          539,
          540,
          541,
          542,
          543,
          544,
          545,
          546,
          547,
          548,
          549,
          550,
          551,
          552,
          553,
          554,
          555,
          556,
          557,
          558,
          559,
          560,
          561,
          562,
          563,
          564,
          565,
          566,
          567,
          568,
          569,
          570,
          571,
          572,
          573,
          574,
          575,
          576,
          577,
          578,
          579,
          580,
          581,
          582,
          583,
          584,
          585,
          586,
          587,
          588,
          589,
          590,
          591,
          592,
          593,
          594,
          595,
          596,
          597,
          598,
          599,
          600,
          601,
          602,
          603,
          604,
          605,
          606,
          607,
          608,
          609,
          610,
          611,
          612,
          613,
          614,
          615,
          616,
          617,
          618,
          619,
          620,
          621,
          622,
          623,
          624,
          625,
          626,
          627,
          628,
          629,
          630,
          631,
          632,
          633,
          634,
          635,
          636,
          637,
          638,
          639,
          640,
          641,
          642,
          643,
          644,
          645,
          646,
          647,
          648,
          649,
          650,
          651,
          652,
          653,
          654,
          655,
          656,
          657,
          658,
          659,
          660,
          661,
          662,
          663,
          664,
          665,
          666,
          667,
          668,
          669,
          670,
          671,
          672,
          673,
          674,
          675,
          676,
          677,
          678,
          679,
          680,
          681,
          682,
          683,
          684,
          685,
          686,
          687,
          688,
          689,
          690,
          691,
          692,
          693,
          694,
          695,
          696,
          697,
          698,
          699,
          700,
          701,
          702,
          703,
          704,
          705,
          706,
          707,
          708,
          709,
          710,
          711,
          712,
          713,
          714,
          715,
          716,
          717,
          718,
          719,
          720,
          721,
          722,
          723,
          724,
          725,
          726,
          727,
          728,
          729,
          730,
          731,
          732,
          733,
          734,
          735,
          736,
          737,
          738,
          739,
          740,
          741,
          742,
          743,
          744,
          745,
          746,
          747,
          748,
          749,
          750,
          751,
          752,
          753,
          754,
          755,
          756,
          757,
          758,
          759,
          760,
          761,
          762,
          763,
          764,
          765,
          766,
          767,
          768,
          769,
          770,
          771,
          772,
          773,
          774,
          775,
          776,
          777,
          778,
          779,
          780,
          781,
          782,
          783,
          784,
          785,
          786,
          787,
          788,
          789,
          790,
          791,
          792,
          793,
          794,
          795,
          796,
          797,
          798,
          799,
          800,
          801,
          802,
          803,
          804,
          805,
          806,
          807,
          808,
          809,
          810,
          811,
          812,
          813,
          814,
          815,
          816,
          817,
          818,
          819,
          820,
          821,
          822,
          823,
          824,
          825,
          826,
          827,
          828,
          829,
          830,
          831,
          832,
          833,
          834,
          835,
          836,
          837,
          838,
          839,
          840,
          841,
          842,
          843,
          844,
          845,
          846,
          847,
          848,
          849,
          850,
          851,
          852,
          853,
          854,
          855,
          856,
          857,
          858,
          859,
          860,
          861,
          862,
          863,
          864,
          865,
          866,
          867,
          868,
          869,
          870,
          871,
          872,
          873,
          874,
          875,
          876,
          877
         ],
         "y": [
          26.592416666666686,
          25.897108571428586,
          25.897108571428586,
          26.932933333333303,
          26.729052041847048,
          26.729052041847048,
          27.392695238095254,
          26.98752666666665,
          26.943233333333346,
          27.349400000000017,
          27.27570000000001,
          26.558300000000028,
          26.35965000000002,
          26.23072309523811,
          26.23072309523811,
          27.43142333333336,
          27.20915107142856,
          27.20915107142856,
          26.66313333333332,
          26.897920000000017,
          26.897920000000017,
          27.015200000000004,
          26.938999999999968,
          26.595499999999973,
          25.814299999999992,
          25.505076666666653,
          25.505076666666653,
          26.50559999999999,
          26.514284999999962,
          26.514284999999962,
          25.21926666666663,
          25.16774238095239,
          25.16774238095239,
          25.814209523809485,
          26.557666666666673,
          26.557666666666673,
          26.161076190476216,
          26.159720000000004,
          26.159720000000004,
          26.946199999999994,
          28.220721111111104,
          28.220721111111104,
          27.255243333333343,
          27.548761706349204,
          27.734900000000017,
          28.096908333333346,
          28.096908333333346,
          27.24930000000004,
          26.640999999999963,
          26.640999999999963,
          26.94666309523807,
          27.57766333333336,
          27.57766333333336,
          26.30879166666671,
          26.330586666666672,
          26.330586666666672,
          26.551849999999977,
          27.12880000000002,
          27.102034365079348,
          27.102034365079348,
          27.089739999999995,
          26.42924833333334,
          26.42924833333334,
          27.158740000000016,
          27.199833333333316,
          27.199833333333316,
          26.09845095238097,
          26.09845095238097,
          26.33063214285716,
          26.887520000000016,
          26.872530000000005,
          26.677784523809507,
          26.450284523809536,
          25.902099999999987,
          25.902099999999987,
          26.986883333333356,
          27.301972380952385,
          27.301972380952385,
          27.342555714285737,
          27.397319999999983,
          27.3587,
          27.420500000000043,
          26.852000000000036,
          26.743966666666665,
          25.82112000000002,
          25.61582619047621,
          25.61582619047621,
          26.614299999999968,
          27.764688571428593,
          27.764688571428593,
          27.359927182539664,
          27.438380000000006,
          27.42629999999996,
          27.821600000000025,
          27.821600000000025,
          26.630940000000006,
          26.259433333333327,
          26.259433333333327,
          26.345950000000038,
          26.991830000000014,
          27.055825000000027,
          27.055825000000027,
          26.176689999999986,
          25.97518000000002,
          25.97518000000002,
          26.948800000000055,
          26.93935000000002,
          26.24849721001221,
          26.24849721001221,
          27.070700000000016,
          27.086470000000013,
          27.858400000000028,
          27.75047499999998,
          27.535160476190473,
          26.88550000000003,
          26.99535999999999,
          26.99535999999999,
          27.389079999999975,
          27.75047499999998,
          26.27674666666669,
          26.24849721001221,
          25.376354761904746,
          25.376354761904746,
          27.372986190476198,
          27.159055,
          25.838282857142868,
          25.838282857142868,
          25.664131666666663,
          25.664131666666663,
          26.999799999999972,
          28.13649111111113,
          28.13649111111113,
          27.670100000000005,
          27.6882666666667,
          27.692900000000005,
          26.768286666666658,
          26.68240833333337,
          26.333900000000007,
          24.901055238095243,
          24.901055238095243,
          24.84914000000002,
          26.23072309523811,
          26.584741666666687,
          26.584741666666687,
          26.087766666666635,
          26.10701000000001,
          26.10701000000001,
          26.398800000000005,
          26.525679285714315,
          26.35202380952381,
          25.629500000000007,
          25.277755000000006,
          25.277755000000006,
          27.176012142857147,
          27.320566666666714,
          27.27850000000004,
          27.27850000000004,
          27.652500000000003,
          27.238479999999978,
          27.351199999999952,
          27.426526666666675,
          27.426526666666675,
          27.186628214285705,
          27.186628214285705,
          27.515088333333367,
          27.00809999999997,
          27.027399999999986,
          26.827299999999987,
          26.768286666666658,
          27.548761706349204,
          27.548761706349204,
          26.974399999999996,
          27.183095476190474,
          26.84913404761906,
          26.84913404761906,
          26.953420000000015,
          27.092499999999983,
          27.26949999999995,
          27.79792333333336,
          26.77701999999998,
          26.463483333333357,
          26.5102142857143,
          26.5102142857143,
          26.81600000000004,
          27.396399999999975,
          26.584869761904766,
          26.584869761904766,
          26.780849999999983,
          26.923999999999968,
          27.382899999999967,
          27.893603095238095,
          27.893603095238095,
          27.52841666666667,
          27.372986190476198,
          27.769521666666666,
          27.548761706349204,
          28.217900000000046,
          26.945600000000013,
          26.95142666666663,
          26.729052041847048,
          26.729052041847048,
          27.233552380952357,
          26.856727142857135,
          26.856727142857135,
          26.720099999999988,
          26.33179999999999,
          25.44926666666663,
          26.584869761904766,
          26.78461000000001,
          26.78461000000001,
          26.5442,
          26.2793,
          26.224499999999992,
          27.053499999999953,
          26.266388809523825,
          27.237316666666658,
          27.237316666666658,
          27.358805000000007,
          27.73816666666671,
          27.820100000000046,
          28.26300333333333,
          28.26300333333333,
          27.942406666666628,
          27.5167066666667,
          27.045466666666663,
          26.959220000000013,
          26.959220000000013,
          25.783090000000012,
          25.783090000000012,
          25.494153333333337,
          25.634830000000008,
          26.234846666666666,
          27.40764523809522,
          26.532457857142855,
          26.532457857142855,
          26.14938333333333,
          27.054600000000033,
          27.186628214285705,
          27.52324166666666,
          27.52324166666666,
          26.45284000000001,
          26.864802857142866,
          26.864802857142866,
          27.504800000000024,
          27.79680833333334,
          27.35508499999999,
          27.35508499999999,
          27.79680833333334,
          27.548761706349204,
          27.958809404761904,
          27.958809404761904,
          26.979476190476216,
          26.85193333333333,
          26.673019999999998,
          26.673019999999998,
          27.49059999999999,
          27.821783571428597,
          27.821783571428597,
          26.681400000000025,
          27.20915107142856,
          27.20915107142856,
          27.499446666666653,
          27.089739999999995,
          27.335900000000006,
          27.335900000000006,
          27.442013333333353,
          27.659244999999995,
          27.586239999999993,
          27.589160000000003,
          27.26769999999999,
          26.707674999999977,
          25.66723761904764,
          25.66723761904764,
          26.773300000000035,
          26.976757142857146,
          26.976757142857146,
          26.462099999999996,
          27.438380000000006,
          26.666443333333294,
          26.991830000000014,
          28.045550238095256,
          28.718413333333366,
          28.718413333333366,
          27.995849999999976,
          28.704877499999995,
          28.704877499999995,
          28.370307499999996,
          26.567441666666696,
          25.283914285714303,
          25.283914285714303,
          25.132964285714266,
          26.463960000000025,
          26.329859999999982,
          26.329859999999982,
          26.296216904761874,
          25.172199999999986,
          25.172199999999986,
          26.492173333333362,
          26.753533333333344,
          26.753533333333344,
          26.336939999999995,
          26.010800000000035,
          26.37009428571433,
          27.086470000000013,
          27.1854014285714,
          27.1854014285714,
          26.415030476190523,
          26.460411666666673,
          26.460411666666673,
          27.483399999999993,
          27.97161499999997,
          27.97161499999997,
          28.479249047619028,
          27.571400000000036,
          27.49664000000002,
          27.05608499999998,
          27.36399857142859,
          27.508333333333308,
          27.311399999999985,
          27.358805000000007,
          27.21879999999999,
          27.383199999999974,
          27.5881,
          27.535160476190473,
          27.535160476190473,
          27.563800000000057,
          27.254879999999975,
          27.463800000000028,
          27.571246666666692,
          26.911666666666683,
          26.911666666666683,
          26.025383333333345,
          26.025383333333345,
          27.072198333333326,
          27.482656190476224,
          27.29060476190477,
          27.29060476190477,
          27.42806666666667,
          27.42806666666667,
          27.362283571428556,
          27.362283571428556,
          26.86219999999997,
          25.924433333333354,
          25.1379192857143,
          25.1379192857143,
          26.278633333333364,
          27.015399999999996,
          27.015399999999996,
          26.80197333333333,
          26.581866666666635,
          25.966699999999996,
          26.965266666666647,
          27.54015000000002,
          27.40764523809522,
          27.40764523809522,
          27.886475000000033,
          27.938400000000005,
          27.960249999999988,
          27.68347499999999,
          26.535009999999996,
          25.256125833333343,
          25.256125833333343,
          26.043200000000002,
          26.658924999999954,
          27.327350000000024,
          26.386706666666647,
          26.386706666666647,
          25.869314999999997,
          25.869314999999997,
          26.800300000000025,
          27.34317500000001,
          27.20189083333334,
          27.20189083333334,
          26.634146666666673,
          26.871100000000006,
          27.00225,
          27.179003809523792,
          27.179003809523792,
          26.78475000000003,
          26.437519999999996,
          26.437519999999996,
          26.893100000000015,
          27.355983333333334,
          27.115033809523812,
          27.115033809523812,
          27.072038095238064,
          27.263416666666707,
          27.652500000000003,
          27.947652380952377,
          28.479249047619028,
          28.479249047619028,
          28.581631904761903,
          28.505112857142844,
          28.505112857142844,
          27.229249999999993,
          27.07157499999999,
          26.4093161904762,
          26.4093161904762,
          26.312693333333343,
          27.250666666666636,
          27.30339583333334,
          27.30339583333334,
          27.30339583333334,
          25.741280000000003,
          25.741280000000003,
          26.84913404761906,
          27.482656190476224,
          27.346874523809543,
          27.346874523809543,
          27.51007500000001,
          27.499446666666653,
          27.56720000000004,
          27.69989999999996,
          27.715239166666677,
          27.102034365079348,
          27.035311428571426,
          27.035311428571426,
          28.505112857142844,
          27.548399999999987,
          26.80620000000005,
          25.747713333333287,
          26.24849721001221,
          26.24849721001221,
          26.78985000000002,
          26.93763333333332,
          26.93763333333332,
          26.563490952380956,
          26.266388809523825,
          26.266388809523825,
          27.958809404761904,
          26.98752666666665,
          26.522900000000003,
          26.10045666666669,
          26.10045666666669,
          25.997926666666658,
          26.72352547619049
         ]
        }
       ],
       "layout": {
        "template": {
         "data": {
          "bar": [
           {
            "error_x": {
             "color": "#2a3f5f"
            },
            "error_y": {
             "color": "#2a3f5f"
            },
            "marker": {
             "line": {
              "color": "#E5ECF6",
              "width": 0.5
             },
             "pattern": {
              "fillmode": "overlay",
              "size": 10,
              "solidity": 0.2
             }
            },
            "type": "bar"
           }
          ],
          "barpolar": [
           {
            "marker": {
             "line": {
              "color": "#E5ECF6",
              "width": 0.5
             },
             "pattern": {
              "fillmode": "overlay",
              "size": 10,
              "solidity": 0.2
             }
            },
            "type": "barpolar"
           }
          ],
          "carpet": [
           {
            "aaxis": {
             "endlinecolor": "#2a3f5f",
             "gridcolor": "white",
             "linecolor": "white",
             "minorgridcolor": "white",
             "startlinecolor": "#2a3f5f"
            },
            "baxis": {
             "endlinecolor": "#2a3f5f",
             "gridcolor": "white",
             "linecolor": "white",
             "minorgridcolor": "white",
             "startlinecolor": "#2a3f5f"
            },
            "type": "carpet"
           }
          ],
          "choropleth": [
           {
            "colorbar": {
             "outlinewidth": 0,
             "ticks": ""
            },
            "type": "choropleth"
           }
          ],
          "contour": [
           {
            "colorbar": {
             "outlinewidth": 0,
             "ticks": ""
            },
            "colorscale": [
             [
              0,
              "#0d0887"
             ],
             [
              0.1111111111111111,
              "#46039f"
             ],
             [
              0.2222222222222222,
              "#7201a8"
             ],
             [
              0.3333333333333333,
              "#9c179e"
             ],
             [
              0.4444444444444444,
              "#bd3786"
             ],
             [
              0.5555555555555556,
              "#d8576b"
             ],
             [
              0.6666666666666666,
              "#ed7953"
             ],
             [
              0.7777777777777778,
              "#fb9f3a"
             ],
             [
              0.8888888888888888,
              "#fdca26"
             ],
             [
              1,
              "#f0f921"
             ]
            ],
            "type": "contour"
           }
          ],
          "contourcarpet": [
           {
            "colorbar": {
             "outlinewidth": 0,
             "ticks": ""
            },
            "type": "contourcarpet"
           }
          ],
          "heatmap": [
           {
            "colorbar": {
             "outlinewidth": 0,
             "ticks": ""
            },
            "colorscale": [
             [
              0,
              "#0d0887"
             ],
             [
              0.1111111111111111,
              "#46039f"
             ],
             [
              0.2222222222222222,
              "#7201a8"
             ],
             [
              0.3333333333333333,
              "#9c179e"
             ],
             [
              0.4444444444444444,
              "#bd3786"
             ],
             [
              0.5555555555555556,
              "#d8576b"
             ],
             [
              0.6666666666666666,
              "#ed7953"
             ],
             [
              0.7777777777777778,
              "#fb9f3a"
             ],
             [
              0.8888888888888888,
              "#fdca26"
             ],
             [
              1,
              "#f0f921"
             ]
            ],
            "type": "heatmap"
           }
          ],
          "heatmapgl": [
           {
            "colorbar": {
             "outlinewidth": 0,
             "ticks": ""
            },
            "colorscale": [
             [
              0,
              "#0d0887"
             ],
             [
              0.1111111111111111,
              "#46039f"
             ],
             [
              0.2222222222222222,
              "#7201a8"
             ],
             [
              0.3333333333333333,
              "#9c179e"
             ],
             [
              0.4444444444444444,
              "#bd3786"
             ],
             [
              0.5555555555555556,
              "#d8576b"
             ],
             [
              0.6666666666666666,
              "#ed7953"
             ],
             [
              0.7777777777777778,
              "#fb9f3a"
             ],
             [
              0.8888888888888888,
              "#fdca26"
             ],
             [
              1,
              "#f0f921"
             ]
            ],
            "type": "heatmapgl"
           }
          ],
          "histogram": [
           {
            "marker": {
             "pattern": {
              "fillmode": "overlay",
              "size": 10,
              "solidity": 0.2
             }
            },
            "type": "histogram"
           }
          ],
          "histogram2d": [
           {
            "colorbar": {
             "outlinewidth": 0,
             "ticks": ""
            },
            "colorscale": [
             [
              0,
              "#0d0887"
             ],
             [
              0.1111111111111111,
              "#46039f"
             ],
             [
              0.2222222222222222,
              "#7201a8"
             ],
             [
              0.3333333333333333,
              "#9c179e"
             ],
             [
              0.4444444444444444,
              "#bd3786"
             ],
             [
              0.5555555555555556,
              "#d8576b"
             ],
             [
              0.6666666666666666,
              "#ed7953"
             ],
             [
              0.7777777777777778,
              "#fb9f3a"
             ],
             [
              0.8888888888888888,
              "#fdca26"
             ],
             [
              1,
              "#f0f921"
             ]
            ],
            "type": "histogram2d"
           }
          ],
          "histogram2dcontour": [
           {
            "colorbar": {
             "outlinewidth": 0,
             "ticks": ""
            },
            "colorscale": [
             [
              0,
              "#0d0887"
             ],
             [
              0.1111111111111111,
              "#46039f"
             ],
             [
              0.2222222222222222,
              "#7201a8"
             ],
             [
              0.3333333333333333,
              "#9c179e"
             ],
             [
              0.4444444444444444,
              "#bd3786"
             ],
             [
              0.5555555555555556,
              "#d8576b"
             ],
             [
              0.6666666666666666,
              "#ed7953"
             ],
             [
              0.7777777777777778,
              "#fb9f3a"
             ],
             [
              0.8888888888888888,
              "#fdca26"
             ],
             [
              1,
              "#f0f921"
             ]
            ],
            "type": "histogram2dcontour"
           }
          ],
          "mesh3d": [
           {
            "colorbar": {
             "outlinewidth": 0,
             "ticks": ""
            },
            "type": "mesh3d"
           }
          ],
          "parcoords": [
           {
            "line": {
             "colorbar": {
              "outlinewidth": 0,
              "ticks": ""
             }
            },
            "type": "parcoords"
           }
          ],
          "pie": [
           {
            "automargin": true,
            "type": "pie"
           }
          ],
          "scatter": [
           {
            "fillpattern": {
             "fillmode": "overlay",
             "size": 10,
             "solidity": 0.2
            },
            "type": "scatter"
           }
          ],
          "scatter3d": [
           {
            "line": {
             "colorbar": {
              "outlinewidth": 0,
              "ticks": ""
             }
            },
            "marker": {
             "colorbar": {
              "outlinewidth": 0,
              "ticks": ""
             }
            },
            "type": "scatter3d"
           }
          ],
          "scattercarpet": [
           {
            "marker": {
             "colorbar": {
              "outlinewidth": 0,
              "ticks": ""
             }
            },
            "type": "scattercarpet"
           }
          ],
          "scattergeo": [
           {
            "marker": {
             "colorbar": {
              "outlinewidth": 0,
              "ticks": ""
             }
            },
            "type": "scattergeo"
           }
          ],
          "scattergl": [
           {
            "marker": {
             "colorbar": {
              "outlinewidth": 0,
              "ticks": ""
             }
            },
            "type": "scattergl"
           }
          ],
          "scattermapbox": [
           {
            "marker": {
             "colorbar": {
              "outlinewidth": 0,
              "ticks": ""
             }
            },
            "type": "scattermapbox"
           }
          ],
          "scatterpolar": [
           {
            "marker": {
             "colorbar": {
              "outlinewidth": 0,
              "ticks": ""
             }
            },
            "type": "scatterpolar"
           }
          ],
          "scatterpolargl": [
           {
            "marker": {
             "colorbar": {
              "outlinewidth": 0,
              "ticks": ""
             }
            },
            "type": "scatterpolargl"
           }
          ],
          "scatterternary": [
           {
            "marker": {
             "colorbar": {
              "outlinewidth": 0,
              "ticks": ""
             }
            },
            "type": "scatterternary"
           }
          ],
          "surface": [
           {
            "colorbar": {
             "outlinewidth": 0,
             "ticks": ""
            },
            "colorscale": [
             [
              0,
              "#0d0887"
             ],
             [
              0.1111111111111111,
              "#46039f"
             ],
             [
              0.2222222222222222,
              "#7201a8"
             ],
             [
              0.3333333333333333,
              "#9c179e"
             ],
             [
              0.4444444444444444,
              "#bd3786"
             ],
             [
              0.5555555555555556,
              "#d8576b"
             ],
             [
              0.6666666666666666,
              "#ed7953"
             ],
             [
              0.7777777777777778,
              "#fb9f3a"
             ],
             [
              0.8888888888888888,
              "#fdca26"
             ],
             [
              1,
              "#f0f921"
             ]
            ],
            "type": "surface"
           }
          ],
          "table": [
           {
            "cells": {
             "fill": {
              "color": "#EBF0F8"
             },
             "line": {
              "color": "white"
             }
            },
            "header": {
             "fill": {
              "color": "#C8D4E3"
             },
             "line": {
              "color": "white"
             }
            },
            "type": "table"
           }
          ]
         },
         "layout": {
          "annotationdefaults": {
           "arrowcolor": "#2a3f5f",
           "arrowhead": 0,
           "arrowwidth": 1
          },
          "autotypenumbers": "strict",
          "coloraxis": {
           "colorbar": {
            "outlinewidth": 0,
            "ticks": ""
           }
          },
          "colorscale": {
           "diverging": [
            [
             0,
             "#8e0152"
            ],
            [
             0.1,
             "#c51b7d"
            ],
            [
             0.2,
             "#de77ae"
            ],
            [
             0.3,
             "#f1b6da"
            ],
            [
             0.4,
             "#fde0ef"
            ],
            [
             0.5,
             "#f7f7f7"
            ],
            [
             0.6,
             "#e6f5d0"
            ],
            [
             0.7,
             "#b8e186"
            ],
            [
             0.8,
             "#7fbc41"
            ],
            [
             0.9,
             "#4d9221"
            ],
            [
             1,
             "#276419"
            ]
           ],
           "sequential": [
            [
             0,
             "#0d0887"
            ],
            [
             0.1111111111111111,
             "#46039f"
            ],
            [
             0.2222222222222222,
             "#7201a8"
            ],
            [
             0.3333333333333333,
             "#9c179e"
            ],
            [
             0.4444444444444444,
             "#bd3786"
            ],
            [
             0.5555555555555556,
             "#d8576b"
            ],
            [
             0.6666666666666666,
             "#ed7953"
            ],
            [
             0.7777777777777778,
             "#fb9f3a"
            ],
            [
             0.8888888888888888,
             "#fdca26"
            ],
            [
             1,
             "#f0f921"
            ]
           ],
           "sequentialminus": [
            [
             0,
             "#0d0887"
            ],
            [
             0.1111111111111111,
             "#46039f"
            ],
            [
             0.2222222222222222,
             "#7201a8"
            ],
            [
             0.3333333333333333,
             "#9c179e"
            ],
            [
             0.4444444444444444,
             "#bd3786"
            ],
            [
             0.5555555555555556,
             "#d8576b"
            ],
            [
             0.6666666666666666,
             "#ed7953"
            ],
            [
             0.7777777777777778,
             "#fb9f3a"
            ],
            [
             0.8888888888888888,
             "#fdca26"
            ],
            [
             1,
             "#f0f921"
            ]
           ]
          },
          "colorway": [
           "#636efa",
           "#EF553B",
           "#00cc96",
           "#ab63fa",
           "#FFA15A",
           "#19d3f3",
           "#FF6692",
           "#B6E880",
           "#FF97FF",
           "#FECB52"
          ],
          "font": {
           "color": "#2a3f5f"
          },
          "geo": {
           "bgcolor": "white",
           "lakecolor": "white",
           "landcolor": "#E5ECF6",
           "showlakes": true,
           "showland": true,
           "subunitcolor": "white"
          },
          "hoverlabel": {
           "align": "left"
          },
          "hovermode": "closest",
          "mapbox": {
           "style": "light"
          },
          "paper_bgcolor": "white",
          "plot_bgcolor": "#E5ECF6",
          "polar": {
           "angularaxis": {
            "gridcolor": "white",
            "linecolor": "white",
            "ticks": ""
           },
           "bgcolor": "#E5ECF6",
           "radialaxis": {
            "gridcolor": "white",
            "linecolor": "white",
            "ticks": ""
           }
          },
          "scene": {
           "xaxis": {
            "backgroundcolor": "#E5ECF6",
            "gridcolor": "white",
            "gridwidth": 2,
            "linecolor": "white",
            "showbackground": true,
            "ticks": "",
            "zerolinecolor": "white"
           },
           "yaxis": {
            "backgroundcolor": "#E5ECF6",
            "gridcolor": "white",
            "gridwidth": 2,
            "linecolor": "white",
            "showbackground": true,
            "ticks": "",
            "zerolinecolor": "white"
           },
           "zaxis": {
            "backgroundcolor": "#E5ECF6",
            "gridcolor": "white",
            "gridwidth": 2,
            "linecolor": "white",
            "showbackground": true,
            "ticks": "",
            "zerolinecolor": "white"
           }
          },
          "shapedefaults": {
           "line": {
            "color": "#2a3f5f"
           }
          },
          "ternary": {
           "aaxis": {
            "gridcolor": "white",
            "linecolor": "white",
            "ticks": ""
           },
           "baxis": {
            "gridcolor": "white",
            "linecolor": "white",
            "ticks": ""
           },
           "bgcolor": "#E5ECF6",
           "caxis": {
            "gridcolor": "white",
            "linecolor": "white",
            "ticks": ""
           }
          },
          "title": {
           "x": 0.05
          },
          "xaxis": {
           "automargin": true,
           "gridcolor": "white",
           "linecolor": "white",
           "ticks": "",
           "title": {
            "standoff": 15
           },
           "zerolinecolor": "white",
           "zerolinewidth": 2
          },
          "yaxis": {
           "automargin": true,
           "gridcolor": "white",
           "linecolor": "white",
           "ticks": "",
           "title": {
            "standoff": 15
           },
           "zerolinecolor": "white",
           "zerolinewidth": 2
          }
         }
        }
       }
      }
     },
     "metadata": {},
     "output_type": "display_data"
    }
   ],
   "source": [
    "\n",
    "fig = go.Figure()\n",
    "\n",
    "fig.add_trace(go.Scatter(x=, y=y1, mode=\"lines\", name=\"TOTAL\"))\n",
    "fig.add_trace(go.Scatter(x=[i for i in range(len(y_pred), len(data.index))], y=y_pred, mode=\"lines\", name=\"pred\"))\n",
    "\n",
    "\n",
    "fig.show()"
   ]
  },
  {
   "cell_type": "code",
   "execution_count": 54,
   "metadata": {},
   "outputs": [
    {
     "data": {
      "application/vnd.plotly.v1+json": {
       "config": {
        "plotlyServerURL": "https://plot.ly"
       },
       "data": [
        {
         "mode": "lines",
         "name": "TOTAL",
         "type": "scatter",
         "x": [
          0,
          1,
          2,
          3,
          4,
          5,
          6,
          7,
          8,
          9,
          10,
          11,
          12,
          13,
          14,
          15,
          16,
          17,
          18,
          19,
          20,
          21,
          22,
          23,
          24,
          25,
          26,
          27,
          28,
          29,
          30,
          31,
          32,
          33,
          34,
          35,
          36,
          37,
          38,
          39,
          40,
          41,
          42,
          43,
          44,
          45,
          46,
          47,
          48,
          49,
          50,
          51,
          52,
          53,
          54,
          55,
          56,
          57,
          58,
          59,
          60,
          61,
          62,
          63,
          64,
          65,
          66,
          67,
          68,
          69,
          70,
          71,
          72,
          73,
          74,
          75,
          76,
          77,
          78,
          79,
          80,
          81,
          82,
          83,
          84,
          85,
          86,
          87,
          88,
          89,
          90,
          91,
          92,
          93,
          94,
          95,
          96,
          97,
          98,
          99,
          100,
          101,
          102,
          103,
          104,
          105,
          106,
          107,
          108,
          109,
          110,
          111,
          112,
          113,
          114,
          115,
          116,
          117,
          118,
          119,
          120,
          121,
          122,
          123,
          124,
          125,
          126,
          127,
          128,
          129,
          130,
          131,
          132,
          133,
          134,
          135,
          136,
          137,
          138,
          139,
          140,
          141,
          142,
          143,
          144,
          145,
          146,
          147,
          148,
          149,
          150,
          151,
          152,
          153,
          154,
          155,
          156,
          157,
          158,
          159,
          160,
          161,
          162,
          163,
          164,
          165,
          166,
          167,
          168,
          169,
          170,
          171,
          172,
          173,
          174,
          175,
          176,
          177,
          178,
          179,
          180,
          181,
          182,
          183,
          184,
          185,
          186,
          187,
          188,
          189,
          190,
          191,
          192,
          193,
          194,
          195,
          196,
          197,
          198,
          199,
          200,
          201,
          202,
          203,
          204,
          205,
          206,
          207,
          208,
          209,
          210,
          211,
          212,
          213,
          214,
          215,
          216,
          217,
          218,
          219,
          220,
          221,
          222,
          223,
          224,
          225,
          226,
          227,
          228,
          229,
          230,
          231,
          232,
          233,
          234,
          235,
          236,
          237,
          238,
          239,
          240,
          241,
          242,
          243,
          244,
          245,
          246,
          247,
          248,
          249,
          250,
          251,
          252,
          253,
          254,
          255,
          256,
          257,
          258,
          259,
          260,
          261,
          262,
          263,
          264,
          265,
          266,
          267,
          268,
          269,
          270,
          271,
          272,
          273,
          274,
          275,
          276,
          277,
          278,
          279,
          280,
          281,
          282,
          283,
          284,
          285,
          286,
          287,
          288,
          289,
          290,
          291,
          292,
          293,
          294,
          295,
          296,
          297,
          298,
          299,
          300,
          301,
          302,
          303,
          304,
          305,
          306,
          307,
          308,
          309,
          310,
          311,
          312,
          313,
          314,
          315,
          316,
          317,
          318,
          319,
          320,
          321,
          322,
          323,
          324,
          325,
          326,
          327,
          328,
          329,
          330,
          331,
          332,
          333,
          334,
          335,
          336,
          337,
          338,
          339,
          340,
          341,
          342,
          343,
          344,
          345,
          346,
          347,
          348,
          349,
          350,
          351,
          352,
          353,
          354,
          355,
          356,
          357,
          358,
          359,
          360,
          361,
          362,
          363,
          364,
          365,
          366,
          367,
          368,
          369,
          370,
          371,
          372,
          373,
          374,
          375,
          376,
          377,
          378,
          379,
          380,
          381,
          382,
          383,
          384,
          385,
          386,
          387,
          388,
          389,
          390,
          391,
          392,
          393,
          394,
          395,
          396,
          397,
          398,
          399,
          400,
          401,
          402,
          403,
          404,
          405,
          406,
          407,
          408,
          409,
          410,
          411,
          412,
          413,
          414,
          415,
          416,
          417,
          418,
          419,
          420,
          421,
          422,
          423,
          424,
          425,
          426,
          427,
          428,
          429,
          430,
          431,
          432,
          433,
          434,
          435
         ],
         "y": [
          25.17,
          25.75,
          26.12,
          26.32,
          26.31,
          26.21,
          25.96,
          25.76,
          25.63,
          25.48,
          25.34,
          25.42,
          25.96,
          26.74,
          27.48,
          27.75,
          27.75,
          27.44,
          27.28,
          27.14,
          27.22,
          27.12,
          26.95,
          26.78,
          26.87,
          27.25,
          27.6,
          27.59,
          27.17,
          26.67,
          26.39,
          26.3,
          26.17,
          26.13,
          26.29,
          26.65,
          27.1,
          27.53,
          27.96,
          28.14,
          27.94,
          27.49,
          27.12,
          26.93,
          26.91,
          26.92,
          26.95,
          27,
          26.97,
          26.86,
          26.89,
          26.85,
          26.67,
          26.1,
          25.54,
          25.25,
          25.3,
          25.35,
          25.48,
          25.57,
          25.89,
          26.22,
          26.5,
          26.6,
          26.45,
          26.06,
          25.64,
          25.06,
          24.65,
          24.41,
          24.72,
          25.23,
          25.86,
          26.37,
          26.82,
          26.93,
          26.72,
          26.23,
          25.87,
          25.71,
          25.67,
          25.67,
          25.77,
          26.09,
          26.68,
          27.41,
          28.08,
          28.37,
          28.34,
          28.06,
          27.75,
          27.5,
          27.48,
          27.64,
          27.94,
          28.15,
          28.27,
          28.26,
          28.28,
          28.19,
          27.87,
          27.38,
          26.85,
          26.56,
          26.53,
          26.6,
          26.81,
          26.95,
          27.24,
          27.51,
          27.68,
          27.65,
          27.16,
          26.63,
          26.15,
          26.08,
          26.07,
          26.15,
          26.16,
          26.24,
          26.51,
          26.92,
          27.39,
          27.47,
          27.26,
          26.93,
          26.66,
          26.44,
          26.3,
          26.23,
          26.23,
          26.34,
          26.58,
          26.96,
          27.35,
          27.59,
          27.42,
          26.9,
          26.27,
          25.89,
          25.85,
          25.91,
          26,
          26.05,
          26.32,
          26.71,
          27,
          27.09,
          26.96,
          26.72,
          26.34,
          26.07,
          25.88,
          25.79,
          25.73,
          25.89,
          26.39,
          27.07,
          27.53,
          27.68,
          27.67,
          27.62,
          27.54,
          27.4,
          27.4,
          27.47,
          27.47,
          27.36,
          27.16,
          27.03,
          26.93,
          26.78,
          26.57,
          26.16,
          25.74,
          25.42,
          25.31,
          25.28,
          25.38,
          25.69,
          26.27,
          26.85,
          27.44,
          27.82,
          27.99,
          27.98,
          27.95,
          28.04,
          28.09,
          28.07,
          27.91,
          27.72,
          27.81,
          27.98,
          27.97,
          27.78,
          27.5,
          27.14,
          26.69,
          26.32,
          26.24,
          26.16,
          26.04,
          26.01,
          26.17,
          26.46,
          26.87,
          27.19,
          27.26,
          26.95,
          26.41,
          26.08,
          25.96,
          26,
          25.9,
          25.78,
          25.91,
          26.38,
          26.88,
          27.39,
          27.54,
          27.48,
          27.1,
          26.82,
          26.89,
          27.07,
          27.32,
          27.54,
          27.73,
          27.94,
          28.09,
          28.04,
          27.69,
          27.26,
          27.08,
          27.17,
          27.2,
          27.14,
          26.98,
          26.93,
          26.98,
          27.29,
          27.51,
          27.47,
          26.96,
          26.28,
          25.81,
          25.61,
          25.6,
          25.48,
          25.22,
          25.1,
          25.32,
          25.92,
          26.51,
          26.73,
          26.56,
          26.15,
          25.86,
          25.64,
          25.58,
          25.46,
          25.52,
          25.77,
          26.35,
          27.1,
          27.77,
          28.13,
          28.21,
          28.09,
          28,
          28.04,
          28.26,
          28.51,
          28.54,
          28.32,
          27.95,
          27.59,
          27.26,
          26.92,
          26.42,
          25.84,
          25.35,
          25.01,
          24.71,
          24.47,
          24.38,
          24.64,
          25.14,
          25.82,
          26.33,
          26.55,
          26.52,
          26.42,
          26.26,
          26.06,
          25.82,
          25.67,
          25.78,
          25.94,
          26.13,
          26.39,
          26.63,
          26.64,
          26.31,
          25.82,
          25.43,
          25.09,
          25,
          24.87,
          24.75,
          24.9,
          25.5,
          26.28,
          26.85,
          27.15,
          27.22,
          27.15,
          27.04,
          27.15,
          27.29,
          27.32,
          27.27,
          27.18,
          27.31,
          27.35,
          27.55,
          27.64,
          27.61,
          27.32,
          27.11,
          27.1,
          27.21,
          27.27,
          27.21,
          27.15,
          27.09,
          27.08,
          27.14,
          27.11,
          26.98,
          26.61,
          26.27,
          26.11,
          26.19,
          26.37,
          26.43,
          26.5,
          26.75,
          27.22,
          27.6,
          27.66,
          27.32,
          27,
          26.86,
          26.86,
          26.94,
          26.98,
          27.06,
          27.06,
          27.13,
          27.35,
          27.7,
          27.9,
          27.73,
          27.22,
          26.72,
          26.46,
          26.5,
          26.57,
          26.48,
          26.32,
          26.32,
          26.69,
          27.11,
          27.31,
          27.09,
          26.75,
          26.5,
          26.42,
          26.41,
          26.37,
          26.46,
          26.56,
          26.9,
          27.35,
          27.95,
          28.23,
          28.1,
          27.83,
          27.81,
          28.16,
          28.5,
          28.7,
          28.76,
          28.79,
          28.75,
          28.71,
          28.76,
          28.63,
          28.1,
          27.36,
          26.66,
          26.12,
          25.73,
          25.52,
          25.62,
          26.01,
          26.41,
          26.83,
          27.04,
          27.06,
          26.94,
          26.74,
          26.59,
          26.34,
          25.98,
          25.61,
          25.39,
          25.56,
          25.98,
          26.4,
          26.69,
          26.79,
          26.76,
          26.55,
          26.29,
          26.18,
          26.19,
          26.25,
          26.14,
          26.05,
          26.28,
          26.81,
          27.26,
          27.44,
          27.34,
          27.26,
          27.2,
          27.31,
          27.49,
          27.64,
          27.7,
          27.76,
          27.95,
          28.19,
          28.41,
          28.53,
          28.59,
          28.54,
          28.45,
          28.24,
          28.03,
          27.76,
          27.59,
          27.34,
          27.29,
          27.27,
          27.15,
          26.69,
          26.08,
          25.74,
          25.65,
          25.4,
          25.07,
          24.71,
          24.63,
          24.84,
          25.32,
          26.04,
          26.64,
          26.99,
          26.97,
          26.73,
          26.48,
          26.35,
          26.33,
          26.34,
          26.43,
          26.67,
          26.96,
          27.41,
          27.75,
          27.86,
          27.68,
          27.37,
          27.13,
          26.98,
          26.89,
          26.9,
          26.94,
          27.02,
          27.15,
          27.48,
          27.85,
          28.16,
          28.17,
          27.94,
          27.57,
          27.41,
          27.54,
          27.91,
          28.18,
          28.39,
          28.52,
          28.73,
          28.88,
          28.76,
          28.26,
          27.57,
          27.03,
          26.66,
          26.5,
          26.43,
          26.52,
          26.77,
          27.18,
          27.75,
          28.27,
          28.4,
          28.1,
          27.53,
          27.19,
          26.94,
          26.85,
          26.75,
          26.71,
          26.74,
          26.95,
          27.43,
          27.9,
          28.12,
          27.94,
          27.65,
          27.37,
          27.35,
          27.49,
          27.71,
          27.74,
          27.64,
          27.61,
          27.79,
          27.9,
          27.84,
          27.5,
          26.97,
          26.4,
          25.99,
          25.78,
          25.7,
          25.66,
          25.76,
          26.1,
          26.65,
          27.2,
          27.4,
          27.23,
          26.93,
          26.59,
          26.39,
          26.28,
          26.17,
          26.09,
          26.12,
          26.49,
          27.14,
          27.87,
          28.46,
          28.75,
          28.8,
          28.81,
          28.88,
          29.01,
          29.02,
          28.97,
          28.87,
          28.78,
          28.68,
          28.59,
          28.16,
          27.39,
          26.42,
          25.79,
          25.44,
          25.32,
          25.14,
          25.01,
          25.08,
          25.55,
          26.17,
          26.62,
          26.68,
          26.49,
          26.1,
          25.8,
          25.58,
          25.41,
          25.16,
          24.93,
          24.96,
          25.44,
          26.17,
          26.78,
          27,
          26.88,
          26.65,
          26.4,
          26.2,
          26.05,
          25.88,
          25.81,
          25.88,
          26.26,
          26.76,
          27.25,
          27.49,
          27.47,
          27.2,
          26.86,
          26.63,
          26.48,
          26.37,
          26.31,
          26.44,
          26.81,
          27.29,
          27.8,
          28.18,
          28.24,
          28.06,
          27.85,
          27.83,
          27.97,
          28.03,
          27.76,
          27.51,
          27.41,
          27.58,
          27.56,
          27.48,
          27.42,
          27.35,
          27.2,
          27.08,
          27.05,
          27.07,
          26.97,
          26.95,
          27.08,
          27.43,
          27.76,
          27.91,
          27.87,
          27.74,
          27.63,
          27.52,
          27.44,
          27.38,
          27.3,
          27.22,
          27.36,
          27.65,
          28.02,
          28.03,
          27.69,
          27.21,
          26.85,
          26.71,
          26.48,
          26.15,
          25.81,
          25.8,
          26.1,
          26.73,
          27.31,
          27.69,
          27.62,
          27.4,
          27.26,
          27.3,
          27.48,
          27.62,
          27.56,
          27.3,
          27.09,
          27.18,
          27.37,
          27.45,
          27.18,
          26.74,
          26.15,
          25.69,
          25.37,
          25.17,
          25.02,
          25,
          25.35,
          26.01,
          26.67,
          26.99,
          27.04,
          26.92,
          26.73,
          26.52,
          26.36,
          26.12,
          25.88,
          25.79,
          26.08,
          26.68,
          27.36,
          27.84,
          27.94,
          27.75,
          27.53,
          27.47,
          27.72,
          28.03,
          28.18,
          28.14,
          28.09,
          28.14,
          28.04,
          27.66,
          27,
          26.25,
          25.61,
          25.21,
          25.07,
          25.03,
          25.02,
          25.22,
          25.68,
          26.37,
          26.95,
          27.28,
          27.21,
          26.81,
          26.33,
          25.93,
          25.7,
          25.58,
          25.58,
          25.77,
          26.15,
          26.71,
          27.21,
          27.57,
          27.64,
          27.54,
          27.32,
          27.13,
          26.98,
          26.73,
          26.41,
          26.21,
          26.44,
          26.96,
          27.38,
          27.47,
          27.24,
          26.89,
          26.64,
          26.51,
          26.54,
          26.5,
          26.35,
          26.22,
          26.41,
          27.03,
          27.73,
          28.04,
          27.82,
          27.34,
          27.02,
          27,
          27.21,
          27.31,
          27.28,
          27.19,
          27.34,
          27.82,
          28.38,
          28.76,
          28.83,
          28.81,
          28.82,
          28.93,
          29.14,
          29.25,
          29.26,
          29.12,
          29.01,
          28.88,
          28.62,
          28.22,
          27.59,
          26.93,
          26.42,
          26.14,
          26.02,
          26.01,
          26.06,
          26.3,
          26.71,
          27.35,
          27.89,
          28.13,
          27.97,
          27.43,
          26.84,
          26.38,
          26.06,
          25.84,
          25.64,
          25.72,
          26.02,
          26.6,
          27.18,
          27.61,
          27.64,
          27.38,
          27.18,
          27.25,
          27.47,
          27.57,
          27.43,
          27.39,
          27.59,
          28.01,
          28.34,
          28.37,
          28.1,
          27.57,
          27.1,
          26.95,
          27.06,
          27.18,
          27.17,
          27.14,
          27.35,
          27.7,
          27.87,
          27.75,
          27.35,
          26.88,
          26.38,
          25.87,
          25.54,
          25.4,
          25.43,
          25.59,
          25.94,
          26.46,
          27.03,
          27.35,
          27.28,
          26.89,
          26.46,
          26.09,
          25.9,
          25.69,
          25.63,
          25.67,
          25.94,
          26.31,
          26.62,
          26.84,
          26.8,
          26.48,
          26.04,
          25.75,
          25.72,
          25.76,
          25.8,
          25.97,
          26.44,
          27.14
         ]
        },
        {
         "mode": "lines",
         "name": "pred",
         "type": "scatter",
         "x": [
          0,
          1,
          2,
          3,
          4,
          5,
          6,
          7,
          8,
          9,
          10,
          11,
          12,
          13,
          14,
          15,
          16,
          17,
          18,
          19,
          20,
          21,
          22,
          23,
          24,
          25,
          26,
          27,
          28,
          29,
          30,
          31,
          32,
          33,
          34,
          35,
          36,
          37,
          38,
          39,
          40,
          41,
          42,
          43,
          44,
          45,
          46,
          47,
          48,
          49,
          50,
          51,
          52,
          53,
          54,
          55,
          56,
          57,
          58,
          59,
          60,
          61,
          62,
          63,
          64,
          65,
          66,
          67,
          68,
          69,
          70,
          71,
          72,
          73,
          74,
          75,
          76,
          77,
          78,
          79,
          80,
          81,
          82,
          83,
          84,
          85,
          86,
          87,
          88,
          89,
          90,
          91,
          92,
          93,
          94,
          95,
          96,
          97,
          98,
          99,
          100,
          101,
          102,
          103,
          104,
          105,
          106,
          107,
          108,
          109,
          110,
          111,
          112,
          113,
          114,
          115,
          116,
          117,
          118,
          119,
          120,
          121,
          122,
          123,
          124,
          125,
          126,
          127,
          128,
          129,
          130,
          131,
          132,
          133,
          134,
          135,
          136,
          137,
          138,
          139,
          140,
          141,
          142,
          143,
          144,
          145,
          146,
          147,
          148,
          149,
          150,
          151,
          152,
          153,
          154,
          155,
          156,
          157,
          158,
          159,
          160,
          161,
          162,
          163,
          164,
          165,
          166,
          167,
          168,
          169,
          170,
          171,
          172,
          173,
          174,
          175,
          176,
          177,
          178,
          179,
          180,
          181,
          182,
          183,
          184,
          185,
          186,
          187,
          188,
          189,
          190,
          191,
          192,
          193,
          194,
          195,
          196,
          197,
          198,
          199,
          200,
          201,
          202,
          203,
          204,
          205,
          206,
          207,
          208,
          209,
          210,
          211,
          212,
          213,
          214,
          215,
          216,
          217,
          218,
          219,
          220,
          221,
          222,
          223,
          224,
          225,
          226,
          227,
          228,
          229,
          230,
          231,
          232,
          233,
          234,
          235,
          236,
          237,
          238,
          239,
          240,
          241,
          242,
          243,
          244,
          245,
          246,
          247,
          248,
          249,
          250,
          251,
          252,
          253,
          254,
          255,
          256,
          257,
          258,
          259,
          260,
          261,
          262,
          263,
          264,
          265,
          266,
          267,
          268,
          269,
          270,
          271,
          272,
          273,
          274,
          275,
          276,
          277,
          278,
          279,
          280,
          281,
          282,
          283,
          284,
          285,
          286,
          287,
          288,
          289,
          290,
          291,
          292,
          293,
          294,
          295,
          296,
          297,
          298,
          299,
          300,
          301,
          302,
          303,
          304,
          305,
          306,
          307,
          308,
          309,
          310,
          311,
          312,
          313,
          314,
          315,
          316,
          317,
          318,
          319,
          320,
          321,
          322,
          323,
          324,
          325,
          326,
          327,
          328,
          329,
          330,
          331,
          332,
          333,
          334,
          335,
          336,
          337,
          338,
          339,
          340,
          341,
          342,
          343,
          344,
          345,
          346,
          347,
          348,
          349,
          350,
          351,
          352,
          353,
          354,
          355,
          356,
          357,
          358,
          359,
          360,
          361,
          362,
          363,
          364,
          365,
          366,
          367,
          368,
          369,
          370,
          371,
          372,
          373,
          374,
          375,
          376,
          377,
          378,
          379,
          380,
          381,
          382,
          383,
          384,
          385,
          386,
          387,
          388,
          389,
          390,
          391,
          392,
          393,
          394,
          395,
          396,
          397,
          398,
          399,
          400,
          401,
          402,
          403,
          404,
          405,
          406,
          407,
          408,
          409,
          410,
          411,
          412,
          413,
          414,
          415,
          416,
          417,
          418,
          419,
          420,
          421,
          422,
          423,
          424,
          425,
          426,
          427,
          428,
          429,
          430,
          431,
          432,
          433,
          434,
          435
         ],
         "y": [
          26.592416666666686,
          25.897108571428586,
          25.897108571428586,
          26.932933333333303,
          26.729052041847048,
          26.729052041847048,
          27.392695238095254,
          26.98752666666665,
          26.943233333333346,
          27.349400000000017,
          27.27570000000001,
          26.558300000000028,
          26.35965000000002,
          26.23072309523811,
          26.23072309523811,
          27.43142333333336,
          27.20915107142856,
          27.20915107142856,
          26.66313333333332,
          26.897920000000017,
          26.897920000000017,
          27.015200000000004,
          26.938999999999968,
          26.595499999999973,
          25.814299999999992,
          25.505076666666653,
          25.505076666666653,
          26.50559999999999,
          26.514284999999962,
          26.514284999999962,
          25.21926666666663,
          25.16774238095239,
          25.16774238095239,
          25.814209523809485,
          26.557666666666673,
          26.557666666666673,
          26.161076190476216,
          26.159720000000004,
          26.159720000000004,
          26.946199999999994,
          28.220721111111104,
          28.220721111111104,
          27.255243333333343,
          27.548761706349204,
          27.734900000000017,
          28.096908333333346,
          28.096908333333346,
          27.24930000000004,
          26.640999999999963,
          26.640999999999963,
          26.94666309523807,
          27.57766333333336,
          27.57766333333336,
          26.30879166666671,
          26.330586666666672,
          26.330586666666672,
          26.551849999999977,
          27.12880000000002,
          27.102034365079348,
          27.102034365079348,
          27.089739999999995,
          26.42924833333334,
          26.42924833333334,
          27.158740000000016,
          27.199833333333316,
          27.199833333333316,
          26.09845095238097,
          26.09845095238097,
          26.33063214285716,
          26.887520000000016,
          26.872530000000005,
          26.677784523809507,
          26.450284523809536,
          25.902099999999987,
          25.902099999999987,
          26.986883333333356,
          27.301972380952385,
          27.301972380952385,
          27.342555714285737,
          27.397319999999983,
          27.3587,
          27.420500000000043,
          26.852000000000036,
          26.743966666666665,
          25.82112000000002,
          25.61582619047621,
          25.61582619047621,
          26.614299999999968,
          27.764688571428593,
          27.764688571428593,
          27.359927182539664,
          27.438380000000006,
          27.42629999999996,
          27.821600000000025,
          27.821600000000025,
          26.630940000000006,
          26.259433333333327,
          26.259433333333327,
          26.345950000000038,
          26.991830000000014,
          27.055825000000027,
          27.055825000000027,
          26.176689999999986,
          25.97518000000002,
          25.97518000000002,
          26.948800000000055,
          26.93935000000002,
          26.24849721001221,
          26.24849721001221,
          27.070700000000016,
          27.086470000000013,
          27.858400000000028,
          27.75047499999998,
          27.535160476190473,
          26.88550000000003,
          26.99535999999999,
          26.99535999999999,
          27.389079999999975,
          27.75047499999998,
          26.27674666666669,
          26.24849721001221,
          25.376354761904746,
          25.376354761904746,
          27.372986190476198,
          27.159055,
          25.838282857142868,
          25.838282857142868,
          25.664131666666663,
          25.664131666666663,
          26.999799999999972,
          28.13649111111113,
          28.13649111111113,
          27.670100000000005,
          27.6882666666667,
          27.692900000000005,
          26.768286666666658,
          26.68240833333337,
          26.333900000000007,
          24.901055238095243,
          24.901055238095243,
          24.84914000000002,
          26.23072309523811,
          26.584741666666687,
          26.584741666666687,
          26.087766666666635,
          26.10701000000001,
          26.10701000000001,
          26.398800000000005,
          26.525679285714315,
          26.35202380952381,
          25.629500000000007,
          25.277755000000006,
          25.277755000000006,
          27.176012142857147,
          27.320566666666714,
          27.27850000000004,
          27.27850000000004,
          27.652500000000003,
          27.238479999999978,
          27.351199999999952,
          27.426526666666675,
          27.426526666666675,
          27.186628214285705,
          27.186628214285705,
          27.515088333333367,
          27.00809999999997,
          27.027399999999986,
          26.827299999999987,
          26.768286666666658,
          27.548761706349204,
          27.548761706349204,
          26.974399999999996,
          27.183095476190474,
          26.84913404761906,
          26.84913404761906,
          26.953420000000015,
          27.092499999999983,
          27.26949999999995,
          27.79792333333336,
          26.77701999999998,
          26.463483333333357,
          26.5102142857143,
          26.5102142857143,
          26.81600000000004,
          27.396399999999975,
          26.584869761904766,
          26.584869761904766,
          26.780849999999983,
          26.923999999999968,
          27.382899999999967,
          27.893603095238095,
          27.893603095238095,
          27.52841666666667,
          27.372986190476198,
          27.769521666666666,
          27.548761706349204,
          28.217900000000046,
          26.945600000000013,
          26.95142666666663,
          26.729052041847048,
          26.729052041847048,
          27.233552380952357,
          26.856727142857135,
          26.856727142857135,
          26.720099999999988,
          26.33179999999999,
          25.44926666666663,
          26.584869761904766,
          26.78461000000001,
          26.78461000000001,
          26.5442,
          26.2793,
          26.224499999999992,
          27.053499999999953,
          26.266388809523825,
          27.237316666666658,
          27.237316666666658,
          27.358805000000007,
          27.73816666666671,
          27.820100000000046,
          28.26300333333333,
          28.26300333333333,
          27.942406666666628,
          27.5167066666667,
          27.045466666666663,
          26.959220000000013,
          26.959220000000013,
          25.783090000000012,
          25.783090000000012,
          25.494153333333337,
          25.634830000000008,
          26.234846666666666,
          27.40764523809522,
          26.532457857142855,
          26.532457857142855,
          26.14938333333333,
          27.054600000000033,
          27.186628214285705,
          27.52324166666666,
          27.52324166666666,
          26.45284000000001,
          26.864802857142866,
          26.864802857142866,
          27.504800000000024,
          27.79680833333334,
          27.35508499999999,
          27.35508499999999,
          27.79680833333334,
          27.548761706349204,
          27.958809404761904,
          27.958809404761904,
          26.979476190476216,
          26.85193333333333,
          26.673019999999998,
          26.673019999999998,
          27.49059999999999,
          27.821783571428597,
          27.821783571428597,
          26.681400000000025,
          27.20915107142856,
          27.20915107142856,
          27.499446666666653,
          27.089739999999995,
          27.335900000000006,
          27.335900000000006,
          27.442013333333353,
          27.659244999999995,
          27.586239999999993,
          27.589160000000003,
          27.26769999999999,
          26.707674999999977,
          25.66723761904764,
          25.66723761904764,
          26.773300000000035,
          26.976757142857146,
          26.976757142857146,
          26.462099999999996,
          27.438380000000006,
          26.666443333333294,
          26.991830000000014,
          28.045550238095256,
          28.718413333333366,
          28.718413333333366,
          27.995849999999976,
          28.704877499999995,
          28.704877499999995,
          28.370307499999996,
          26.567441666666696,
          25.283914285714303,
          25.283914285714303,
          25.132964285714266,
          26.463960000000025,
          26.329859999999982,
          26.329859999999982,
          26.296216904761874,
          25.172199999999986,
          25.172199999999986,
          26.492173333333362,
          26.753533333333344,
          26.753533333333344,
          26.336939999999995,
          26.010800000000035,
          26.37009428571433,
          27.086470000000013,
          27.1854014285714,
          27.1854014285714,
          26.415030476190523,
          26.460411666666673,
          26.460411666666673,
          27.483399999999993,
          27.97161499999997,
          27.97161499999997,
          28.479249047619028,
          27.571400000000036,
          27.49664000000002,
          27.05608499999998,
          27.36399857142859,
          27.508333333333308,
          27.311399999999985,
          27.358805000000007,
          27.21879999999999,
          27.383199999999974,
          27.5881,
          27.535160476190473,
          27.535160476190473,
          27.563800000000057,
          27.254879999999975,
          27.463800000000028,
          27.571246666666692,
          26.911666666666683,
          26.911666666666683,
          26.025383333333345,
          26.025383333333345,
          27.072198333333326,
          27.482656190476224,
          27.29060476190477,
          27.29060476190477,
          27.42806666666667,
          27.42806666666667,
          27.362283571428556,
          27.362283571428556,
          26.86219999999997,
          25.924433333333354,
          25.1379192857143,
          25.1379192857143,
          26.278633333333364,
          27.015399999999996,
          27.015399999999996,
          26.80197333333333,
          26.581866666666635,
          25.966699999999996,
          26.965266666666647,
          27.54015000000002,
          27.40764523809522,
          27.40764523809522,
          27.886475000000033,
          27.938400000000005,
          27.960249999999988,
          27.68347499999999,
          26.535009999999996,
          25.256125833333343,
          25.256125833333343,
          26.043200000000002,
          26.658924999999954,
          27.327350000000024,
          26.386706666666647,
          26.386706666666647,
          25.869314999999997,
          25.869314999999997,
          26.800300000000025,
          27.34317500000001,
          27.20189083333334,
          27.20189083333334,
          26.634146666666673,
          26.871100000000006,
          27.00225,
          27.179003809523792,
          27.179003809523792,
          26.78475000000003,
          26.437519999999996,
          26.437519999999996,
          26.893100000000015,
          27.355983333333334,
          27.115033809523812,
          27.115033809523812,
          27.072038095238064,
          27.263416666666707,
          27.652500000000003,
          27.947652380952377,
          28.479249047619028,
          28.479249047619028,
          28.581631904761903,
          28.505112857142844,
          28.505112857142844,
          27.229249999999993,
          27.07157499999999,
          26.4093161904762,
          26.4093161904762,
          26.312693333333343,
          27.250666666666636,
          27.30339583333334,
          27.30339583333334,
          27.30339583333334,
          25.741280000000003,
          25.741280000000003,
          26.84913404761906,
          27.482656190476224,
          27.346874523809543,
          27.346874523809543,
          27.51007500000001,
          27.499446666666653,
          27.56720000000004,
          27.69989999999996,
          27.715239166666677,
          27.102034365079348,
          27.035311428571426,
          27.035311428571426,
          28.505112857142844,
          27.548399999999987,
          26.80620000000005,
          25.747713333333287,
          26.24849721001221,
          26.24849721001221,
          26.78985000000002,
          26.93763333333332,
          26.93763333333332,
          26.563490952380956,
          26.266388809523825,
          26.266388809523825,
          27.958809404761904,
          26.98752666666665,
          26.522900000000003,
          26.10045666666669,
          26.10045666666669,
          25.997926666666658,
          26.72352547619049
         ]
        }
       ],
       "layout": {
        "template": {
         "data": {
          "bar": [
           {
            "error_x": {
             "color": "#2a3f5f"
            },
            "error_y": {
             "color": "#2a3f5f"
            },
            "marker": {
             "line": {
              "color": "#E5ECF6",
              "width": 0.5
             },
             "pattern": {
              "fillmode": "overlay",
              "size": 10,
              "solidity": 0.2
             }
            },
            "type": "bar"
           }
          ],
          "barpolar": [
           {
            "marker": {
             "line": {
              "color": "#E5ECF6",
              "width": 0.5
             },
             "pattern": {
              "fillmode": "overlay",
              "size": 10,
              "solidity": 0.2
             }
            },
            "type": "barpolar"
           }
          ],
          "carpet": [
           {
            "aaxis": {
             "endlinecolor": "#2a3f5f",
             "gridcolor": "white",
             "linecolor": "white",
             "minorgridcolor": "white",
             "startlinecolor": "#2a3f5f"
            },
            "baxis": {
             "endlinecolor": "#2a3f5f",
             "gridcolor": "white",
             "linecolor": "white",
             "minorgridcolor": "white",
             "startlinecolor": "#2a3f5f"
            },
            "type": "carpet"
           }
          ],
          "choropleth": [
           {
            "colorbar": {
             "outlinewidth": 0,
             "ticks": ""
            },
            "type": "choropleth"
           }
          ],
          "contour": [
           {
            "colorbar": {
             "outlinewidth": 0,
             "ticks": ""
            },
            "colorscale": [
             [
              0,
              "#0d0887"
             ],
             [
              0.1111111111111111,
              "#46039f"
             ],
             [
              0.2222222222222222,
              "#7201a8"
             ],
             [
              0.3333333333333333,
              "#9c179e"
             ],
             [
              0.4444444444444444,
              "#bd3786"
             ],
             [
              0.5555555555555556,
              "#d8576b"
             ],
             [
              0.6666666666666666,
              "#ed7953"
             ],
             [
              0.7777777777777778,
              "#fb9f3a"
             ],
             [
              0.8888888888888888,
              "#fdca26"
             ],
             [
              1,
              "#f0f921"
             ]
            ],
            "type": "contour"
           }
          ],
          "contourcarpet": [
           {
            "colorbar": {
             "outlinewidth": 0,
             "ticks": ""
            },
            "type": "contourcarpet"
           }
          ],
          "heatmap": [
           {
            "colorbar": {
             "outlinewidth": 0,
             "ticks": ""
            },
            "colorscale": [
             [
              0,
              "#0d0887"
             ],
             [
              0.1111111111111111,
              "#46039f"
             ],
             [
              0.2222222222222222,
              "#7201a8"
             ],
             [
              0.3333333333333333,
              "#9c179e"
             ],
             [
              0.4444444444444444,
              "#bd3786"
             ],
             [
              0.5555555555555556,
              "#d8576b"
             ],
             [
              0.6666666666666666,
              "#ed7953"
             ],
             [
              0.7777777777777778,
              "#fb9f3a"
             ],
             [
              0.8888888888888888,
              "#fdca26"
             ],
             [
              1,
              "#f0f921"
             ]
            ],
            "type": "heatmap"
           }
          ],
          "heatmapgl": [
           {
            "colorbar": {
             "outlinewidth": 0,
             "ticks": ""
            },
            "colorscale": [
             [
              0,
              "#0d0887"
             ],
             [
              0.1111111111111111,
              "#46039f"
             ],
             [
              0.2222222222222222,
              "#7201a8"
             ],
             [
              0.3333333333333333,
              "#9c179e"
             ],
             [
              0.4444444444444444,
              "#bd3786"
             ],
             [
              0.5555555555555556,
              "#d8576b"
             ],
             [
              0.6666666666666666,
              "#ed7953"
             ],
             [
              0.7777777777777778,
              "#fb9f3a"
             ],
             [
              0.8888888888888888,
              "#fdca26"
             ],
             [
              1,
              "#f0f921"
             ]
            ],
            "type": "heatmapgl"
           }
          ],
          "histogram": [
           {
            "marker": {
             "pattern": {
              "fillmode": "overlay",
              "size": 10,
              "solidity": 0.2
             }
            },
            "type": "histogram"
           }
          ],
          "histogram2d": [
           {
            "colorbar": {
             "outlinewidth": 0,
             "ticks": ""
            },
            "colorscale": [
             [
              0,
              "#0d0887"
             ],
             [
              0.1111111111111111,
              "#46039f"
             ],
             [
              0.2222222222222222,
              "#7201a8"
             ],
             [
              0.3333333333333333,
              "#9c179e"
             ],
             [
              0.4444444444444444,
              "#bd3786"
             ],
             [
              0.5555555555555556,
              "#d8576b"
             ],
             [
              0.6666666666666666,
              "#ed7953"
             ],
             [
              0.7777777777777778,
              "#fb9f3a"
             ],
             [
              0.8888888888888888,
              "#fdca26"
             ],
             [
              1,
              "#f0f921"
             ]
            ],
            "type": "histogram2d"
           }
          ],
          "histogram2dcontour": [
           {
            "colorbar": {
             "outlinewidth": 0,
             "ticks": ""
            },
            "colorscale": [
             [
              0,
              "#0d0887"
             ],
             [
              0.1111111111111111,
              "#46039f"
             ],
             [
              0.2222222222222222,
              "#7201a8"
             ],
             [
              0.3333333333333333,
              "#9c179e"
             ],
             [
              0.4444444444444444,
              "#bd3786"
             ],
             [
              0.5555555555555556,
              "#d8576b"
             ],
             [
              0.6666666666666666,
              "#ed7953"
             ],
             [
              0.7777777777777778,
              "#fb9f3a"
             ],
             [
              0.8888888888888888,
              "#fdca26"
             ],
             [
              1,
              "#f0f921"
             ]
            ],
            "type": "histogram2dcontour"
           }
          ],
          "mesh3d": [
           {
            "colorbar": {
             "outlinewidth": 0,
             "ticks": ""
            },
            "type": "mesh3d"
           }
          ],
          "parcoords": [
           {
            "line": {
             "colorbar": {
              "outlinewidth": 0,
              "ticks": ""
             }
            },
            "type": "parcoords"
           }
          ],
          "pie": [
           {
            "automargin": true,
            "type": "pie"
           }
          ],
          "scatter": [
           {
            "fillpattern": {
             "fillmode": "overlay",
             "size": 10,
             "solidity": 0.2
            },
            "type": "scatter"
           }
          ],
          "scatter3d": [
           {
            "line": {
             "colorbar": {
              "outlinewidth": 0,
              "ticks": ""
             }
            },
            "marker": {
             "colorbar": {
              "outlinewidth": 0,
              "ticks": ""
             }
            },
            "type": "scatter3d"
           }
          ],
          "scattercarpet": [
           {
            "marker": {
             "colorbar": {
              "outlinewidth": 0,
              "ticks": ""
             }
            },
            "type": "scattercarpet"
           }
          ],
          "scattergeo": [
           {
            "marker": {
             "colorbar": {
              "outlinewidth": 0,
              "ticks": ""
             }
            },
            "type": "scattergeo"
           }
          ],
          "scattergl": [
           {
            "marker": {
             "colorbar": {
              "outlinewidth": 0,
              "ticks": ""
             }
            },
            "type": "scattergl"
           }
          ],
          "scattermapbox": [
           {
            "marker": {
             "colorbar": {
              "outlinewidth": 0,
              "ticks": ""
             }
            },
            "type": "scattermapbox"
           }
          ],
          "scatterpolar": [
           {
            "marker": {
             "colorbar": {
              "outlinewidth": 0,
              "ticks": ""
             }
            },
            "type": "scatterpolar"
           }
          ],
          "scatterpolargl": [
           {
            "marker": {
             "colorbar": {
              "outlinewidth": 0,
              "ticks": ""
             }
            },
            "type": "scatterpolargl"
           }
          ],
          "scatterternary": [
           {
            "marker": {
             "colorbar": {
              "outlinewidth": 0,
              "ticks": ""
             }
            },
            "type": "scatterternary"
           }
          ],
          "surface": [
           {
            "colorbar": {
             "outlinewidth": 0,
             "ticks": ""
            },
            "colorscale": [
             [
              0,
              "#0d0887"
             ],
             [
              0.1111111111111111,
              "#46039f"
             ],
             [
              0.2222222222222222,
              "#7201a8"
             ],
             [
              0.3333333333333333,
              "#9c179e"
             ],
             [
              0.4444444444444444,
              "#bd3786"
             ],
             [
              0.5555555555555556,
              "#d8576b"
             ],
             [
              0.6666666666666666,
              "#ed7953"
             ],
             [
              0.7777777777777778,
              "#fb9f3a"
             ],
             [
              0.8888888888888888,
              "#fdca26"
             ],
             [
              1,
              "#f0f921"
             ]
            ],
            "type": "surface"
           }
          ],
          "table": [
           {
            "cells": {
             "fill": {
              "color": "#EBF0F8"
             },
             "line": {
              "color": "white"
             }
            },
            "header": {
             "fill": {
              "color": "#C8D4E3"
             },
             "line": {
              "color": "white"
             }
            },
            "type": "table"
           }
          ]
         },
         "layout": {
          "annotationdefaults": {
           "arrowcolor": "#2a3f5f",
           "arrowhead": 0,
           "arrowwidth": 1
          },
          "autotypenumbers": "strict",
          "coloraxis": {
           "colorbar": {
            "outlinewidth": 0,
            "ticks": ""
           }
          },
          "colorscale": {
           "diverging": [
            [
             0,
             "#8e0152"
            ],
            [
             0.1,
             "#c51b7d"
            ],
            [
             0.2,
             "#de77ae"
            ],
            [
             0.3,
             "#f1b6da"
            ],
            [
             0.4,
             "#fde0ef"
            ],
            [
             0.5,
             "#f7f7f7"
            ],
            [
             0.6,
             "#e6f5d0"
            ],
            [
             0.7,
             "#b8e186"
            ],
            [
             0.8,
             "#7fbc41"
            ],
            [
             0.9,
             "#4d9221"
            ],
            [
             1,
             "#276419"
            ]
           ],
           "sequential": [
            [
             0,
             "#0d0887"
            ],
            [
             0.1111111111111111,
             "#46039f"
            ],
            [
             0.2222222222222222,
             "#7201a8"
            ],
            [
             0.3333333333333333,
             "#9c179e"
            ],
            [
             0.4444444444444444,
             "#bd3786"
            ],
            [
             0.5555555555555556,
             "#d8576b"
            ],
            [
             0.6666666666666666,
             "#ed7953"
            ],
            [
             0.7777777777777778,
             "#fb9f3a"
            ],
            [
             0.8888888888888888,
             "#fdca26"
            ],
            [
             1,
             "#f0f921"
            ]
           ],
           "sequentialminus": [
            [
             0,
             "#0d0887"
            ],
            [
             0.1111111111111111,
             "#46039f"
            ],
            [
             0.2222222222222222,
             "#7201a8"
            ],
            [
             0.3333333333333333,
             "#9c179e"
            ],
            [
             0.4444444444444444,
             "#bd3786"
            ],
            [
             0.5555555555555556,
             "#d8576b"
            ],
            [
             0.6666666666666666,
             "#ed7953"
            ],
            [
             0.7777777777777778,
             "#fb9f3a"
            ],
            [
             0.8888888888888888,
             "#fdca26"
            ],
            [
             1,
             "#f0f921"
            ]
           ]
          },
          "colorway": [
           "#636efa",
           "#EF553B",
           "#00cc96",
           "#ab63fa",
           "#FFA15A",
           "#19d3f3",
           "#FF6692",
           "#B6E880",
           "#FF97FF",
           "#FECB52"
          ],
          "font": {
           "color": "#2a3f5f"
          },
          "geo": {
           "bgcolor": "white",
           "lakecolor": "white",
           "landcolor": "#E5ECF6",
           "showlakes": true,
           "showland": true,
           "subunitcolor": "white"
          },
          "hoverlabel": {
           "align": "left"
          },
          "hovermode": "closest",
          "mapbox": {
           "style": "light"
          },
          "paper_bgcolor": "white",
          "plot_bgcolor": "#E5ECF6",
          "polar": {
           "angularaxis": {
            "gridcolor": "white",
            "linecolor": "white",
            "ticks": ""
           },
           "bgcolor": "#E5ECF6",
           "radialaxis": {
            "gridcolor": "white",
            "linecolor": "white",
            "ticks": ""
           }
          },
          "scene": {
           "xaxis": {
            "backgroundcolor": "#E5ECF6",
            "gridcolor": "white",
            "gridwidth": 2,
            "linecolor": "white",
            "showbackground": true,
            "ticks": "",
            "zerolinecolor": "white"
           },
           "yaxis": {
            "backgroundcolor": "#E5ECF6",
            "gridcolor": "white",
            "gridwidth": 2,
            "linecolor": "white",
            "showbackground": true,
            "ticks": "",
            "zerolinecolor": "white"
           },
           "zaxis": {
            "backgroundcolor": "#E5ECF6",
            "gridcolor": "white",
            "gridwidth": 2,
            "linecolor": "white",
            "showbackground": true,
            "ticks": "",
            "zerolinecolor": "white"
           }
          },
          "shapedefaults": {
           "line": {
            "color": "#2a3f5f"
           }
          },
          "ternary": {
           "aaxis": {
            "gridcolor": "white",
            "linecolor": "white",
            "ticks": ""
           },
           "baxis": {
            "gridcolor": "white",
            "linecolor": "white",
            "ticks": ""
           },
           "bgcolor": "#E5ECF6",
           "caxis": {
            "gridcolor": "white",
            "linecolor": "white",
            "ticks": ""
           }
          },
          "title": {
           "x": 0.05
          },
          "xaxis": {
           "automargin": true,
           "gridcolor": "white",
           "linecolor": "white",
           "ticks": "",
           "title": {
            "standoff": 15
           },
           "zerolinecolor": "white",
           "zerolinewidth": 2
          },
          "yaxis": {
           "automargin": true,
           "gridcolor": "white",
           "linecolor": "white",
           "ticks": "",
           "title": {
            "standoff": 15
           },
           "zerolinecolor": "white",
           "zerolinewidth": 2
          }
         }
        }
       }
      }
     },
     "metadata": {},
     "output_type": "display_data"
    }
   ],
   "source": [
    "\n",
    "fig = go.Figure()\n",
    "\n",
    "fig.add_trace(go.Scatter(x=[i for i in range(len(y_pred))], y=y1, mode=\"lines\", name=\"TOTAL\"))\n",
    "fig.add_trace(go.Scatter(x=[i for i in range(len(y_pred))], y=y_pred, mode=\"lines\", name=\"pred\"))\n",
    "\n",
    "\n",
    "fig.show()"
   ]
  },
  {
   "cell_type": "code",
   "execution_count": 55,
   "metadata": {},
   "outputs": [
    {
     "data": {
      "application/vnd.plotly.v1+json": {
       "config": {
        "plotlyServerURL": "https://plot.ly"
       },
       "data": [
        {
         "mode": "lines",
         "name": "TOTAL",
         "type": "scatter",
         "x": [
          24.72,
          25.17,
          25.75,
          26.12,
          26.32,
          26.31,
          26.21,
          25.96,
          25.76,
          25.63,
          25.48,
          25.34,
          25.42,
          25.96,
          26.74,
          27.48,
          27.75,
          27.75,
          27.44,
          27.28,
          27.14,
          27.22,
          27.12,
          26.95,
          26.78,
          26.87,
          27.25,
          27.6,
          27.59,
          27.17,
          26.67,
          26.39,
          26.3,
          26.17,
          26.13,
          26.29,
          26.65,
          27.1,
          27.53,
          27.96,
          28.14,
          27.94,
          27.49,
          27.12,
          26.93,
          26.91,
          26.92,
          26.95,
          27,
          26.97,
          26.86,
          26.89,
          26.85,
          26.67,
          26.1,
          25.54,
          25.25,
          25.3,
          25.35,
          25.48,
          25.57,
          25.89,
          26.22,
          26.5,
          26.6,
          26.45,
          26.06,
          25.64,
          25.06,
          24.65,
          24.41,
          24.72,
          25.23,
          25.86,
          26.37,
          26.82,
          26.93,
          26.72,
          26.23,
          25.87,
          25.71,
          25.67,
          25.67,
          25.77,
          26.09,
          26.68,
          27.41,
          28.08,
          28.37,
          28.34,
          28.06,
          27.75,
          27.5,
          27.48,
          27.64,
          27.94,
          28.15,
          28.27,
          28.26,
          28.28,
          28.19,
          27.87,
          27.38,
          26.85,
          26.56,
          26.53,
          26.6,
          26.81,
          26.95,
          27.24,
          27.51,
          27.68,
          27.65,
          27.16,
          26.63,
          26.15,
          26.08,
          26.07,
          26.15,
          26.16,
          26.24,
          26.51,
          26.92,
          27.39,
          27.47,
          27.26,
          26.93,
          26.66,
          26.44,
          26.3,
          26.23,
          26.23,
          26.34,
          26.58,
          26.96,
          27.35,
          27.59,
          27.42,
          26.9,
          26.27,
          25.89,
          25.85,
          25.91,
          26,
          26.05,
          26.32,
          26.71,
          27,
          27.09,
          26.96,
          26.72,
          26.34,
          26.07,
          25.88,
          25.79,
          25.73,
          25.89,
          26.39,
          27.07,
          27.53,
          27.68,
          27.67,
          27.62,
          27.54,
          27.4,
          27.4,
          27.47,
          27.47,
          27.36,
          27.16,
          27.03,
          26.93,
          26.78,
          26.57,
          26.16,
          25.74,
          25.42,
          25.31,
          25.28,
          25.38,
          25.69,
          26.27,
          26.85,
          27.44,
          27.82,
          27.99,
          27.98,
          27.95,
          28.04,
          28.09,
          28.07,
          27.91,
          27.72,
          27.81,
          27.98,
          27.97,
          27.78,
          27.5,
          27.14,
          26.69,
          26.32,
          26.24,
          26.16,
          26.04,
          26.01,
          26.17,
          26.46,
          26.87,
          27.19,
          27.26,
          26.95,
          26.41,
          26.08,
          25.96,
          26,
          25.9,
          25.78,
          25.91,
          26.38,
          26.88,
          27.39,
          27.54,
          27.48,
          27.1,
          26.82,
          26.89,
          27.07,
          27.32,
          27.54,
          27.73,
          27.94,
          28.09,
          28.04,
          27.69,
          27.26,
          27.08,
          27.17,
          27.2,
          27.14,
          26.98,
          26.93,
          26.98,
          27.29,
          27.51,
          27.47,
          26.96,
          26.28,
          25.81,
          25.61,
          25.6,
          25.48,
          25.22,
          25.1,
          25.32,
          25.92,
          26.51,
          26.73,
          26.56,
          26.15,
          25.86,
          25.64,
          25.58,
          25.46,
          25.52,
          25.77,
          26.35,
          27.1,
          27.77,
          28.13,
          28.21,
          28.09,
          28,
          28.04,
          28.26,
          28.51,
          28.54,
          28.32,
          27.95,
          27.59,
          27.26,
          26.92,
          26.42,
          25.84,
          25.35,
          25.01,
          24.71,
          24.47,
          24.38,
          24.64,
          25.14,
          25.82,
          26.33,
          26.55,
          26.52,
          26.42,
          26.26,
          26.06,
          25.82,
          25.67,
          25.78,
          25.94,
          26.13,
          26.39,
          26.63,
          26.64,
          26.31,
          25.82,
          25.43,
          25.09,
          25,
          24.87,
          24.75,
          24.9,
          25.5,
          26.28,
          26.85,
          27.15,
          27.22,
          27.15,
          27.04,
          27.15,
          27.29,
          27.32,
          27.27,
          27.18,
          27.31,
          27.35,
          27.55,
          27.64,
          27.61,
          27.32,
          27.11,
          27.1,
          27.21,
          27.27,
          27.21,
          27.15,
          27.09,
          27.08,
          27.14,
          27.11,
          26.98,
          26.61,
          26.27,
          26.11,
          26.19,
          26.37,
          26.43,
          26.5,
          26.75,
          27.22,
          27.6,
          27.66,
          27.32,
          27,
          26.86,
          26.86,
          26.94,
          26.98,
          27.06,
          27.06,
          27.13,
          27.35,
          27.7,
          27.9,
          27.73,
          27.22,
          26.72,
          26.46,
          26.5,
          26.57,
          26.48,
          26.32,
          26.32,
          26.69,
          27.11,
          27.31,
          27.09,
          26.75,
          26.5,
          26.42,
          26.41,
          26.37,
          26.46,
          26.56,
          26.9,
          27.35,
          27.95,
          28.23,
          28.1,
          27.83,
          27.81,
          28.16,
          28.5,
          28.7,
          28.76,
          28.79,
          28.75,
          28.71,
          28.76,
          28.63,
          28.1,
          27.36,
          26.66,
          26.12,
          25.73,
          25.52,
          25.62,
          26.01,
          26.41,
          26.83,
          27.04,
          27.06,
          26.94,
          26.74,
          26.59,
          26.34,
          25.98,
          25.61,
          25.39,
          25.56,
          25.98,
          26.4,
          26.69,
          26.79,
          26.76,
          26.55,
          26.29,
          26.18,
          26.19,
          26.25,
          26.14,
          26.05,
          26.28,
          26.81,
          27.26,
          27.44,
          27.34,
          27.26,
          27.2,
          27.31,
          27.49,
          27.64,
          27.7,
          27.76,
          27.95,
          28.19,
          28.41,
          28.53,
          28.59,
          28.54,
          28.45,
          28.24,
          28.03,
          27.76,
          27.59,
          27.34,
          27.29,
          27.27,
          27.15,
          26.69,
          26.08,
          25.74,
          25.65,
          25.4,
          25.07,
          24.71,
          24.63,
          24.84,
          25.32,
          26.04,
          26.64,
          26.99,
          26.97,
          26.73,
          26.48,
          26.35,
          26.33,
          26.34,
          26.43,
          26.67,
          26.96,
          27.41,
          27.75,
          27.86,
          27.68,
          27.37,
          27.13,
          26.98,
          26.89,
          26.9,
          26.94,
          27.02,
          27.15,
          27.48,
          27.85,
          28.16,
          28.17,
          27.94,
          27.57,
          27.41,
          27.54,
          27.91,
          28.18,
          28.39,
          28.52,
          28.73,
          28.88,
          28.76,
          28.26,
          27.57,
          27.03,
          26.66,
          26.5,
          26.43,
          26.52,
          26.77,
          27.18,
          27.75,
          28.27,
          28.4,
          28.1,
          27.53,
          27.19,
          26.94,
          26.85,
          26.75,
          26.71,
          26.74,
          26.95,
          27.43,
          27.9,
          28.12,
          27.94,
          27.65,
          27.37,
          27.35,
          27.49,
          27.71,
          27.74,
          27.64,
          27.61,
          27.79,
          27.9,
          27.84,
          27.5,
          26.97,
          26.4,
          25.99,
          25.78,
          25.7,
          25.66,
          25.76,
          26.1,
          26.65,
          27.2,
          27.4,
          27.23,
          26.93,
          26.59,
          26.39,
          26.28,
          26.17,
          26.09,
          26.12,
          26.49,
          27.14,
          27.87,
          28.46,
          28.75,
          28.8,
          28.81,
          28.88,
          29.01,
          29.02,
          28.97,
          28.87,
          28.78,
          28.68,
          28.59,
          28.16,
          27.39,
          26.42,
          25.79,
          25.44,
          25.32,
          25.14,
          25.01,
          25.08,
          25.55,
          26.17,
          26.62,
          26.68,
          26.49,
          26.1,
          25.8,
          25.58,
          25.41,
          25.16,
          24.93,
          24.96,
          25.44,
          26.17,
          26.78,
          27,
          26.88,
          26.65,
          26.4,
          26.2,
          26.05,
          25.88,
          25.81,
          25.88,
          26.26,
          26.76,
          27.25,
          27.49,
          27.47,
          27.2,
          26.86,
          26.63,
          26.48,
          26.37,
          26.31,
          26.44,
          26.81,
          27.29,
          27.8,
          28.18,
          28.24,
          28.06,
          27.85,
          27.83,
          27.97,
          28.03,
          27.76,
          27.51,
          27.41,
          27.58,
          27.56,
          27.48,
          27.42,
          27.35,
          27.2,
          27.08,
          27.05,
          27.07,
          26.97,
          26.95,
          27.08,
          27.43,
          27.76,
          27.91,
          27.87,
          27.74,
          27.63,
          27.52,
          27.44,
          27.38,
          27.3,
          27.22,
          27.36,
          27.65,
          28.02,
          28.03,
          27.69,
          27.21,
          26.85,
          26.71,
          26.48,
          26.15,
          25.81,
          25.8,
          26.1,
          26.73,
          27.31,
          27.69,
          27.62,
          27.4,
          27.26,
          27.3,
          27.48,
          27.62,
          27.56,
          27.3,
          27.09,
          27.18,
          27.37,
          27.45,
          27.18,
          26.74,
          26.15,
          25.69,
          25.37,
          25.17,
          25.02,
          25,
          25.35,
          26.01,
          26.67,
          26.99,
          27.04,
          26.92,
          26.73,
          26.52,
          26.36,
          26.12,
          25.88,
          25.79,
          26.08,
          26.68,
          27.36,
          27.84,
          27.94,
          27.75,
          27.53,
          27.47,
          27.72,
          28.03,
          28.18,
          28.14,
          28.09,
          28.14,
          28.04,
          27.66,
          27,
          26.25,
          25.61,
          25.21,
          25.07,
          25.03,
          25.02,
          25.22,
          25.68,
          26.37,
          26.95,
          27.28,
          27.21,
          26.81,
          26.33,
          25.93,
          25.7,
          25.58,
          25.58,
          25.77,
          26.15,
          26.71,
          27.21,
          27.57,
          27.64,
          27.54,
          27.32,
          27.13,
          26.98,
          26.73,
          26.41,
          26.21,
          26.44,
          26.96,
          27.38,
          27.47,
          27.24,
          26.89,
          26.64,
          26.51,
          26.54,
          26.5,
          26.35,
          26.22,
          26.41,
          27.03,
          27.73,
          28.04,
          27.82,
          27.34,
          27.02,
          27,
          27.21,
          27.31,
          27.28,
          27.19,
          27.34,
          27.82,
          28.38,
          28.76,
          28.83,
          28.81,
          28.82,
          28.93,
          29.14,
          29.25,
          29.26,
          29.12,
          29.01,
          28.88,
          28.62,
          28.22,
          27.59,
          26.93,
          26.42,
          26.14,
          26.02,
          26.01,
          26.06,
          26.3,
          26.71,
          27.35,
          27.89,
          28.13,
          27.97,
          27.43,
          26.84,
          26.38,
          26.06,
          25.84,
          25.64,
          25.72,
          26.02,
          26.6,
          27.18,
          27.61,
          27.64,
          27.38,
          27.18,
          27.25,
          27.47,
          27.57,
          27.43,
          27.39,
          27.59,
          28.01,
          28.34,
          28.37,
          28.1,
          27.57,
          27.1,
          26.95,
          27.06,
          27.18,
          27.17,
          27.14,
          27.35,
          27.7,
          27.87,
          27.75,
          27.35,
          26.88,
          26.38,
          25.87,
          25.54,
          25.4,
          25.43,
          25.59,
          25.94,
          26.46,
          27.03,
          27.35,
          27.28,
          26.89,
          26.46,
          26.09,
          25.9,
          25.69,
          25.63,
          25.67,
          25.94,
          26.31,
          26.62,
          26.84,
          26.8,
          26.48,
          26.04,
          25.75,
          25.72,
          25.76,
          25.8,
          25.97,
          26.44
         ],
         "y": [
          25.17,
          25.75,
          26.12,
          26.32,
          26.31,
          26.21,
          25.96,
          25.76,
          25.63,
          25.48,
          25.34,
          25.42,
          25.96,
          26.74,
          27.48,
          27.75,
          27.75,
          27.44,
          27.28,
          27.14,
          27.22,
          27.12,
          26.95,
          26.78,
          26.87,
          27.25,
          27.6,
          27.59,
          27.17,
          26.67,
          26.39,
          26.3,
          26.17,
          26.13,
          26.29,
          26.65,
          27.1,
          27.53,
          27.96,
          28.14,
          27.94,
          27.49,
          27.12,
          26.93,
          26.91,
          26.92,
          26.95,
          27,
          26.97,
          26.86,
          26.89,
          26.85,
          26.67,
          26.1,
          25.54,
          25.25,
          25.3,
          25.35,
          25.48,
          25.57,
          25.89,
          26.22,
          26.5,
          26.6,
          26.45,
          26.06,
          25.64,
          25.06,
          24.65,
          24.41,
          24.72,
          25.23,
          25.86,
          26.37,
          26.82,
          26.93,
          26.72,
          26.23,
          25.87,
          25.71,
          25.67,
          25.67,
          25.77,
          26.09,
          26.68,
          27.41,
          28.08,
          28.37,
          28.34,
          28.06,
          27.75,
          27.5,
          27.48,
          27.64,
          27.94,
          28.15,
          28.27,
          28.26,
          28.28,
          28.19,
          27.87,
          27.38,
          26.85,
          26.56,
          26.53,
          26.6,
          26.81,
          26.95,
          27.24,
          27.51,
          27.68,
          27.65,
          27.16,
          26.63,
          26.15,
          26.08,
          26.07,
          26.15,
          26.16,
          26.24,
          26.51,
          26.92,
          27.39,
          27.47,
          27.26,
          26.93,
          26.66,
          26.44,
          26.3,
          26.23,
          26.23,
          26.34,
          26.58,
          26.96,
          27.35,
          27.59,
          27.42,
          26.9,
          26.27,
          25.89,
          25.85,
          25.91,
          26,
          26.05,
          26.32,
          26.71,
          27,
          27.09,
          26.96,
          26.72,
          26.34,
          26.07,
          25.88,
          25.79,
          25.73,
          25.89,
          26.39,
          27.07,
          27.53,
          27.68,
          27.67,
          27.62,
          27.54,
          27.4,
          27.4,
          27.47,
          27.47,
          27.36,
          27.16,
          27.03,
          26.93,
          26.78,
          26.57,
          26.16,
          25.74,
          25.42,
          25.31,
          25.28,
          25.38,
          25.69,
          26.27,
          26.85,
          27.44,
          27.82,
          27.99,
          27.98,
          27.95,
          28.04,
          28.09,
          28.07,
          27.91,
          27.72,
          27.81,
          27.98,
          27.97,
          27.78,
          27.5,
          27.14,
          26.69,
          26.32,
          26.24,
          26.16,
          26.04,
          26.01,
          26.17,
          26.46,
          26.87,
          27.19,
          27.26,
          26.95,
          26.41,
          26.08,
          25.96,
          26,
          25.9,
          25.78,
          25.91,
          26.38,
          26.88,
          27.39,
          27.54,
          27.48,
          27.1,
          26.82,
          26.89,
          27.07,
          27.32,
          27.54,
          27.73,
          27.94,
          28.09,
          28.04,
          27.69,
          27.26,
          27.08,
          27.17,
          27.2,
          27.14,
          26.98,
          26.93,
          26.98,
          27.29,
          27.51,
          27.47,
          26.96,
          26.28,
          25.81,
          25.61,
          25.6,
          25.48,
          25.22,
          25.1,
          25.32,
          25.92,
          26.51,
          26.73,
          26.56,
          26.15,
          25.86,
          25.64,
          25.58,
          25.46,
          25.52,
          25.77,
          26.35,
          27.1,
          27.77,
          28.13,
          28.21,
          28.09,
          28,
          28.04,
          28.26,
          28.51,
          28.54,
          28.32,
          27.95,
          27.59,
          27.26,
          26.92,
          26.42,
          25.84,
          25.35,
          25.01,
          24.71,
          24.47,
          24.38,
          24.64,
          25.14,
          25.82,
          26.33,
          26.55,
          26.52,
          26.42,
          26.26,
          26.06,
          25.82,
          25.67,
          25.78,
          25.94,
          26.13,
          26.39,
          26.63,
          26.64,
          26.31,
          25.82,
          25.43,
          25.09,
          25,
          24.87,
          24.75,
          24.9,
          25.5,
          26.28,
          26.85,
          27.15,
          27.22,
          27.15,
          27.04,
          27.15,
          27.29,
          27.32,
          27.27,
          27.18,
          27.31,
          27.35,
          27.55,
          27.64,
          27.61,
          27.32,
          27.11,
          27.1,
          27.21,
          27.27,
          27.21,
          27.15,
          27.09,
          27.08,
          27.14,
          27.11,
          26.98,
          26.61,
          26.27,
          26.11,
          26.19,
          26.37,
          26.43,
          26.5,
          26.75,
          27.22,
          27.6,
          27.66,
          27.32,
          27,
          26.86,
          26.86,
          26.94,
          26.98,
          27.06,
          27.06,
          27.13,
          27.35,
          27.7,
          27.9,
          27.73,
          27.22,
          26.72,
          26.46,
          26.5,
          26.57,
          26.48,
          26.32,
          26.32,
          26.69,
          27.11,
          27.31,
          27.09,
          26.75,
          26.5,
          26.42,
          26.41,
          26.37,
          26.46,
          26.56,
          26.9,
          27.35,
          27.95,
          28.23,
          28.1,
          27.83,
          27.81,
          28.16,
          28.5,
          28.7,
          28.76,
          28.79,
          28.75,
          28.71,
          28.76,
          28.63,
          28.1,
          27.36,
          26.66,
          26.12,
          25.73,
          25.52,
          25.62,
          26.01,
          26.41,
          26.83,
          27.04,
          27.06,
          26.94,
          26.74,
          26.59,
          26.34,
          25.98,
          25.61,
          25.39,
          25.56,
          25.98,
          26.4,
          26.69,
          26.79,
          26.76,
          26.55,
          26.29,
          26.18,
          26.19,
          26.25,
          26.14,
          26.05,
          26.28,
          26.81,
          27.26,
          27.44,
          27.34,
          27.26,
          27.2,
          27.31,
          27.49,
          27.64,
          27.7,
          27.76,
          27.95,
          28.19,
          28.41,
          28.53,
          28.59,
          28.54,
          28.45,
          28.24,
          28.03,
          27.76,
          27.59,
          27.34,
          27.29,
          27.27,
          27.15,
          26.69,
          26.08,
          25.74,
          25.65,
          25.4,
          25.07,
          24.71,
          24.63,
          24.84,
          25.32,
          26.04,
          26.64,
          26.99,
          26.97,
          26.73,
          26.48,
          26.35,
          26.33,
          26.34,
          26.43,
          26.67,
          26.96,
          27.41,
          27.75,
          27.86,
          27.68,
          27.37,
          27.13,
          26.98,
          26.89,
          26.9,
          26.94,
          27.02,
          27.15,
          27.48,
          27.85,
          28.16,
          28.17,
          27.94,
          27.57,
          27.41,
          27.54,
          27.91,
          28.18,
          28.39,
          28.52,
          28.73,
          28.88,
          28.76,
          28.26,
          27.57,
          27.03,
          26.66,
          26.5,
          26.43,
          26.52,
          26.77,
          27.18,
          27.75,
          28.27,
          28.4,
          28.1,
          27.53,
          27.19,
          26.94,
          26.85,
          26.75,
          26.71,
          26.74,
          26.95,
          27.43,
          27.9,
          28.12,
          27.94,
          27.65,
          27.37,
          27.35,
          27.49,
          27.71,
          27.74,
          27.64,
          27.61,
          27.79,
          27.9,
          27.84,
          27.5,
          26.97,
          26.4,
          25.99,
          25.78,
          25.7,
          25.66,
          25.76,
          26.1,
          26.65,
          27.2,
          27.4,
          27.23,
          26.93,
          26.59,
          26.39,
          26.28,
          26.17,
          26.09,
          26.12,
          26.49,
          27.14,
          27.87,
          28.46,
          28.75,
          28.8,
          28.81,
          28.88,
          29.01,
          29.02,
          28.97,
          28.87,
          28.78,
          28.68,
          28.59,
          28.16,
          27.39,
          26.42,
          25.79,
          25.44,
          25.32,
          25.14,
          25.01,
          25.08,
          25.55,
          26.17,
          26.62,
          26.68,
          26.49,
          26.1,
          25.8,
          25.58,
          25.41,
          25.16,
          24.93,
          24.96,
          25.44,
          26.17,
          26.78,
          27,
          26.88,
          26.65,
          26.4,
          26.2,
          26.05,
          25.88,
          25.81,
          25.88,
          26.26,
          26.76,
          27.25,
          27.49,
          27.47,
          27.2,
          26.86,
          26.63,
          26.48,
          26.37,
          26.31,
          26.44,
          26.81,
          27.29,
          27.8,
          28.18,
          28.24,
          28.06,
          27.85,
          27.83,
          27.97,
          28.03,
          27.76,
          27.51,
          27.41,
          27.58,
          27.56,
          27.48,
          27.42,
          27.35,
          27.2,
          27.08,
          27.05,
          27.07,
          26.97,
          26.95,
          27.08,
          27.43,
          27.76,
          27.91,
          27.87,
          27.74,
          27.63,
          27.52,
          27.44,
          27.38,
          27.3,
          27.22,
          27.36,
          27.65,
          28.02,
          28.03,
          27.69,
          27.21,
          26.85,
          26.71,
          26.48,
          26.15,
          25.81,
          25.8,
          26.1,
          26.73,
          27.31,
          27.69,
          27.62,
          27.4,
          27.26,
          27.3,
          27.48,
          27.62,
          27.56,
          27.3,
          27.09,
          27.18,
          27.37,
          27.45,
          27.18,
          26.74,
          26.15,
          25.69,
          25.37,
          25.17,
          25.02,
          25,
          25.35,
          26.01,
          26.67,
          26.99,
          27.04,
          26.92,
          26.73,
          26.52,
          26.36,
          26.12,
          25.88,
          25.79,
          26.08,
          26.68,
          27.36,
          27.84,
          27.94,
          27.75,
          27.53,
          27.47,
          27.72,
          28.03,
          28.18,
          28.14,
          28.09,
          28.14,
          28.04,
          27.66,
          27,
          26.25,
          25.61,
          25.21,
          25.07,
          25.03,
          25.02,
          25.22,
          25.68,
          26.37,
          26.95,
          27.28,
          27.21,
          26.81,
          26.33,
          25.93,
          25.7,
          25.58,
          25.58,
          25.77,
          26.15,
          26.71,
          27.21,
          27.57,
          27.64,
          27.54,
          27.32,
          27.13,
          26.98,
          26.73,
          26.41,
          26.21,
          26.44,
          26.96,
          27.38,
          27.47,
          27.24,
          26.89,
          26.64,
          26.51,
          26.54,
          26.5,
          26.35,
          26.22,
          26.41,
          27.03,
          27.73,
          28.04,
          27.82,
          27.34,
          27.02,
          27,
          27.21,
          27.31,
          27.28,
          27.19,
          27.34,
          27.82,
          28.38,
          28.76,
          28.83,
          28.81,
          28.82,
          28.93,
          29.14,
          29.25,
          29.26,
          29.12,
          29.01,
          28.88,
          28.62,
          28.22,
          27.59,
          26.93,
          26.42,
          26.14,
          26.02,
          26.01,
          26.06,
          26.3,
          26.71,
          27.35,
          27.89,
          28.13,
          27.97,
          27.43,
          26.84,
          26.38,
          26.06,
          25.84,
          25.64,
          25.72,
          26.02,
          26.6,
          27.18,
          27.61,
          27.64,
          27.38,
          27.18,
          27.25,
          27.47,
          27.57,
          27.43,
          27.39,
          27.59,
          28.01,
          28.34,
          28.37,
          28.1,
          27.57,
          27.1,
          26.95,
          27.06,
          27.18,
          27.17,
          27.14,
          27.35,
          27.7,
          27.87,
          27.75,
          27.35,
          26.88,
          26.38,
          25.87,
          25.54,
          25.4,
          25.43,
          25.59,
          25.94,
          26.46,
          27.03,
          27.35,
          27.28,
          26.89,
          26.46,
          26.09,
          25.9,
          25.69,
          25.63,
          25.67,
          25.94,
          26.31,
          26.62,
          26.84,
          26.8,
          26.48,
          26.04,
          25.75,
          25.72,
          25.76,
          25.8,
          25.97,
          26.44,
          27.14
         ]
        }
       ],
       "layout": {
        "template": {
         "data": {
          "bar": [
           {
            "error_x": {
             "color": "#2a3f5f"
            },
            "error_y": {
             "color": "#2a3f5f"
            },
            "marker": {
             "line": {
              "color": "#E5ECF6",
              "width": 0.5
             },
             "pattern": {
              "fillmode": "overlay",
              "size": 10,
              "solidity": 0.2
             }
            },
            "type": "bar"
           }
          ],
          "barpolar": [
           {
            "marker": {
             "line": {
              "color": "#E5ECF6",
              "width": 0.5
             },
             "pattern": {
              "fillmode": "overlay",
              "size": 10,
              "solidity": 0.2
             }
            },
            "type": "barpolar"
           }
          ],
          "carpet": [
           {
            "aaxis": {
             "endlinecolor": "#2a3f5f",
             "gridcolor": "white",
             "linecolor": "white",
             "minorgridcolor": "white",
             "startlinecolor": "#2a3f5f"
            },
            "baxis": {
             "endlinecolor": "#2a3f5f",
             "gridcolor": "white",
             "linecolor": "white",
             "minorgridcolor": "white",
             "startlinecolor": "#2a3f5f"
            },
            "type": "carpet"
           }
          ],
          "choropleth": [
           {
            "colorbar": {
             "outlinewidth": 0,
             "ticks": ""
            },
            "type": "choropleth"
           }
          ],
          "contour": [
           {
            "colorbar": {
             "outlinewidth": 0,
             "ticks": ""
            },
            "colorscale": [
             [
              0,
              "#0d0887"
             ],
             [
              0.1111111111111111,
              "#46039f"
             ],
             [
              0.2222222222222222,
              "#7201a8"
             ],
             [
              0.3333333333333333,
              "#9c179e"
             ],
             [
              0.4444444444444444,
              "#bd3786"
             ],
             [
              0.5555555555555556,
              "#d8576b"
             ],
             [
              0.6666666666666666,
              "#ed7953"
             ],
             [
              0.7777777777777778,
              "#fb9f3a"
             ],
             [
              0.8888888888888888,
              "#fdca26"
             ],
             [
              1,
              "#f0f921"
             ]
            ],
            "type": "contour"
           }
          ],
          "contourcarpet": [
           {
            "colorbar": {
             "outlinewidth": 0,
             "ticks": ""
            },
            "type": "contourcarpet"
           }
          ],
          "heatmap": [
           {
            "colorbar": {
             "outlinewidth": 0,
             "ticks": ""
            },
            "colorscale": [
             [
              0,
              "#0d0887"
             ],
             [
              0.1111111111111111,
              "#46039f"
             ],
             [
              0.2222222222222222,
              "#7201a8"
             ],
             [
              0.3333333333333333,
              "#9c179e"
             ],
             [
              0.4444444444444444,
              "#bd3786"
             ],
             [
              0.5555555555555556,
              "#d8576b"
             ],
             [
              0.6666666666666666,
              "#ed7953"
             ],
             [
              0.7777777777777778,
              "#fb9f3a"
             ],
             [
              0.8888888888888888,
              "#fdca26"
             ],
             [
              1,
              "#f0f921"
             ]
            ],
            "type": "heatmap"
           }
          ],
          "heatmapgl": [
           {
            "colorbar": {
             "outlinewidth": 0,
             "ticks": ""
            },
            "colorscale": [
             [
              0,
              "#0d0887"
             ],
             [
              0.1111111111111111,
              "#46039f"
             ],
             [
              0.2222222222222222,
              "#7201a8"
             ],
             [
              0.3333333333333333,
              "#9c179e"
             ],
             [
              0.4444444444444444,
              "#bd3786"
             ],
             [
              0.5555555555555556,
              "#d8576b"
             ],
             [
              0.6666666666666666,
              "#ed7953"
             ],
             [
              0.7777777777777778,
              "#fb9f3a"
             ],
             [
              0.8888888888888888,
              "#fdca26"
             ],
             [
              1,
              "#f0f921"
             ]
            ],
            "type": "heatmapgl"
           }
          ],
          "histogram": [
           {
            "marker": {
             "pattern": {
              "fillmode": "overlay",
              "size": 10,
              "solidity": 0.2
             }
            },
            "type": "histogram"
           }
          ],
          "histogram2d": [
           {
            "colorbar": {
             "outlinewidth": 0,
             "ticks": ""
            },
            "colorscale": [
             [
              0,
              "#0d0887"
             ],
             [
              0.1111111111111111,
              "#46039f"
             ],
             [
              0.2222222222222222,
              "#7201a8"
             ],
             [
              0.3333333333333333,
              "#9c179e"
             ],
             [
              0.4444444444444444,
              "#bd3786"
             ],
             [
              0.5555555555555556,
              "#d8576b"
             ],
             [
              0.6666666666666666,
              "#ed7953"
             ],
             [
              0.7777777777777778,
              "#fb9f3a"
             ],
             [
              0.8888888888888888,
              "#fdca26"
             ],
             [
              1,
              "#f0f921"
             ]
            ],
            "type": "histogram2d"
           }
          ],
          "histogram2dcontour": [
           {
            "colorbar": {
             "outlinewidth": 0,
             "ticks": ""
            },
            "colorscale": [
             [
              0,
              "#0d0887"
             ],
             [
              0.1111111111111111,
              "#46039f"
             ],
             [
              0.2222222222222222,
              "#7201a8"
             ],
             [
              0.3333333333333333,
              "#9c179e"
             ],
             [
              0.4444444444444444,
              "#bd3786"
             ],
             [
              0.5555555555555556,
              "#d8576b"
             ],
             [
              0.6666666666666666,
              "#ed7953"
             ],
             [
              0.7777777777777778,
              "#fb9f3a"
             ],
             [
              0.8888888888888888,
              "#fdca26"
             ],
             [
              1,
              "#f0f921"
             ]
            ],
            "type": "histogram2dcontour"
           }
          ],
          "mesh3d": [
           {
            "colorbar": {
             "outlinewidth": 0,
             "ticks": ""
            },
            "type": "mesh3d"
           }
          ],
          "parcoords": [
           {
            "line": {
             "colorbar": {
              "outlinewidth": 0,
              "ticks": ""
             }
            },
            "type": "parcoords"
           }
          ],
          "pie": [
           {
            "automargin": true,
            "type": "pie"
           }
          ],
          "scatter": [
           {
            "fillpattern": {
             "fillmode": "overlay",
             "size": 10,
             "solidity": 0.2
            },
            "type": "scatter"
           }
          ],
          "scatter3d": [
           {
            "line": {
             "colorbar": {
              "outlinewidth": 0,
              "ticks": ""
             }
            },
            "marker": {
             "colorbar": {
              "outlinewidth": 0,
              "ticks": ""
             }
            },
            "type": "scatter3d"
           }
          ],
          "scattercarpet": [
           {
            "marker": {
             "colorbar": {
              "outlinewidth": 0,
              "ticks": ""
             }
            },
            "type": "scattercarpet"
           }
          ],
          "scattergeo": [
           {
            "marker": {
             "colorbar": {
              "outlinewidth": 0,
              "ticks": ""
             }
            },
            "type": "scattergeo"
           }
          ],
          "scattergl": [
           {
            "marker": {
             "colorbar": {
              "outlinewidth": 0,
              "ticks": ""
             }
            },
            "type": "scattergl"
           }
          ],
          "scattermapbox": [
           {
            "marker": {
             "colorbar": {
              "outlinewidth": 0,
              "ticks": ""
             }
            },
            "type": "scattermapbox"
           }
          ],
          "scatterpolar": [
           {
            "marker": {
             "colorbar": {
              "outlinewidth": 0,
              "ticks": ""
             }
            },
            "type": "scatterpolar"
           }
          ],
          "scatterpolargl": [
           {
            "marker": {
             "colorbar": {
              "outlinewidth": 0,
              "ticks": ""
             }
            },
            "type": "scatterpolargl"
           }
          ],
          "scatterternary": [
           {
            "marker": {
             "colorbar": {
              "outlinewidth": 0,
              "ticks": ""
             }
            },
            "type": "scatterternary"
           }
          ],
          "surface": [
           {
            "colorbar": {
             "outlinewidth": 0,
             "ticks": ""
            },
            "colorscale": [
             [
              0,
              "#0d0887"
             ],
             [
              0.1111111111111111,
              "#46039f"
             ],
             [
              0.2222222222222222,
              "#7201a8"
             ],
             [
              0.3333333333333333,
              "#9c179e"
             ],
             [
              0.4444444444444444,
              "#bd3786"
             ],
             [
              0.5555555555555556,
              "#d8576b"
             ],
             [
              0.6666666666666666,
              "#ed7953"
             ],
             [
              0.7777777777777778,
              "#fb9f3a"
             ],
             [
              0.8888888888888888,
              "#fdca26"
             ],
             [
              1,
              "#f0f921"
             ]
            ],
            "type": "surface"
           }
          ],
          "table": [
           {
            "cells": {
             "fill": {
              "color": "#EBF0F8"
             },
             "line": {
              "color": "white"
             }
            },
            "header": {
             "fill": {
              "color": "#C8D4E3"
             },
             "line": {
              "color": "white"
             }
            },
            "type": "table"
           }
          ]
         },
         "layout": {
          "annotationdefaults": {
           "arrowcolor": "#2a3f5f",
           "arrowhead": 0,
           "arrowwidth": 1
          },
          "autotypenumbers": "strict",
          "coloraxis": {
           "colorbar": {
            "outlinewidth": 0,
            "ticks": ""
           }
          },
          "colorscale": {
           "diverging": [
            [
             0,
             "#8e0152"
            ],
            [
             0.1,
             "#c51b7d"
            ],
            [
             0.2,
             "#de77ae"
            ],
            [
             0.3,
             "#f1b6da"
            ],
            [
             0.4,
             "#fde0ef"
            ],
            [
             0.5,
             "#f7f7f7"
            ],
            [
             0.6,
             "#e6f5d0"
            ],
            [
             0.7,
             "#b8e186"
            ],
            [
             0.8,
             "#7fbc41"
            ],
            [
             0.9,
             "#4d9221"
            ],
            [
             1,
             "#276419"
            ]
           ],
           "sequential": [
            [
             0,
             "#0d0887"
            ],
            [
             0.1111111111111111,
             "#46039f"
            ],
            [
             0.2222222222222222,
             "#7201a8"
            ],
            [
             0.3333333333333333,
             "#9c179e"
            ],
            [
             0.4444444444444444,
             "#bd3786"
            ],
            [
             0.5555555555555556,
             "#d8576b"
            ],
            [
             0.6666666666666666,
             "#ed7953"
            ],
            [
             0.7777777777777778,
             "#fb9f3a"
            ],
            [
             0.8888888888888888,
             "#fdca26"
            ],
            [
             1,
             "#f0f921"
            ]
           ],
           "sequentialminus": [
            [
             0,
             "#0d0887"
            ],
            [
             0.1111111111111111,
             "#46039f"
            ],
            [
             0.2222222222222222,
             "#7201a8"
            ],
            [
             0.3333333333333333,
             "#9c179e"
            ],
            [
             0.4444444444444444,
             "#bd3786"
            ],
            [
             0.5555555555555556,
             "#d8576b"
            ],
            [
             0.6666666666666666,
             "#ed7953"
            ],
            [
             0.7777777777777778,
             "#fb9f3a"
            ],
            [
             0.8888888888888888,
             "#fdca26"
            ],
            [
             1,
             "#f0f921"
            ]
           ]
          },
          "colorway": [
           "#636efa",
           "#EF553B",
           "#00cc96",
           "#ab63fa",
           "#FFA15A",
           "#19d3f3",
           "#FF6692",
           "#B6E880",
           "#FF97FF",
           "#FECB52"
          ],
          "font": {
           "color": "#2a3f5f"
          },
          "geo": {
           "bgcolor": "white",
           "lakecolor": "white",
           "landcolor": "#E5ECF6",
           "showlakes": true,
           "showland": true,
           "subunitcolor": "white"
          },
          "hoverlabel": {
           "align": "left"
          },
          "hovermode": "closest",
          "mapbox": {
           "style": "light"
          },
          "paper_bgcolor": "white",
          "plot_bgcolor": "#E5ECF6",
          "polar": {
           "angularaxis": {
            "gridcolor": "white",
            "linecolor": "white",
            "ticks": ""
           },
           "bgcolor": "#E5ECF6",
           "radialaxis": {
            "gridcolor": "white",
            "linecolor": "white",
            "ticks": ""
           }
          },
          "scene": {
           "xaxis": {
            "backgroundcolor": "#E5ECF6",
            "gridcolor": "white",
            "gridwidth": 2,
            "linecolor": "white",
            "showbackground": true,
            "ticks": "",
            "zerolinecolor": "white"
           },
           "yaxis": {
            "backgroundcolor": "#E5ECF6",
            "gridcolor": "white",
            "gridwidth": 2,
            "linecolor": "white",
            "showbackground": true,
            "ticks": "",
            "zerolinecolor": "white"
           },
           "zaxis": {
            "backgroundcolor": "#E5ECF6",
            "gridcolor": "white",
            "gridwidth": 2,
            "linecolor": "white",
            "showbackground": true,
            "ticks": "",
            "zerolinecolor": "white"
           }
          },
          "shapedefaults": {
           "line": {
            "color": "#2a3f5f"
           }
          },
          "ternary": {
           "aaxis": {
            "gridcolor": "white",
            "linecolor": "white",
            "ticks": ""
           },
           "baxis": {
            "gridcolor": "white",
            "linecolor": "white",
            "ticks": ""
           },
           "bgcolor": "#E5ECF6",
           "caxis": {
            "gridcolor": "white",
            "linecolor": "white",
            "ticks": ""
           }
          },
          "title": {
           "x": 0.05
          },
          "xaxis": {
           "automargin": true,
           "gridcolor": "white",
           "linecolor": "white",
           "ticks": "",
           "title": {
            "standoff": 15
           },
           "zerolinecolor": "white",
           "zerolinewidth": 2
          },
          "yaxis": {
           "automargin": true,
           "gridcolor": "white",
           "linecolor": "white",
           "ticks": "",
           "title": {
            "standoff": 15
           },
           "zerolinecolor": "white",
           "zerolinewidth": 2
          }
         }
        }
       }
      }
     },
     "metadata": {},
     "output_type": "display_data"
    }
   ],
   "source": [
    "\n",
    "fig = go.Figure()\n",
    "\n",
    "fig.add_trace(go.Scatter(x=X1, y=y1, mode=\"lines\", name=\"TOTAL\"))\n",
    "\n",
    "\n",
    "fig.show()"
   ]
  },
  {
   "cell_type": "code",
   "execution_count": 45,
   "metadata": {},
   "outputs": [],
   "source": [
    "from sklearn.model_selection import TimeSeriesSplit\n",
    "\n",
    "tss = TimeSeriesSplit(n_splits=5, test_size=24*365*1, gap=24)\n",
    "df = df.sort_index()"
   ]
  }
 ],
 "metadata": {
  "kernelspec": {
   "display_name": "gtda",
   "language": "python",
   "name": "python3"
  },
  "language_info": {
   "codemirror_mode": {
    "name": "ipython",
    "version": 3
   },
   "file_extension": ".py",
   "mimetype": "text/x-python",
   "name": "python",
   "nbconvert_exporter": "python",
   "pygments_lexer": "ipython3",
   "version": "3.9.16"
  },
  "orig_nbformat": 4
 },
 "nbformat": 4,
 "nbformat_minor": 2
}
